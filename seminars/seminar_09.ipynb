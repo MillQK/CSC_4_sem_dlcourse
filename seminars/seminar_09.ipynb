{
 "cells": [
  {
   "cell_type": "markdown",
   "metadata": {},
   "source": [
    "# Анализ тональности текста\n",
    "\n",
    "В этом семинаре мы познакомимся с задачей [анализа тональности текста](https://ru.wikipedia.org/wiki/Анализ_тональности_текста) (sentiment analysis). В кратце, нужно по отзыву/тексту определить его тональность: положительную или отрицательную окраску. Иными словами это задача классификации. Но для начала нужно подшготовить данные, получить некоторые численные представления слов, а дальше уже решать саму задачу.\n",
    "\n",
    "## Чтение данных\n",
    "\n",
    "Скачаем и распакуем [датасет](http://ai.stanford.edu/~amaas/data/sentiment/). "
   ]
  },
  {
   "cell_type": "code",
   "execution_count": 1,
   "metadata": {},
   "outputs": [],
   "source": [
    "# !wget http://ai.stanford.edu/~amaas/data/sentiment/aclImdb_v1.tar.gz\n",
    "# !tar -xvzf aclImdb_v1.tar.gz"
   ]
  },
  {
   "cell_type": "markdown",
   "metadata": {},
   "source": [
    "Теперь напишем функцию для чтения данных."
   ]
  },
  {
   "cell_type": "code",
   "execution_count": 2,
   "metadata": {},
   "outputs": [],
   "source": [
    "import os\n",
    "\n",
    "def read_raw_reviews(path):\n",
    "    raw_reviews, raw_ratings = [], []\n",
    "\n",
    "    for sentiment in ['neg', 'pos']:\n",
    "        for fname in os.listdir(os.path.join(path, sentiment)):\n",
    "            _, rating = fname.strip().split('_')\n",
    "            with open(os.path.join(path, os.path.join(sentiment, fname)), 'r', encoding='utf-8') as file:\n",
    "                raw_reviews.append(file.readlines()[0])\n",
    "            raw_ratings.append(int(rating[:-4]) > 5)\n",
    "        \n",
    "    return raw_reviews, raw_ratings"
   ]
  },
  {
   "cell_type": "code",
   "execution_count": 3,
   "metadata": {},
   "outputs": [],
   "source": [
    "path_to_train = './aclImdb/train/'\n",
    "path_to_test = './aclImdb/test/'\n",
    "\n",
    "raw_reviews_train, raw_ratings_train = read_raw_reviews(path_to_train)\n",
    "raw_reviews_test, raw_ratings_test = read_raw_reviews(path_to_test)"
   ]
  },
  {
   "cell_type": "code",
   "execution_count": 4,
   "metadata": {},
   "outputs": [
    {
     "data": {
      "text/plain": [
       "(25000, 25000)"
      ]
     },
     "execution_count": 4,
     "metadata": {},
     "output_type": "execute_result"
    }
   ],
   "source": [
    "len(raw_reviews_train), len(raw_reviews_test)"
   ]
  },
  {
   "cell_type": "markdown",
   "metadata": {},
   "source": [
    "Посмотрим на данные."
   ]
  },
  {
   "cell_type": "code",
   "execution_count": 5,
   "metadata": {},
   "outputs": [
    {
     "data": {
      "text/plain": [
       "('A truly, truly dire Canadian-German co-production, the ever-wonderful Rosanna Arquette plays an actress whose teenage daughter redefines the term \"problem child\" - a few uears prior to the \"action\" the child murdered her father, and mum took the fall for the offspring. Now she\\'s moved up to the Northwest US to start over, but her child still has a problem in that she\\'s devoted to her mother. So devoted in fact that she kills anyone who might be seen as a threat to their bond.<br /><br />Unfortunately Mandy Schaeffer (as the daughter) murders more than people - she delivers such a terrible performance that she also wipes out the movie, though the incoherent script, useless direction and appalling music (check out the saxophone the first time she displays her bikini-clad bod) don\\'t help any; we\\'re supposed to find her sexy and scary, but she fails on both counts. Almost completely unalluring and not even bad enough to be amusing (not to mention the fact that Arquette and Schaeffer don\\'t really convince as mother and daughter), all condolences to Miss Arquette and Jurgen Prochnow, both of whom are worthy of far more than this, and both of whom (particularly Rosanna) are the only sane reasons for anyone to sit through this farrago.<br /><br />One of the production companies is called Quality International Films - not since the three-hour \"Love, Lies And Murder\" (from Two Short Productions) has there been such a \"You must be joking\" credit.',\n",
       " False)"
      ]
     },
     "execution_count": 5,
     "metadata": {},
     "output_type": "execute_result"
    }
   ],
   "source": [
    "raw_reviews_train[0], raw_ratings_train[0]"
   ]
  },
  {
   "cell_type": "markdown",
   "metadata": {},
   "source": [
    "## Векторные представления слов\n",
    "\n",
    "Теперь загрузим библиотеку [`gensim`](https://github.com/RaRe-Technologies/gensim) для [тематического моделирования](https://ru.wikipedia.org/wiki/Тематическое_моделирование). В частности она имеет предобученные [векторные представления слов](https://en.wikipedia.org/wiki/Word_embedding) (word embedding), а также умеет их тренировать для любых корпусов."
   ]
  },
  {
   "cell_type": "code",
   "execution_count": 6,
   "metadata": {},
   "outputs": [
    {
     "name": "stderr",
     "output_type": "stream",
     "text": [
      "paramiko missing, opening SSH/SCP/SFTP paths will be disabled.  `pip install paramiko` to suppress\n"
     ]
    }
   ],
   "source": [
    "import gensim\n",
    "import gensim.downloader"
   ]
  },
  {
   "cell_type": "markdown",
   "metadata": {},
   "source": [
    "Для вывода предобученных векторов, можно воспользоваться `gensim.downloader.info()`."
   ]
  },
  {
   "cell_type": "code",
   "execution_count": 7,
   "metadata": {},
   "outputs": [
    {
     "data": {
      "text/plain": [
       "['fasttext-wiki-news-subwords-300',\n",
       " 'conceptnet-numberbatch-17-06-300',\n",
       " 'word2vec-ruscorpora-300',\n",
       " 'word2vec-google-news-300',\n",
       " 'glove-wiki-gigaword-50',\n",
       " 'glove-wiki-gigaword-100',\n",
       " 'glove-wiki-gigaword-200',\n",
       " 'glove-wiki-gigaword-300',\n",
       " 'glove-twitter-25',\n",
       " 'glove-twitter-50',\n",
       " 'glove-twitter-100',\n",
       " 'glove-twitter-200',\n",
       " '__testing_word2vec-matrix-synopsis']"
      ]
     },
     "execution_count": 7,
     "metadata": {},
     "output_type": "execute_result"
    }
   ],
   "source": [
    "list(gensim.downloader.info()['models'].keys())"
   ]
  },
  {
   "cell_type": "markdown",
   "metadata": {},
   "source": [
    "Выбирем `glove-twitter-100` (можно любой другой, но желательно чтобы оба домена были близкими)."
   ]
  },
  {
   "cell_type": "code",
   "execution_count": 8,
   "metadata": {
    "scrolled": true
   },
   "outputs": [
    {
     "name": "stdout",
     "output_type": "stream",
     "text": [
      "Word vocabulary size: 1193514\n"
     ]
    }
   ],
   "source": [
    "model_name = 'glove-twitter-100'\n",
    "model = gensim.downloader.load(model_name)\n",
    "print('Word vocabulary size: {}'.format(len(model.vocab)))"
   ]
  },
  {
   "cell_type": "markdown",
   "metadata": {},
   "source": [
    "Можно посмотреть на сами вектора слов."
   ]
  },
  {
   "cell_type": "code",
   "execution_count": 9,
   "metadata": {},
   "outputs": [
    {
     "data": {
      "text/plain": [
       "array([-4.0345e-01,  2.7251e-01,  2.1853e-01,  3.2440e-01, -3.9078e-01,\n",
       "        3.1568e-01,  6.7064e-01, -2.3172e-01,  2.7944e-01,  8.5353e-01,\n",
       "        3.1557e-01, -7.1326e-01, -5.1827e+00, -1.5941e-01, -3.6804e-01,\n",
       "        8.8010e-02, -4.8119e-01, -1.5729e-01,  2.3228e-02,  5.1899e-01,\n",
       "        3.8920e-01,  1.6812e-01, -4.8545e-01,  3.0454e-01,  3.9643e-01,\n",
       "        8.5730e-01,  3.2853e-01,  8.2905e-02,  8.4235e-02, -3.6721e-01,\n",
       "        1.5191e-01,  4.5757e-01, -5.3428e-01,  3.5136e-01, -6.5984e-01,\n",
       "        4.5150e-02,  3.7618e-01, -4.9815e-01, -2.4063e-01,  5.0031e-02,\n",
       "       -4.3774e-01, -7.3420e-03,  7.1933e-02, -2.3923e-01,  5.2413e-01,\n",
       "       -1.2460e-01,  1.3120e-01,  2.7869e-01, -5.6155e-01,  2.7182e-01,\n",
       "       -2.4129e-01,  4.0371e-01, -8.9041e-02, -9.9831e-02,  4.4765e-01,\n",
       "        5.2124e-01,  2.0899e-01, -4.1132e-02, -7.1021e-02,  3.6736e-01,\n",
       "        2.3234e-01,  1.6121e-01,  2.1826e-01, -3.1339e-03,  2.9962e-01,\n",
       "       -3.2263e-01, -2.8183e-01,  2.0653e-01, -4.0681e-01, -3.5025e-01,\n",
       "       -4.3478e-01,  1.2742e-01,  2.9158e-01, -3.1403e-01,  3.1331e-01,\n",
       "       -4.6328e-01, -1.5559e-01, -1.6718e-01, -3.7788e-01,  3.4676e-02,\n",
       "        1.0001e+00,  2.9203e-01, -2.3518e-01, -3.5583e-01,  1.7430e-01,\n",
       "        2.7340e-01,  4.1257e-02,  1.0445e-01, -2.0419e-01,  3.4141e-01,\n",
       "       -4.4132e-01,  6.1519e-01,  2.0225e-02,  2.4763e-01, -3.9147e-01,\n",
       "       -8.2666e-02, -1.2414e-01, -3.5999e-01, -7.5024e-02,  7.6949e-02],\n",
       "      dtype=float32)"
      ]
     },
     "execution_count": 9,
     "metadata": {},
     "output_type": "execute_result"
    }
   ],
   "source": [
    "# now you can get word vectors !\n",
    "model.get_vector('anything')"
   ]
  },
  {
   "cell_type": "markdown",
   "metadata": {},
   "source": [
    "А можно посмотреть на самые \"похожие\" по мнению ворд2век."
   ]
  },
  {
   "cell_type": "code",
   "execution_count": 10,
   "metadata": {},
   "outputs": [
    {
     "data": {
      "text/plain": [
       "[('cheese', 0.8441256284713745),\n",
       " ('butter', 0.8039426803588867),\n",
       " ('toast', 0.7904373407363892),\n",
       " ('slice', 0.7709747552871704),\n",
       " ('chicken', 0.755040168762207),\n",
       " ('salad', 0.7542903423309326),\n",
       " ('cake', 0.7518615126609802),\n",
       " ('meat', 0.7513599395751953),\n",
       " ('soup', 0.747043251991272),\n",
       " ('dough', 0.7461358308792114)]"
      ]
     },
     "execution_count": 10,
     "metadata": {},
     "output_type": "execute_result"
    }
   ],
   "source": [
    "# or query similar words directly. Go play with it!\n",
    "model.most_similar('bread')"
   ]
  },
  {
   "cell_type": "code",
   "execution_count": 11,
   "metadata": {},
   "outputs": [
    {
     "data": {
      "text/plain": [
       "[('broker', 0.5820155739784241),\n",
       " ('bonuses', 0.5424473285675049),\n",
       " ('banker', 0.538511335849762),\n",
       " ('designer', 0.5197198390960693),\n",
       " ('merchandising', 0.4964233934879303),\n",
       " ('treet', 0.49220192432403564),\n",
       " ('shopper', 0.4920561909675598),\n",
       " ('part-time', 0.49128279089927673),\n",
       " ('freelance', 0.4843311905860901),\n",
       " ('aupair', 0.4796452522277832)]"
      ]
     },
     "execution_count": 11,
     "metadata": {},
     "output_type": "execute_result"
    }
   ],
   "source": [
    "model.most_similar(positive=[\"coder\", \"money\"], negative=[\"brain\"])"
   ]
  },
  {
   "cell_type": "markdown",
   "metadata": {},
   "source": [
    "Извлечём матрицу представлений слов."
   ]
  },
  {
   "cell_type": "code",
   "execution_count": 12,
   "metadata": {},
   "outputs": [],
   "source": [
    "import numpy as np"
   ]
  },
  {
   "cell_type": "code",
   "execution_count": 13,
   "metadata": {},
   "outputs": [
    {
     "name": "stdout",
     "output_type": "stream",
     "text": [
      "Embedding matrix shape: (1193516, 100)\n"
     ]
    }
   ],
   "source": [
    "# extract embeddings from model\n",
    "# use zero vector for pading and random vector for unknown token\n",
    "# pading index must be at index 0\n",
    "# unknown token must be at index 1\n",
    "embeddings_weights = padavan.get.vectors.grom.model # TODO\n",
    "\n",
    "assert np.allclose(embeddings_weights[0].sum(), 0), 'Padding token is not zero vector'\n",
    "print('Embedding matrix shape: {}'.format(embeddings_weights.shape))"
   ]
  },
  {
   "cell_type": "markdown",
   "metadata": {},
   "source": [
    "## Визуализация векторов\n",
    "\n",
    "Поскольку нормальные люди не умееют видеть пространство размерности больше чем 3, то нужно каким-нибудь способом понизить размерность до трёх, а лучше двух. Существует множество способов сделать это.\n",
    "Самые популярные это [метод главных компонент](https://ru.wikipedia.org/wiki/Метод_главных_компонент) (principal component analysis, `PCA`) и [стохастическое вложение соседей с t-распределением](https://ru.wikipedia.org/wiki/Стохастическое_вложение_соседей_с_t-распределением) (t-distributed stochastic neighbor embedding, `t-SNE`, `TSNE`).\n",
    "\n",
    "В силу того, что `PCA` это линейное преобразование, а `TSNE` пытается [сохранить расстояния](https://habr.com/post/267041/) после преобразования (которое не обязаетльно линейно), то будем использовать последний."
   ]
  },
  {
   "cell_type": "code",
   "execution_count": 14,
   "metadata": {},
   "outputs": [],
   "source": [
    "# Let's use that to plot 1000 most frequent words\n",
    "words = sorted(model.vocab.keys(), \n",
    "               key=lambda word: model.vocab[word].count,\n",
    "               reverse=True)[:1000]"
   ]
  },
  {
   "cell_type": "code",
   "execution_count": 15,
   "metadata": {},
   "outputs": [],
   "source": [
    "# for each word, compute it's vector with model\n",
    "word_vectors = student.gemme.vectors # TODO"
   ]
  },
  {
   "cell_type": "code",
   "execution_count": 16,
   "metadata": {},
   "outputs": [],
   "source": [
    "assert isinstance(word_vectors, np.ndarray)\n",
    "assert word_vectors.shape == (len(words), model.vectors.shape[-1])\n",
    "assert np.isfinite(word_vectors).all()"
   ]
  },
  {
   "cell_type": "code",
   "execution_count": 17,
   "metadata": {},
   "outputs": [],
   "source": [
    "from sklearn.manifold import TSNE"
   ]
  },
  {
   "cell_type": "code",
   "execution_count": 18,
   "metadata": {},
   "outputs": [],
   "source": [
    "# map word vectors onto 2d plane with PCA. Use good old sklearn api (fit, transform)\n",
    "# after that, normalize vectors to make sure they have zero mean and unit variance\n",
    "vectors_tsne = tisne.me # TODO"
   ]
  },
  {
   "cell_type": "code",
   "execution_count": 19,
   "metadata": {},
   "outputs": [],
   "source": [
    "assert vectors_tsne.shape == (len(word_vectors), 2), \"there must be a 2d vector for each word\"\n",
    "assert max(abs(vectors_tsne.mean(0))) < 1e-5, \"points must be zero-centered\"\n",
    "assert max(abs(1.0 - vectors_tsne.std(0))) < 1e-2, \"points must have unit variance\""
   ]
  },
  {
   "cell_type": "markdown",
   "metadata": {},
   "source": [
    "Волшебный код, который красиво рисует :)"
   ]
  },
  {
   "cell_type": "code",
   "execution_count": 20,
   "metadata": {},
   "outputs": [
    {
     "data": {
      "text/html": [
       "\n",
       "    <div class=\"bk-root\">\n",
       "        <a href=\"https://bokeh.pydata.org\" target=\"_blank\" class=\"bk-logo bk-logo-small bk-logo-notebook\"></a>\n",
       "        <span id=\"1001\">Loading BokehJS ...</span>\n",
       "    </div>"
      ]
     },
     "metadata": {},
     "output_type": "display_data"
    },
    {
     "data": {
      "application/javascript": [
       "\n",
       "(function(root) {\n",
       "  function now() {\n",
       "    return new Date();\n",
       "  }\n",
       "\n",
       "  var force = true;\n",
       "\n",
       "  if (typeof root._bokeh_onload_callbacks === \"undefined\" || force === true) {\n",
       "    root._bokeh_onload_callbacks = [];\n",
       "    root._bokeh_is_loading = undefined;\n",
       "  }\n",
       "\n",
       "  var JS_MIME_TYPE = 'application/javascript';\n",
       "  var HTML_MIME_TYPE = 'text/html';\n",
       "  var EXEC_MIME_TYPE = 'application/vnd.bokehjs_exec.v0+json';\n",
       "  var CLASS_NAME = 'output_bokeh rendered_html';\n",
       "\n",
       "  /**\n",
       "   * Render data to the DOM node\n",
       "   */\n",
       "  function render(props, node) {\n",
       "    var script = document.createElement(\"script\");\n",
       "    node.appendChild(script);\n",
       "  }\n",
       "\n",
       "  /**\n",
       "   * Handle when an output is cleared or removed\n",
       "   */\n",
       "  function handleClearOutput(event, handle) {\n",
       "    var cell = handle.cell;\n",
       "\n",
       "    var id = cell.output_area._bokeh_element_id;\n",
       "    var server_id = cell.output_area._bokeh_server_id;\n",
       "    // Clean up Bokeh references\n",
       "    if (id != null && id in Bokeh.index) {\n",
       "      Bokeh.index[id].model.document.clear();\n",
       "      delete Bokeh.index[id];\n",
       "    }\n",
       "\n",
       "    if (server_id !== undefined) {\n",
       "      // Clean up Bokeh references\n",
       "      var cmd = \"from bokeh.io.state import curstate; print(curstate().uuid_to_server['\" + server_id + \"'].get_sessions()[0].document.roots[0]._id)\";\n",
       "      cell.notebook.kernel.execute(cmd, {\n",
       "        iopub: {\n",
       "          output: function(msg) {\n",
       "            var id = msg.content.text.trim();\n",
       "            if (id in Bokeh.index) {\n",
       "              Bokeh.index[id].model.document.clear();\n",
       "              delete Bokeh.index[id];\n",
       "            }\n",
       "          }\n",
       "        }\n",
       "      });\n",
       "      // Destroy server and session\n",
       "      var cmd = \"import bokeh.io.notebook as ion; ion.destroy_server('\" + server_id + \"')\";\n",
       "      cell.notebook.kernel.execute(cmd);\n",
       "    }\n",
       "  }\n",
       "\n",
       "  /**\n",
       "   * Handle when a new output is added\n",
       "   */\n",
       "  function handleAddOutput(event, handle) {\n",
       "    var output_area = handle.output_area;\n",
       "    var output = handle.output;\n",
       "\n",
       "    // limit handleAddOutput to display_data with EXEC_MIME_TYPE content only\n",
       "    if ((output.output_type != \"display_data\") || (!output.data.hasOwnProperty(EXEC_MIME_TYPE))) {\n",
       "      return\n",
       "    }\n",
       "\n",
       "    var toinsert = output_area.element.find(\".\" + CLASS_NAME.split(' ')[0]);\n",
       "\n",
       "    if (output.metadata[EXEC_MIME_TYPE][\"id\"] !== undefined) {\n",
       "      toinsert[toinsert.length - 1].firstChild.textContent = output.data[JS_MIME_TYPE];\n",
       "      // store reference to embed id on output_area\n",
       "      output_area._bokeh_element_id = output.metadata[EXEC_MIME_TYPE][\"id\"];\n",
       "    }\n",
       "    if (output.metadata[EXEC_MIME_TYPE][\"server_id\"] !== undefined) {\n",
       "      var bk_div = document.createElement(\"div\");\n",
       "      bk_div.innerHTML = output.data[HTML_MIME_TYPE];\n",
       "      var script_attrs = bk_div.children[0].attributes;\n",
       "      for (var i = 0; i < script_attrs.length; i++) {\n",
       "        toinsert[toinsert.length - 1].firstChild.setAttribute(script_attrs[i].name, script_attrs[i].value);\n",
       "      }\n",
       "      // store reference to server id on output_area\n",
       "      output_area._bokeh_server_id = output.metadata[EXEC_MIME_TYPE][\"server_id\"];\n",
       "    }\n",
       "  }\n",
       "\n",
       "  function register_renderer(events, OutputArea) {\n",
       "\n",
       "    function append_mime(data, metadata, element) {\n",
       "      // create a DOM node to render to\n",
       "      var toinsert = this.create_output_subarea(\n",
       "        metadata,\n",
       "        CLASS_NAME,\n",
       "        EXEC_MIME_TYPE\n",
       "      );\n",
       "      this.keyboard_manager.register_events(toinsert);\n",
       "      // Render to node\n",
       "      var props = {data: data, metadata: metadata[EXEC_MIME_TYPE]};\n",
       "      render(props, toinsert[toinsert.length - 1]);\n",
       "      element.append(toinsert);\n",
       "      return toinsert\n",
       "    }\n",
       "\n",
       "    /* Handle when an output is cleared or removed */\n",
       "    events.on('clear_output.CodeCell', handleClearOutput);\n",
       "    events.on('delete.Cell', handleClearOutput);\n",
       "\n",
       "    /* Handle when a new output is added */\n",
       "    events.on('output_added.OutputArea', handleAddOutput);\n",
       "\n",
       "    /**\n",
       "     * Register the mime type and append_mime function with output_area\n",
       "     */\n",
       "    OutputArea.prototype.register_mime_type(EXEC_MIME_TYPE, append_mime, {\n",
       "      /* Is output safe? */\n",
       "      safe: true,\n",
       "      /* Index of renderer in `output_area.display_order` */\n",
       "      index: 0\n",
       "    });\n",
       "  }\n",
       "\n",
       "  // register the mime type if in Jupyter Notebook environment and previously unregistered\n",
       "  if (root.Jupyter !== undefined) {\n",
       "    var events = require('base/js/events');\n",
       "    var OutputArea = require('notebook/js/outputarea').OutputArea;\n",
       "\n",
       "    if (OutputArea.prototype.mime_types().indexOf(EXEC_MIME_TYPE) == -1) {\n",
       "      register_renderer(events, OutputArea);\n",
       "    }\n",
       "  }\n",
       "\n",
       "  \n",
       "  if (typeof (root._bokeh_timeout) === \"undefined\" || force === true) {\n",
       "    root._bokeh_timeout = Date.now() + 5000;\n",
       "    root._bokeh_failed_load = false;\n",
       "  }\n",
       "\n",
       "  var NB_LOAD_WARNING = {'data': {'text/html':\n",
       "     \"<div style='background-color: #fdd'>\\n\"+\n",
       "     \"<p>\\n\"+\n",
       "     \"BokehJS does not appear to have successfully loaded. If loading BokehJS from CDN, this \\n\"+\n",
       "     \"may be due to a slow or bad network connection. Possible fixes:\\n\"+\n",
       "     \"</p>\\n\"+\n",
       "     \"<ul>\\n\"+\n",
       "     \"<li>re-rerun `output_notebook()` to attempt to load from CDN again, or</li>\\n\"+\n",
       "     \"<li>use INLINE resources instead, as so:</li>\\n\"+\n",
       "     \"</ul>\\n\"+\n",
       "     \"<code>\\n\"+\n",
       "     \"from bokeh.resources import INLINE\\n\"+\n",
       "     \"output_notebook(resources=INLINE)\\n\"+\n",
       "     \"</code>\\n\"+\n",
       "     \"</div>\"}};\n",
       "\n",
       "  function display_loaded() {\n",
       "    var el = document.getElementById(\"1001\");\n",
       "    if (el != null) {\n",
       "      el.textContent = \"BokehJS is loading...\";\n",
       "    }\n",
       "    if (root.Bokeh !== undefined) {\n",
       "      if (el != null) {\n",
       "        el.textContent = \"BokehJS \" + root.Bokeh.version + \" successfully loaded.\";\n",
       "      }\n",
       "    } else if (Date.now() < root._bokeh_timeout) {\n",
       "      setTimeout(display_loaded, 100)\n",
       "    }\n",
       "  }\n",
       "\n",
       "\n",
       "  function run_callbacks() {\n",
       "    try {\n",
       "      root._bokeh_onload_callbacks.forEach(function(callback) {\n",
       "        if (callback != null)\n",
       "          callback();\n",
       "      });\n",
       "    } finally {\n",
       "      delete root._bokeh_onload_callbacks\n",
       "    }\n",
       "    console.debug(\"Bokeh: all callbacks have finished\");\n",
       "  }\n",
       "\n",
       "  function load_libs(css_urls, js_urls, callback) {\n",
       "    if (css_urls == null) css_urls = [];\n",
       "    if (js_urls == null) js_urls = [];\n",
       "\n",
       "    root._bokeh_onload_callbacks.push(callback);\n",
       "    if (root._bokeh_is_loading > 0) {\n",
       "      console.debug(\"Bokeh: BokehJS is being loaded, scheduling callback at\", now());\n",
       "      return null;\n",
       "    }\n",
       "    if (js_urls == null || js_urls.length === 0) {\n",
       "      run_callbacks();\n",
       "      return null;\n",
       "    }\n",
       "    console.debug(\"Bokeh: BokehJS not loaded, scheduling load and callback at\", now());\n",
       "    root._bokeh_is_loading = css_urls.length + js_urls.length;\n",
       "\n",
       "    function on_load() {\n",
       "      root._bokeh_is_loading--;\n",
       "      if (root._bokeh_is_loading === 0) {\n",
       "        console.debug(\"Bokeh: all BokehJS libraries/stylesheets loaded\");\n",
       "        run_callbacks()\n",
       "      }\n",
       "    }\n",
       "\n",
       "    function on_error() {\n",
       "      console.error(\"failed to load \" + url);\n",
       "    }\n",
       "\n",
       "    for (var i = 0; i < css_urls.length; i++) {\n",
       "      var url = css_urls[i];\n",
       "      const element = document.createElement(\"link\");\n",
       "      element.onload = on_load;\n",
       "      element.onerror = on_error;\n",
       "      element.rel = \"stylesheet\";\n",
       "      element.type = \"text/css\";\n",
       "      element.href = url;\n",
       "      console.debug(\"Bokeh: injecting link tag for BokehJS stylesheet: \", url);\n",
       "      document.body.appendChild(element);\n",
       "    }\n",
       "\n",
       "    for (var i = 0; i < js_urls.length; i++) {\n",
       "      var url = js_urls[i];\n",
       "      var element = document.createElement('script');\n",
       "      element.onload = on_load;\n",
       "      element.onerror = on_error;\n",
       "      element.async = false;\n",
       "      element.src = url;\n",
       "      console.debug(\"Bokeh: injecting script tag for BokehJS library: \", url);\n",
       "      document.head.appendChild(element);\n",
       "    }\n",
       "  };var element = document.getElementById(\"1001\");\n",
       "  if (element == null) {\n",
       "    console.error(\"Bokeh: ERROR: autoload.js configured with elementid '1001' but no matching script tag was found. \")\n",
       "    return false;\n",
       "  }\n",
       "\n",
       "  function inject_raw_css(css) {\n",
       "    const element = document.createElement(\"style\");\n",
       "    element.appendChild(document.createTextNode(css));\n",
       "    document.body.appendChild(element);\n",
       "  }\n",
       "\n",
       "  var js_urls = [\"https://cdn.pydata.org/bokeh/release/bokeh-1.1.0.min.js\", \"https://cdn.pydata.org/bokeh/release/bokeh-widgets-1.1.0.min.js\", \"https://cdn.pydata.org/bokeh/release/bokeh-tables-1.1.0.min.js\", \"https://cdn.pydata.org/bokeh/release/bokeh-gl-1.1.0.min.js\"];\n",
       "  var css_urls = [\"https://cdn.pydata.org/bokeh/release/bokeh-1.1.0.min.css\", \"https://cdn.pydata.org/bokeh/release/bokeh-widgets-1.1.0.min.css\", \"https://cdn.pydata.org/bokeh/release/bokeh-tables-1.1.0.min.css\"];\n",
       "\n",
       "  var inline_js = [\n",
       "    function(Bokeh) {\n",
       "      Bokeh.set_log_level(\"info\");\n",
       "    },\n",
       "    \n",
       "    function(Bokeh) {\n",
       "      \n",
       "    },\n",
       "    function(Bokeh) {} // ensure no trailing comma for IE\n",
       "  ];\n",
       "\n",
       "  function run_inline_js() {\n",
       "    \n",
       "    if ((root.Bokeh !== undefined) || (force === true)) {\n",
       "      for (var i = 0; i < inline_js.length; i++) {\n",
       "        inline_js[i].call(root, root.Bokeh);\n",
       "      }if (force === true) {\n",
       "        display_loaded();\n",
       "      }} else if (Date.now() < root._bokeh_timeout) {\n",
       "      setTimeout(run_inline_js, 100);\n",
       "    } else if (!root._bokeh_failed_load) {\n",
       "      console.log(\"Bokeh: BokehJS failed to load within specified timeout.\");\n",
       "      root._bokeh_failed_load = true;\n",
       "    } else if (force !== true) {\n",
       "      var cell = $(document.getElementById(\"1001\")).parents('.cell').data().cell;\n",
       "      cell.output_area.append_execute_result(NB_LOAD_WARNING)\n",
       "    }\n",
       "\n",
       "  }\n",
       "\n",
       "  if (root._bokeh_is_loading === 0) {\n",
       "    console.debug(\"Bokeh: BokehJS loaded, going straight to plotting\");\n",
       "    run_inline_js();\n",
       "  } else {\n",
       "    load_libs(css_urls, js_urls, function() {\n",
       "      console.debug(\"Bokeh: BokehJS plotting callback run at\", now());\n",
       "      run_inline_js();\n",
       "    });\n",
       "  }\n",
       "}(window));"
      ],
      "application/vnd.bokehjs_load.v0+json": "\n(function(root) {\n  function now() {\n    return new Date();\n  }\n\n  var force = true;\n\n  if (typeof root._bokeh_onload_callbacks === \"undefined\" || force === true) {\n    root._bokeh_onload_callbacks = [];\n    root._bokeh_is_loading = undefined;\n  }\n\n  \n\n  \n  if (typeof (root._bokeh_timeout) === \"undefined\" || force === true) {\n    root._bokeh_timeout = Date.now() + 5000;\n    root._bokeh_failed_load = false;\n  }\n\n  var NB_LOAD_WARNING = {'data': {'text/html':\n     \"<div style='background-color: #fdd'>\\n\"+\n     \"<p>\\n\"+\n     \"BokehJS does not appear to have successfully loaded. If loading BokehJS from CDN, this \\n\"+\n     \"may be due to a slow or bad network connection. Possible fixes:\\n\"+\n     \"</p>\\n\"+\n     \"<ul>\\n\"+\n     \"<li>re-rerun `output_notebook()` to attempt to load from CDN again, or</li>\\n\"+\n     \"<li>use INLINE resources instead, as so:</li>\\n\"+\n     \"</ul>\\n\"+\n     \"<code>\\n\"+\n     \"from bokeh.resources import INLINE\\n\"+\n     \"output_notebook(resources=INLINE)\\n\"+\n     \"</code>\\n\"+\n     \"</div>\"}};\n\n  function display_loaded() {\n    var el = document.getElementById(\"1001\");\n    if (el != null) {\n      el.textContent = \"BokehJS is loading...\";\n    }\n    if (root.Bokeh !== undefined) {\n      if (el != null) {\n        el.textContent = \"BokehJS \" + root.Bokeh.version + \" successfully loaded.\";\n      }\n    } else if (Date.now() < root._bokeh_timeout) {\n      setTimeout(display_loaded, 100)\n    }\n  }\n\n\n  function run_callbacks() {\n    try {\n      root._bokeh_onload_callbacks.forEach(function(callback) {\n        if (callback != null)\n          callback();\n      });\n    } finally {\n      delete root._bokeh_onload_callbacks\n    }\n    console.debug(\"Bokeh: all callbacks have finished\");\n  }\n\n  function load_libs(css_urls, js_urls, callback) {\n    if (css_urls == null) css_urls = [];\n    if (js_urls == null) js_urls = [];\n\n    root._bokeh_onload_callbacks.push(callback);\n    if (root._bokeh_is_loading > 0) {\n      console.debug(\"Bokeh: BokehJS is being loaded, scheduling callback at\", now());\n      return null;\n    }\n    if (js_urls == null || js_urls.length === 0) {\n      run_callbacks();\n      return null;\n    }\n    console.debug(\"Bokeh: BokehJS not loaded, scheduling load and callback at\", now());\n    root._bokeh_is_loading = css_urls.length + js_urls.length;\n\n    function on_load() {\n      root._bokeh_is_loading--;\n      if (root._bokeh_is_loading === 0) {\n        console.debug(\"Bokeh: all BokehJS libraries/stylesheets loaded\");\n        run_callbacks()\n      }\n    }\n\n    function on_error() {\n      console.error(\"failed to load \" + url);\n    }\n\n    for (var i = 0; i < css_urls.length; i++) {\n      var url = css_urls[i];\n      const element = document.createElement(\"link\");\n      element.onload = on_load;\n      element.onerror = on_error;\n      element.rel = \"stylesheet\";\n      element.type = \"text/css\";\n      element.href = url;\n      console.debug(\"Bokeh: injecting link tag for BokehJS stylesheet: \", url);\n      document.body.appendChild(element);\n    }\n\n    for (var i = 0; i < js_urls.length; i++) {\n      var url = js_urls[i];\n      var element = document.createElement('script');\n      element.onload = on_load;\n      element.onerror = on_error;\n      element.async = false;\n      element.src = url;\n      console.debug(\"Bokeh: injecting script tag for BokehJS library: \", url);\n      document.head.appendChild(element);\n    }\n  };var element = document.getElementById(\"1001\");\n  if (element == null) {\n    console.error(\"Bokeh: ERROR: autoload.js configured with elementid '1001' but no matching script tag was found. \")\n    return false;\n  }\n\n  function inject_raw_css(css) {\n    const element = document.createElement(\"style\");\n    element.appendChild(document.createTextNode(css));\n    document.body.appendChild(element);\n  }\n\n  var js_urls = [\"https://cdn.pydata.org/bokeh/release/bokeh-1.1.0.min.js\", \"https://cdn.pydata.org/bokeh/release/bokeh-widgets-1.1.0.min.js\", \"https://cdn.pydata.org/bokeh/release/bokeh-tables-1.1.0.min.js\", \"https://cdn.pydata.org/bokeh/release/bokeh-gl-1.1.0.min.js\"];\n  var css_urls = [\"https://cdn.pydata.org/bokeh/release/bokeh-1.1.0.min.css\", \"https://cdn.pydata.org/bokeh/release/bokeh-widgets-1.1.0.min.css\", \"https://cdn.pydata.org/bokeh/release/bokeh-tables-1.1.0.min.css\"];\n\n  var inline_js = [\n    function(Bokeh) {\n      Bokeh.set_log_level(\"info\");\n    },\n    \n    function(Bokeh) {\n      \n    },\n    function(Bokeh) {} // ensure no trailing comma for IE\n  ];\n\n  function run_inline_js() {\n    \n    if ((root.Bokeh !== undefined) || (force === true)) {\n      for (var i = 0; i < inline_js.length; i++) {\n        inline_js[i].call(root, root.Bokeh);\n      }if (force === true) {\n        display_loaded();\n      }} else if (Date.now() < root._bokeh_timeout) {\n      setTimeout(run_inline_js, 100);\n    } else if (!root._bokeh_failed_load) {\n      console.log(\"Bokeh: BokehJS failed to load within specified timeout.\");\n      root._bokeh_failed_load = true;\n    } else if (force !== true) {\n      var cell = $(document.getElementById(\"1001\")).parents('.cell').data().cell;\n      cell.output_area.append_execute_result(NB_LOAD_WARNING)\n    }\n\n  }\n\n  if (root._bokeh_is_loading === 0) {\n    console.debug(\"Bokeh: BokehJS loaded, going straight to plotting\");\n    run_inline_js();\n  } else {\n    load_libs(css_urls, js_urls, function() {\n      console.debug(\"Bokeh: BokehJS plotting callback run at\", now());\n      run_inline_js();\n    });\n  }\n}(window));"
     },
     "metadata": {},
     "output_type": "display_data"
    }
   ],
   "source": [
    "import bokeh.models as bm, bokeh.plotting as pl\n",
    "from bokeh.io import output_notebook\n",
    "output_notebook()\n",
    "\n",
    "def draw_vectors(x, y, radius=10, alpha=0.25, color='blue',\n",
    "                 width=600, height=400, show=True, **kwargs):\n",
    "    \"\"\" draws an interactive plot for data points with auxilirary info on hover \"\"\"\n",
    "    \n",
    "    if isinstance(color, str):\n",
    "        color = [color] * len(x)\n",
    "        \n",
    "    data_source = bm.ColumnDataSource({ 'x' : x, 'y' : y, 'color': color, **kwargs })\n",
    "    fig = pl.figure(active_scroll='wheel_zoom', width=width, height=height)\n",
    "    fig.scatter('x', 'y', size=radius, color='color', alpha=alpha, source=data_source)\n",
    "    fig.add_tools(bm.HoverTool(tooltips=[(key, \"@\" + key) for key in kwargs.keys()]))\n",
    "    \n",
    "    if show:\n",
    "        pl.show(fig)\n",
    "        \n",
    "    return fig"
   ]
  },
  {
   "cell_type": "markdown",
   "metadata": {},
   "source": [
    "Создадим отображение из слов и индексы."
   ]
  },
  {
   "cell_type": "code",
   "execution_count": 21,
   "metadata": {},
   "outputs": [],
   "source": [
    "# create mapping from word to index and vice versa\n",
    "word2idx = # TODO\n",
    "idx2word = # TODO\n",
    "\n",
    "for i, word in enumerate(idx2word):\n",
    "    assert word2idx[word] == i, 'direct and inverse mappings are not correct!'\n",
    "assert len(model.vocab) == len(word2idx), 'there are no pad and unk tokesn'"
   ]
  },
  {
   "cell_type": "code",
   "execution_count": 22,
   "metadata": {},
   "outputs": [
    {
     "name": "stderr",
     "output_type": "stream",
     "text": [
      "BokehUserWarning: ColumnDataSource's columns must be of the same length. Current lengths: ('color', 1000), ('token', 1194), ('x', 1000), ('y', 1000)\n"
     ]
    },
    {
     "data": {
      "text/html": [
       "\n",
       "\n",
       "\n",
       "\n",
       "\n",
       "\n",
       "  <div class=\"bk-root\" id=\"dbe871be-f0a0-4e4b-aec1-6b9f817d8738\" data-root-id=\"1003\"></div>\n"
      ]
     },
     "metadata": {},
     "output_type": "display_data"
    },
    {
     "data": {
      "application/javascript": [
       "(function(root) {\n",
       "  function embed_document(root) {\n",
       "    \n",
       "  var docs_json = {\"582c1330-dbb5-419b-8e78-137a98bb69ab\":{\"roots\":{\"references\":[{\"attributes\":{\"below\":[{\"id\":\"1012\",\"type\":\"LinearAxis\"}],\"center\":[{\"id\":\"1016\",\"type\":\"Grid\"},{\"id\":\"1021\",\"type\":\"Grid\"}],\"left\":[{\"id\":\"1017\",\"type\":\"LinearAxis\"}],\"plot_height\":400,\"renderers\":[{\"id\":\"1038\",\"type\":\"GlyphRenderer\"}],\"title\":{\"id\":\"1042\",\"type\":\"Title\"},\"toolbar\":{\"id\":\"1028\",\"type\":\"Toolbar\"},\"x_range\":{\"id\":\"1004\",\"type\":\"DataRange1d\"},\"x_scale\":{\"id\":\"1008\",\"type\":\"LinearScale\"},\"y_range\":{\"id\":\"1006\",\"type\":\"DataRange1d\"},\"y_scale\":{\"id\":\"1010\",\"type\":\"LinearScale\"}},\"id\":\"1003\",\"subtype\":\"Figure\",\"type\":\"Plot\"},{\"attributes\":{\"ticker\":{\"id\":\"1013\",\"type\":\"BasicTicker\"}},\"id\":\"1016\",\"type\":\"Grid\"},{\"attributes\":{\"formatter\":{\"id\":\"1044\",\"type\":\"BasicTickFormatter\"},\"ticker\":{\"id\":\"1018\",\"type\":\"BasicTicker\"}},\"id\":\"1017\",\"type\":\"LinearAxis\"},{\"attributes\":{\"fill_alpha\":{\"value\":0.1},\"fill_color\":{\"value\":\"#1f77b4\"},\"line_alpha\":{\"value\":0.1},\"line_color\":{\"value\":\"#1f77b4\"},\"size\":{\"units\":\"screen\",\"value\":10},\"x\":{\"field\":\"x\"},\"y\":{\"field\":\"y\"}},\"id\":\"1037\",\"type\":\"Scatter\"},{\"attributes\":{\"fill_alpha\":{\"value\":0.25},\"fill_color\":{\"field\":\"color\"},\"line_alpha\":{\"value\":0.25},\"line_color\":{\"field\":\"color\"},\"size\":{\"units\":\"screen\",\"value\":10},\"x\":{\"field\":\"x\"},\"y\":{\"field\":\"y\"}},\"id\":\"1036\",\"type\":\"Scatter\"},{\"attributes\":{},\"id\":\"1023\",\"type\":\"WheelZoomTool\"},{\"attributes\":{\"text\":\"\"},\"id\":\"1042\",\"type\":\"Title\"},{\"attributes\":{\"callback\":null},\"id\":\"1004\",\"type\":\"DataRange1d\"},{\"attributes\":{},\"id\":\"1018\",\"type\":\"BasicTicker\"},{\"attributes\":{\"dimension\":1,\"ticker\":{\"id\":\"1018\",\"type\":\"BasicTicker\"}},\"id\":\"1021\",\"type\":\"Grid\"},{\"attributes\":{},\"id\":\"1044\",\"type\":\"BasicTickFormatter\"},{\"attributes\":{},\"id\":\"1046\",\"type\":\"BasicTickFormatter\"},{\"attributes\":{},\"id\":\"1049\",\"type\":\"Selection\"},{\"attributes\":{\"callback\":null},\"id\":\"1006\",\"type\":\"DataRange1d\"},{\"attributes\":{\"callback\":null,\"tooltips\":[[\"token\",\"@token\"]]},\"id\":\"1040\",\"type\":\"HoverTool\"},{\"attributes\":{\"source\":{\"id\":\"1002\",\"type\":\"ColumnDataSource\"}},\"id\":\"1039\",\"type\":\"CDSView\"},{\"attributes\":{},\"id\":\"1022\",\"type\":\"PanTool\"},{\"attributes\":{},\"id\":\"1010\",\"type\":\"LinearScale\"},{\"attributes\":{},\"id\":\"1008\",\"type\":\"LinearScale\"},{\"attributes\":{\"bottom_units\":\"screen\",\"fill_alpha\":{\"value\":0.5},\"fill_color\":{\"value\":\"lightgrey\"},\"left_units\":\"screen\",\"level\":\"overlay\",\"line_alpha\":{\"value\":1.0},\"line_color\":{\"value\":\"black\"},\"line_dash\":[4,4],\"line_width\":{\"value\":2},\"render_mode\":\"css\",\"right_units\":\"screen\",\"top_units\":\"screen\"},\"id\":\"1048\",\"type\":\"BoxAnnotation\"},{\"attributes\":{},\"id\":\"1013\",\"type\":\"BasicTicker\"},{\"attributes\":{},\"id\":\"1025\",\"type\":\"SaveTool\"},{\"attributes\":{\"data_source\":{\"id\":\"1002\",\"type\":\"ColumnDataSource\"},\"glyph\":{\"id\":\"1036\",\"type\":\"Scatter\"},\"hover_glyph\":null,\"muted_glyph\":null,\"nonselection_glyph\":{\"id\":\"1037\",\"type\":\"Scatter\"},\"selection_glyph\":null,\"view\":{\"id\":\"1039\",\"type\":\"CDSView\"}},\"id\":\"1038\",\"type\":\"GlyphRenderer\"},{\"attributes\":{\"callback\":null,\"data\":{\"color\":[\"blue\",\"blue\",\"blue\",\"blue\",\"blue\",\"blue\",\"blue\",\"blue\",\"blue\",\"blue\",\"blue\",\"blue\",\"blue\",\"blue\",\"blue\",\"blue\",\"blue\",\"blue\",\"blue\",\"blue\",\"blue\",\"blue\",\"blue\",\"blue\",\"blue\",\"blue\",\"blue\",\"blue\",\"blue\",\"blue\",\"blue\",\"blue\",\"blue\",\"blue\",\"blue\",\"blue\",\"blue\",\"blue\",\"blue\",\"blue\",\"blue\",\"blue\",\"blue\",\"blue\",\"blue\",\"blue\",\"blue\",\"blue\",\"blue\",\"blue\",\"blue\",\"blue\",\"blue\",\"blue\",\"blue\",\"blue\",\"blue\",\"blue\",\"blue\",\"blue\",\"blue\",\"blue\",\"blue\",\"blue\",\"blue\",\"blue\",\"blue\",\"blue\",\"blue\",\"blue\",\"blue\",\"blue\",\"blue\",\"blue\",\"blue\",\"blue\",\"blue\",\"blue\",\"blue\",\"blue\",\"blue\",\"blue\",\"blue\",\"blue\",\"blue\",\"blue\",\"blue\",\"blue\",\"blue\",\"blue\",\"blue\",\"blue\",\"blue\",\"blue\",\"blue\",\"blue\",\"blue\",\"blue\",\"blue\",\"blue\",\"blue\",\"blue\",\"blue\",\"blue\",\"blue\",\"blue\",\"blue\",\"blue\",\"blue\",\"blue\",\"blue\",\"blue\",\"blue\",\"blue\",\"blue\",\"blue\",\"blue\",\"blue\",\"blue\",\"blue\",\"blue\",\"blue\",\"blue\",\"blue\",\"blue\",\"blue\",\"blue\",\"blue\",\"blue\",\"blue\",\"blue\",\"blue\",\"blue\",\"blue\",\"blue\",\"blue\",\"blue\",\"blue\",\"blue\",\"blue\",\"blue\",\"blue\",\"blue\",\"blue\",\"blue\",\"blue\",\"blue\",\"blue\",\"blue\",\"blue\",\"blue\",\"blue\",\"blue\",\"blue\",\"blue\",\"blue\",\"blue\",\"blue\",\"blue\",\"blue\",\"blue\",\"blue\",\"blue\",\"blue\",\"blue\",\"blue\",\"blue\",\"blue\",\"blue\",\"blue\",\"blue\",\"blue\",\"blue\",\"blue\",\"blue\",\"blue\",\"blue\",\"blue\",\"blue\",\"blue\",\"blue\",\"blue\",\"blue\",\"blue\",\"blue\",\"blue\",\"blue\",\"blue\",\"blue\",\"blue\",\"blue\",\"blue\",\"blue\",\"blue\",\"blue\",\"blue\",\"blue\",\"blue\",\"blue\",\"blue\",\"blue\",\"blue\",\"blue\",\"blue\",\"blue\",\"blue\",\"blue\",\"blue\",\"blue\",\"blue\",\"blue\",\"blue\",\"blue\",\"blue\",\"blue\",\"blue\",\"blue\",\"blue\",\"blue\",\"blue\",\"blue\",\"blue\",\"blue\",\"blue\",\"blue\",\"blue\",\"blue\",\"blue\",\"blue\",\"blue\",\"blue\",\"blue\",\"blue\",\"blue\",\"blue\",\"blue\",\"blue\",\"blue\",\"blue\",\"blue\",\"blue\",\"blue\",\"blue\",\"blue\",\"blue\",\"blue\",\"blue\",\"blue\",\"blue\",\"blue\",\"blue\",\"blue\",\"blue\",\"blue\",\"blue\",\"blue\",\"blue\",\"blue\",\"blue\",\"blue\",\"blue\",\"blue\",\"blue\",\"blue\",\"blue\",\"blue\",\"blue\",\"blue\",\"blue\",\"blue\",\"blue\",\"blue\",\"blue\",\"blue\",\"blue\",\"blue\",\"blue\",\"blue\",\"blue\",\"blue\",\"blue\",\"blue\",\"blue\",\"blue\",\"blue\",\"blue\",\"blue\",\"blue\",\"blue\",\"blue\",\"blue\",\"blue\",\"blue\",\"blue\",\"blue\",\"blue\",\"blue\",\"blue\",\"blue\",\"blue\",\"blue\",\"blue\",\"blue\",\"blue\",\"blue\",\"blue\",\"blue\",\"blue\",\"blue\",\"blue\",\"blue\",\"blue\",\"blue\",\"blue\",\"blue\",\"blue\",\"blue\",\"blue\",\"blue\",\"blue\",\"blue\",\"blue\",\"blue\",\"blue\",\"blue\",\"blue\",\"blue\",\"blue\",\"blue\",\"blue\",\"blue\",\"blue\",\"blue\",\"blue\",\"blue\",\"blue\",\"blue\",\"blue\",\"blue\",\"blue\",\"blue\",\"blue\",\"blue\",\"blue\",\"blue\",\"blue\",\"blue\",\"blue\",\"blue\",\"blue\",\"blue\",\"blue\",\"blue\",\"blue\",\"blue\",\"blue\",\"blue\",\"blue\",\"blue\",\"blue\",\"blue\",\"blue\",\"blue\",\"blue\",\"blue\",\"blue\",\"blue\",\"blue\",\"blue\",\"blue\",\"blue\",\"blue\",\"blue\",\"blue\",\"blue\",\"blue\",\"blue\",\"blue\",\"blue\",\"blue\",\"blue\",\"blue\",\"blue\",\"blue\",\"blue\",\"blue\",\"blue\",\"blue\",\"blue\",\"blue\",\"blue\",\"blue\",\"blue\",\"blue\",\"blue\",\"blue\",\"blue\",\"blue\",\"blue\",\"blue\",\"blue\",\"blue\",\"blue\",\"blue\",\"blue\",\"blue\",\"blue\",\"blue\",\"blue\",\"blue\",\"blue\",\"blue\",\"blue\",\"blue\",\"blue\",\"blue\",\"blue\",\"blue\",\"blue\",\"blue\",\"blue\",\"blue\",\"blue\",\"blue\",\"blue\",\"blue\",\"blue\",\"blue\",\"blue\",\"blue\",\"blue\",\"blue\",\"blue\",\"blue\",\"blue\",\"blue\",\"blue\",\"blue\",\"blue\",\"blue\",\"blue\",\"blue\",\"blue\",\"blue\",\"blue\",\"blue\",\"blue\",\"blue\",\"blue\",\"blue\",\"blue\",\"blue\",\"blue\",\"blue\",\"blue\",\"blue\",\"blue\",\"blue\",\"blue\",\"blue\",\"blue\",\"blue\",\"blue\",\"blue\",\"blue\",\"blue\",\"blue\",\"blue\",\"blue\",\"blue\",\"blue\",\"blue\",\"blue\",\"blue\",\"blue\",\"blue\",\"blue\",\"blue\",\"blue\",\"blue\",\"blue\",\"blue\",\"blue\",\"blue\",\"blue\",\"blue\",\"blue\",\"blue\",\"blue\",\"blue\",\"blue\",\"blue\",\"blue\",\"blue\",\"blue\",\"blue\",\"blue\",\"blue\",\"blue\",\"blue\",\"blue\",\"blue\",\"blue\",\"blue\",\"blue\",\"blue\",\"blue\",\"blue\",\"blue\",\"blue\",\"blue\",\"blue\",\"blue\",\"blue\",\"blue\",\"blue\",\"blue\",\"blue\",\"blue\",\"blue\",\"blue\",\"blue\",\"blue\",\"blue\",\"blue\",\"blue\",\"blue\",\"blue\",\"blue\",\"blue\",\"blue\",\"blue\",\"blue\",\"blue\",\"blue\",\"blue\",\"blue\",\"blue\",\"blue\",\"blue\",\"blue\",\"blue\",\"blue\",\"blue\",\"blue\",\"blue\",\"blue\",\"blue\",\"blue\",\"blue\",\"blue\",\"blue\",\"blue\",\"blue\",\"blue\",\"blue\",\"blue\",\"blue\",\"blue\",\"blue\",\"blue\",\"blue\",\"blue\",\"blue\",\"blue\",\"blue\",\"blue\",\"blue\",\"blue\",\"blue\",\"blue\",\"blue\",\"blue\",\"blue\",\"blue\",\"blue\",\"blue\",\"blue\",\"blue\",\"blue\",\"blue\",\"blue\",\"blue\",\"blue\",\"blue\",\"blue\",\"blue\",\"blue\",\"blue\",\"blue\",\"blue\",\"blue\",\"blue\",\"blue\",\"blue\",\"blue\",\"blue\",\"blue\",\"blue\",\"blue\",\"blue\",\"blue\",\"blue\",\"blue\",\"blue\",\"blue\",\"blue\",\"blue\",\"blue\",\"blue\",\"blue\",\"blue\",\"blue\",\"blue\",\"blue\",\"blue\",\"blue\",\"blue\",\"blue\",\"blue\",\"blue\",\"blue\",\"blue\",\"blue\",\"blue\",\"blue\",\"blue\",\"blue\",\"blue\",\"blue\",\"blue\",\"blue\",\"blue\",\"blue\",\"blue\",\"blue\",\"blue\",\"blue\",\"blue\",\"blue\",\"blue\",\"blue\",\"blue\",\"blue\",\"blue\",\"blue\",\"blue\",\"blue\",\"blue\",\"blue\",\"blue\",\"blue\",\"blue\",\"blue\",\"blue\",\"blue\",\"blue\",\"blue\",\"blue\",\"blue\",\"blue\",\"blue\",\"blue\",\"blue\",\"blue\",\"blue\",\"blue\",\"blue\",\"blue\",\"blue\",\"blue\",\"blue\",\"blue\",\"blue\",\"blue\",\"blue\",\"blue\",\"blue\",\"blue\",\"blue\",\"blue\",\"blue\",\"blue\",\"blue\",\"blue\",\"blue\",\"blue\",\"blue\",\"blue\",\"blue\",\"blue\",\"blue\",\"blue\",\"blue\",\"blue\",\"blue\",\"blue\",\"blue\",\"blue\",\"blue\",\"blue\",\"blue\",\"blue\",\"blue\",\"blue\",\"blue\",\"blue\",\"blue\",\"blue\",\"blue\",\"blue\",\"blue\",\"blue\",\"blue\",\"blue\",\"blue\",\"blue\",\"blue\",\"blue\",\"blue\",\"blue\",\"blue\",\"blue\",\"blue\",\"blue\",\"blue\",\"blue\",\"blue\",\"blue\",\"blue\",\"blue\",\"blue\",\"blue\",\"blue\",\"blue\",\"blue\",\"blue\",\"blue\",\"blue\",\"blue\",\"blue\",\"blue\",\"blue\",\"blue\",\"blue\",\"blue\",\"blue\",\"blue\",\"blue\",\"blue\",\"blue\",\"blue\",\"blue\",\"blue\",\"blue\",\"blue\",\"blue\",\"blue\",\"blue\",\"blue\",\"blue\",\"blue\",\"blue\",\"blue\",\"blue\",\"blue\",\"blue\",\"blue\",\"blue\",\"blue\",\"blue\",\"blue\",\"blue\",\"blue\",\"blue\",\"blue\",\"blue\",\"blue\",\"blue\",\"blue\",\"blue\",\"blue\",\"blue\",\"blue\",\"blue\",\"blue\",\"blue\",\"blue\",\"blue\",\"blue\",\"blue\",\"blue\",\"blue\",\"blue\",\"blue\",\"blue\",\"blue\",\"blue\",\"blue\",\"blue\",\"blue\",\"blue\",\"blue\",\"blue\",\"blue\",\"blue\",\"blue\",\"blue\",\"blue\",\"blue\",\"blue\",\"blue\",\"blue\",\"blue\",\"blue\",\"blue\",\"blue\",\"blue\",\"blue\",\"blue\",\"blue\",\"blue\",\"blue\",\"blue\",\"blue\",\"blue\",\"blue\",\"blue\",\"blue\",\"blue\",\"blue\",\"blue\",\"blue\",\"blue\",\"blue\",\"blue\",\"blue\",\"blue\",\"blue\",\"blue\",\"blue\",\"blue\",\"blue\",\"blue\",\"blue\",\"blue\",\"blue\",\"blue\",\"blue\",\"blue\",\"blue\",\"blue\",\"blue\",\"blue\",\"blue\",\"blue\",\"blue\",\"blue\",\"blue\",\"blue\",\"blue\",\"blue\",\"blue\",\"blue\",\"blue\",\"blue\",\"blue\",\"blue\",\"blue\",\"blue\",\"blue\",\"blue\",\"blue\",\"blue\",\"blue\",\"blue\",\"blue\",\"blue\",\"blue\",\"blue\",\"blue\",\"blue\",\"blue\",\"blue\",\"blue\",\"blue\",\"blue\",\"blue\",\"blue\",\"blue\",\"blue\",\"blue\",\"blue\",\"blue\",\"blue\",\"blue\",\"blue\",\"blue\",\"blue\",\"blue\",\"blue\",\"blue\",\"blue\",\"blue\",\"blue\",\"blue\",\"blue\",\"blue\",\"blue\",\"blue\",\"blue\",\"blue\",\"blue\",\"blue\",\"blue\",\"blue\",\"blue\",\"blue\",\"blue\",\"blue\",\"blue\",\"blue\",\"blue\",\"blue\",\"blue\",\"blue\",\"blue\",\"blue\",\"blue\",\"blue\",\"blue\",\"blue\",\"blue\",\"blue\",\"blue\",\"blue\",\"blue\",\"blue\",\"blue\",\"blue\",\"blue\",\"blue\",\"blue\",\"blue\",\"blue\",\"blue\",\"blue\",\"blue\",\"blue\",\"blue\",\"blue\",\"blue\",\"blue\",\"blue\",\"blue\",\"blue\",\"blue\",\"blue\",\"blue\",\"blue\",\"blue\",\"blue\",\"blue\",\"blue\",\"blue\",\"blue\",\"blue\",\"blue\",\"blue\",\"blue\",\"blue\",\"blue\",\"blue\",\"blue\",\"blue\",\"blue\",\"blue\",\"blue\",\"blue\",\"blue\",\"blue\",\"blue\",\"blue\",\"blue\",\"blue\",\"blue\",\"blue\",\"blue\",\"blue\",\"blue\",\"blue\",\"blue\",\"blue\",\"blue\",\"blue\",\"blue\",\"blue\",\"blue\",\"blue\",\"blue\"],\"token\":[\"<user>\",\"mesmo\",\"\\u0627\\u0644\\u0641\",\"fais\",\"fox\",\"gata\",\"kayo\",\"all\\u00e1\",\"rage\",\"nouveau\",\"aight\",\"kaos\",\"precisando\",\"sneaky\",\"nomore\",\"\\u064a\\u0631\\u062c\\u0639\",\"dini\",\"monitor\",\"diia\",\"voter\",\"jodan\",\"floating\",\"herpes\",\"botar\",\"medya\",\"sombras\",\"\\u0639\\u064a\\u0646\\u0647\",\"trace\",\"levantarte\",\"overdose\",\"comm\",\"nlol\",\"pelada\",\"\\u062e\\u0627\\u0644\\u064a\",\"\\u062c\\u0646\\u0648\\u0628\",\"scratches\",\"mkin\",\"\\uc5c4\\ub9c8\",\"motiva\",\"m\\u00fcmk\\u00fcn\",\"sagt\",\"birden\",\"acordate\",\"izliyorum\",\"vivere\",\"dair\",\"dissapointed\",\"ismail\",\"tunisia\",\"renovar\",\"\\u0648\\u0636\\u064a\\u0642\",\"rozay\",\"andrade\",\"\\u015fark\\u0131s\\u0131\",\"apar\\u00eancia\",\"ojeda\",\"\\u0645\\u062c\\u0645\\u0639\",\"corral\",\"donovan\",\"mals\",\"amanah\",\"\\u00fanicamente\",\"greeks\",\"\\u0627\\u0644\\u0638\\u0646\\u0648\\u0646\",\"rt\\u3042\\u308a\\u304c\\u3068\\u3046\\u3054\\u3056\\u3044\\u307e\\u3057\\u305f\",\"beet\",\"\\u0633\\u062a\\u0627\\u0631\\u062f\\u0648\\u0644\",\"midway\",\"ssa\",\"\\u0639\\u062c\\u0628\\u0627\",\"\\u0631\\u0635\\u064a\\u062f\\u0643\",\"\\u0432\\u0435\\u0449\\u044c\",\"\\u0647\\u064f\\u0645\\u0652\",\"influenza\",\"encontrar\\u00e1n\",\"drunks\",\"velcro\",\"\\u0623\\u062d\\u062f\\u0647\\u0645\\u0627\",\"yanimda\",\"c\\u00e2ble\",\"dependencia\",\"meuu\",\"\\u0648\\u0627\\u0644\\u0639\\u0645\\u0631\",\"gsu\",\"intensely\",\"naaaaah\",\"\\u0639\\u0646\\u064a\\u062f\",\"huyo\",\"\\u0648\\u0643\\u0623\\u0646\\u064a\",\"loom\",\"\\u062d\\u0632\\u0646\\u062a\",\"f\\u00f8rste\",\"vefa\",\"come\\u00e7amos\",\"\\uc81c\\uc8fc\",\"spectator\",\"duplicate\",\"neno\",\"heng\",\"\\u062a\\u0645\\u0627\\u0631\\u0633\",\"\\u0646\\u0627\\u0643\\u0644\",\"aatw\",\"periodstories\",\"teachings\",\"\\u306a\\u3093\\u3067\\u3088\",\"piscinas\",\"chiropractic\",\"\\ub0b4\\uace0\",\"sokap\",\"totdat\",\"toughness\",\"hatnin\",\"noose\",\"varia\",\"insanlarda\",\"dises\",\"\\uc81c\\uc791\",\"honking\",\"deuih\",\"siirt\",\"abrazada\",\"besty\",\"\\u5065\\u4eba\",\"imaginations\",\"smaak\",\"famm\",\"ketrima\",\"\\u0628\\u0640\\u0639\\u0640\\u0636\",\"trabas\",\"egoist\",\"\\ubc24\\uc744\",\"\\u0623\\u0635\\u0644\\u0646\",\"\\u0e2b\\u0e19\\u0e32\\u0e27\",\"\\u0648\\u0628\\u062d\\u0645\\u062f\\u0647\\u0650\",\"g\\u00f6remiyorum\",\"low-cost\",\"problemes\",\"pintaba\",\"\\u0633\\u0643\\u0627\\u0646\\u0647\\u0627\",\"dorival\",\"dunhill\",\"\\ubb38\\ud654\",\"interactivo\",\"\\u57a2\",\"esame\",\"\\u0644\\u064a\\u0647\\u0647\",\"\\u21b9\",\"mitica\",\"bienvenidas\",\"t\\u3067\\u62e1\",\"\\u043f\\u0440\\u043e\\u0438\\u0437\\u0432\\u043e\\u0434\\u0438\\u0442\\u0435\\u043b\\u0435\\u0439\",\"angelous\",\"asiiikk\",\"effets\",\"bunkers\",\"salib\",\"d\\u00e9cid\\u00e9ment\",\"peraih\",\"deda\",\"\\u0623\\u0642\\u062f\\u0627\\u0631\\u0647\\u0645\",\"punyak\",\"neyine\",\"\\u0643\\u0644_\\u064a\\u0648\\u0645_\\u0641\\u0644\\u0648\\u0631\\u0632_\\u0627\\u0643\\u062b\\u0631\",\"bjooos\",\"hahaga\",\"\\u51db\\u3068\\u3057\\u3066\\u6642\\u96e8\",\"depressione\",\"paborito\",\"platanos\",\"planeas\",\"younus\",\"cekip\",\"interacci\\u00f3n\",\"\\ubc88\\ub3c4\",\"muncher\",\"bilkul\",\"ahuahua\",\"madge\",\"\\u0633\\u0631\\u0639\\u0647\",\"dwnload\",\"varl\\u0131\\u011f\\u0131n\",\"\\u0648\\u062c\\u0640\\u0647\",\"\\u0443our\",\"ranah\",\"tanginang\",\"\\u062f\\u064a\\u0645\\u0642\\u0631\\u0627\\u0637\\u064a\\u0629\",\"\\u0641\\u0627\\u064a\\u0641\",\"a\\u00f1oro\",\"\\ubc14\\uafd4\",\"durando\",\"espirituales\",\"\\u30de\\u30eb\",\"rebelion\",\"verificado\",\"haterade\",\"\\u064a\\u0639\\u0637\\u0648\\u0646\\u0647\",\"\\u0643\\u0627\\u0645\\u0644\\u0629n\",\"ac\\u0131d\\u0131r\",\"engkel\",\"sostenibilidad\",\"\\u0e0b\\u0e36\\u0e07\\u0e23\\u0e35\",\"\\u043f\\u0435\\u0439\",\"\\u0642\\u062f\\u0627\\u0645\\u0646\\u0627\",\"moors\",\"shamu\",\"bozal\",\"parriba\",\"romagna\",\"facina\",\"goei\",\"pi\\u0119kny\",\"\\u0644\\u0645\\u0647\",\"\\u064a\\u0635\\u0646\\u0641\",\"nyessek\",\"rso\",\"\\u0628\\u0627\\u0644\\u0623\\u0644\\u0648\\u0627\\u0646\",\"\\u0430\\u043d\\u0433\\u043b\\u0438\\u044f\",\"\\u0623\\u0644\\u0648\\u0646\\u0633\\u0648\",\"\\u0625\\u0641\\u0631\\u064a\\u0642\\u064a\\u0627\",\"recargo\",\"niggasbelike\",\"tiradera\",\"n\\u0628\\u0633\\u0628\\u0628\",\"\\u0625\\u0646\\u0633\\u0627\\u0646\\u064b\\u0627\",\"\\u043e\\u0442\\u0434\\u0430\\u0432\\u0430\\u0442\\u044c\",\"\\u0627\\u0644\\u0628\\u0643\\u0649\",\"trkenal\",\"grasioso\",\"nitey\",\"putiando\",\"ceceh\",\"\\u064a\\u062a\\u0645\\u0646\\u0627\\u0647\\u0627\",\"\\u0628\\u0627\\u0644\\u0642\\u0633\\u0637\",\"\\uc5ec\\uc790\\ub4e4\\uc740\",\"\\u0627\\u0644\\u0645\\u0639\\u0627\\u0631\\u0641\",\"bueeeeenos\",\"militaires\",\"unamerican\",\"chiudo\",\"makilala\",\"entretanto\",\"\\u0643\\u062a\\u0628\\u062a\\u064a\",\"familj\",\"mary-kate\",\"\\u30c4\\u30a4\\u53cb\",\"mentionn\\u00e9\",\"bhkn\",\"terrorizing\",\"mileyn\",\"\\u0e0a\\u0e47\\u0e2d\\u0e15\",\"hahaahahahah\",\"fazlad\\u0131r\",\"\\u30a4\\u30f3\\u30ca\\u30fc\",\"\\u3044\\u3068\\u3053\",\"\\u30bb\\u30f3\\u30d1\\u30a4\",\"\\u0648\\u0627\\u0644\\u0645\\u0648\\u0633\\u064a\\u0642\\u0649\",\"\\ub9de\\ucda4\\ubc95\",\"ganhem\",\"favol\",\"compae\",\"\\u0648\\u062d\\u062f\\u0627\\u0646\\u064a\",\"depend\\u00eancia\",\"nfsy\",\"\\u0648\\u0627\\u0644\\u0623\\u062e\\u0631\\u0629\",\"\\u5927\\u6cc9\\u6d0b\",\"getwell\",\"tadalafil\",\"\\u043e\\u0441\\u0442\\u0430\\u043b\\u044c\\u043d\\u044b\\u043c\",\"syudahh\",\"\\u0648\\u0627\\u0644\\u0634\\u062a\\u0627\\u0621\",\"suhaila\",\"dengaren\",\"\\u0628\\u0645\\u0646\\u0637\\u0642\",\"l'unique\",\"\\u0648\\u0627\\u0644\\u0623\\u0643\\u0631\\u0627\\u0645\",\"ltw\",\"n\\u0631\\u0633\\u0627\\u0644\\u0629\",\"eklendi\",\"reprovado\",\"sospeso\",\"\\u062d\\u0637\\u0648\\u0647\",\"tnd\",\"youngie\",\"verebilirim\",\"shb\",\"gemokk\",\"\\ub2e4\\uac00\\uc640\\uc8fc\\uc138\\uc694\",\"oy\\u00e9\",\"nvl\",\"bexxanesia\",\"neyini\",\"vizcarrondo\",\"\\u0628\\u062d\\u0645\\u062f\\u0627\\u0644\\u0644\\u0647\",\"starsstripesandmaplesyrup\",\"\\u0622\\u0644\\u0646\\u0648\\u0631\",\"\\uc6b8\\ub9bc\",\"\\uc798\\ubabb\\ud588\\ub124\",\"\\uc911\\uc5d0\\ub294\",\"kamsia\",\"\\ub610\\ub975\",\"jajajajajajaajajaj\",\"\\u307b\\u3093\\u3068\\u304b\",\"mojarte\",\"\\u0627\\u0644\\u0645\\u0634\\u0631\\u0642\\u0629\",\"thekillers\",\"\\ufee3\\ufee4\\ufedc\\ufee6\",\"seaport\",\"sopal\\u0131\",\"purgatorio\",\"verlopen\",\"re-create\",\"manipulen\",\"glennon\",\"fenerbah\\u00e7eli\\u0307yi\\u0307z\",\"cankles\",\"\\uc5c9\\ub6b1\\ud55c\",\"\\u0441\\u0430\\u043b\\u0430\\u0442\\u0430\",\"frds\",\"\\u043f\\u0440\\u0438\\u0432\\u0435\\u0437\\u043b\\u0430\",\"atascada\",\"wpc\",\"entrenar\\u00e1\",\"\\u0443\\u0442\\u0440\\u0435\\u043d\\u043d\\u044f\\u044f\",\"behtar\",\"\\u0622\\u062a\\u0648\\u0642\\u0639\",\"baikku\",\"kqyr\",\"rt\\ud574\\uc8fc\\uc2e0\\ubd84\",\"\\u0627\\u0644\\u062a\\u064e\\u0651\\u0627\\u0645\\u064e\\u0651\\u0629\",\"hostigamiento\",\"imperialistas\",\"aminno\",\"delu\",\"alimentation\",\"\\uc548\\uac00\\uace0\",\"\\u0642\\u0628\\u0639\\u0629\",\"\\u062a\\u0628\\u0644\\u064a\\u0646\\u064a\",\"mbayari\",\"desmoronar\",\"watchd\",\"\\u062e\\u064e\\u064a\\u0652\\u0631\\u0627\\u064b\",\"profondeur\",\"\\u0633\\u062a\\u0628\\u062d\\u062b\",\"konpem\",\"\\u064a\\u062a\\u0647\\u064a\\u0623\",\"hruf\",\"\\u6fc0\\u3057\\u3044\",\"ringers\",\"motorrad\",\"\\uc2dc\\ubbfc\\ub2e8\\uccb4\",\"londynie\",\"umursam\\u0131yormu\\u015f\",\"\\u03ba\\u03b1\\u03bd\\u03ad\\u03bd\\u03b1\\u03bd\",\"\\u30a8\\u30bf\\u30fc\\u30ca\\u30eb\\u30d5\\u30a9\\u30fc\\u30b9\\u30d6\\u30ea\\u30b6\\u30fc\\u30c9\",\"excavator\",\"ifadeler\",\"nyedh\",\"sonko\",\"reposando\",\"s\\u0131navlar\\u0131m\",\"dhira\",\"\\u0645\\u062a\\u0641\\u062c\\u0631\\u0627\\u062a\",\"\\u0627\\u0644\\u0628\\u0646\\u0649\",\"watte\",\"moribunda\",\"balanceada\",\"\\u30a2\\u30c3\\u30c8\",\"\\u062a\\u0639\\u0627\\u0641\",\"parlaient\",\"directoners\",\"apamo\",\"\\u0628\\u0627\\u0631\\u0627\",\"obtenerlo\",\"\\u3068\\u4e00\\u8a00\",\"m\\u0430k\\u0435\",\"\\u60dc\\u3057\\u304b\\u3063\\u305f\",\"sfilata\",\"\\u3082\\u3082\\u3044\\u308d\\u30af\\u30ea\\u30b9\\u30de\\u30b9\",\"mungkinrt\",\"\\u0623\\u062e\\u0630\\u062a\\u0647\\u0627\",\"\\u30d5\\u30a3\\u30c3\\u30c8\",\"cdmx\",\"wallaa\",\"best-friends\",\"\\u0627\\u0644\\u0627\\u064a\\u0637\\u0627\\u0644\\u064a\\u0647\",\"\\ucc28\\ub9ac\\uace0\",\"bluer\",\"\\uc8fc\\uba39\\uc744\",\"haaaaaaaaay\",\"nfrench\",\"omnium\",\"tyesha\",\"\\u064a\\u0625\\u062e\\u064a\",\"iftiralara\",\"nn\\u0623\\u062d\\u062f\",\"nthrough\",\"retwittean\",\"dinliyosun\",\"\\uc720\\ub290\\ub2d8\",\"\\u064a\\u0635\\u0644\\u062d\\u0647\\u0645\",\"\\u0639\\u0642\\u0644\\u064a\\u0651\",\"videogiochi\",\"kumsunkayankean\",\"emotivas\",\"\\u5ac1\\u306f\\u598a\\u5a20\\u4e2d\",\"\\u0644\\u062d\\u062f\\u064a\\u062b\\u0643\",\"smilie\",\"\\ud669\\uc7a5\\uc218\",\"\\u043d\\u0435\\u0432\\u043e\\u0437\\u043c\\u043e\\u0436\\u043d\\u043e\\u0433\\u043e\",\"kepodikit\",\"\\u3054\\u7121\\u6c99\\u6c70\\u3057\\u3066\\u307e\\u3059\",\"lezcano\",\"\\u3054\\u6765\\u5834\\u3042\\u308a\\u304c\\u3068\\u3046\\u3054\\u3056\\u3044\\u307e\\u3057\\u305f\",\"\\u0443\\u0447\\u0438\\u043b\\u0438\\u0449\\u0435\",\"ecouteur\",\"\\u0639\\u064a\\u0648\\u0646\\u0646\",\"nakakasira\",\"\\u063a\\u064a\\u0631\\u0651\",\"nermin\",\"\\u0628\\u0645\\u0642\\u0637\\u0639\",\"enviam\",\"saxton\",\"\\u3084\\u3066\",\"saatir\",\"\\u0648\\u0641\\u0622\\u0629\",\"dhak\",\"tanimam\",\"\\u064a\\u0631\\u062a\\u0622\\u062d\",\"funfa\",\"perderei\",\"\\u0623\\u0633\\u062a\\u063a\\u0641\\u0631\\u0627\\u0644\\u0644\\u06c1\",\"\\u30a4\\u30b1\\u30e1\\u30f3\\u304a\\u5144\\u3061\\u3083\\u3093\\u3068\\u7981\\u65ad\\u306e\\u604b\",\"\\uac10\\uc0ac\\ud568\\ub2e4\",\"desayunaste\",\"m\\u0430cca\\u0436\",\"n\\u3075\\u3041\",\"ritch\",\"\\u043f\\u0430\\u0440\\u0430\\u043d\\u043e\\u0439\\u044f\",\"\\u0441\\u043e\\u043f\\u0435\\u0440\\u043d\\u0438\\u043a\",\"vasile\",\"tweetwatching\",\"\\u0627\\u0644\\u0646\\u0628\\u064a\\u064e\",\"\\u0627\\u0644\\u062a\\u0642\\u0637\\u062a\\u0647\\u0627\",\"\\u0627\\u0644\\u0623\\u064a\\u0648\\u0628\\u064a\",\"\\u043f\\u043e\\u0434\\u0432\\u0435\\u0434\\u0435\\u043d\\u044b\",\"\\u0625\\u0646\\u062a\\u0642\\u0627\\u0621\",\"tkibet\",\"\\u00f6ffnet\",\"preguntoo\",\"lajula\",\"highpoint\",\"higienis\",\"devuelvanme\",\"\\u305d\\u3093\\u306a\\u3068\\u304d\\u306f\\u7126\\u3089\\u306a\\u3044\\u3067\",\"\\u0627\\u0644\\u0634\\u0639\",\"olsayd\\u0131n\\u0131z\",\"buonissimo\",\"\\u0e1b\\u0e49\\u0e32\\u0e14\",\"\\u043f\\u0435\\u0440\\u0435\\u0436\\u0438\\u0432\\u0430\\u044e\\u0442\",\"neesha\",\"a\\u00e7\\u0131klanm\\u0131\\u015f\",\"\\u0627\\u0644\\u0648\\u064e\\u0643\\u064a\\u0644\",\"lingu\\u00e1\",\"\\u5f8c\\u304b\\u3089\\u3084\\u3063\\u3068\\u3051\\u3070\\u3088\\u304b\\u3063\\u305f\\u3068\\u516c\\u958b\\u3057\\u305d\\u3046\",\"zuza\",\"agigantados\",\"\\u0436\\u0435\\u043b\\u0435\\u0437\\u0430\",\"goooooooooooooooooooooooooooooooooooooooooooooool\",\"\\u0644\\u0627\\u064a\\u062a\",\"privaten\",\"\\ub7fd\",\"\\u03b1\\u03b9\",\"dijalannya\",\"\\u0645\\u062a\\u0633\\u0627\\u0628\\u0642\",\"liin\",\"\\u3055\\u308f\",\"keponakanku\",\"\\u0645\\u0639\\u062a\\u0645\\u062f\\u0647\",\"liht\",\"\\u062a\\u064f\\u0633\\u0623\\u0644\",\"eldredge\",\"\\u062a\\u0646\\u0644\\u06c1\",\"etmiyosun\",\"\\u0623\\u0625\\u0630\\u0627\",\"\\u7d61\\u3093\\u3067\\u306d\",\"n\\u0625\\u0635\\u0651\\u0631\\u0641\\u0652\",\"\\u0628\\u0639\\u0636n\",\"freddi\",\"superaras\",\"\\u97f3\\u697d\\u306f\\u6b4c\\u8a5e\\u304c\\u306a\\u3044\\u306e\\u304c\\u597d\\u307e\\u3057\\u3044\",\"padr\\u00e9s\",\"\\u0e23\\u0e49\\u0e2d\\u0e07\\u0e44\\u0e2b\\u0e49\\u0e17\\u0e33\\u0e44\\u0e21\",\"eura\",\"ssbbw\",\"\\u064a\\u0632\\u062f\\u0647\\u0627\",\"fohh\",\"yfb\",\"\\u0648\\u0627\\u0648\\u0639\\u062f\\u0643\",\"cascando\",\"r\\u00f6ra\",\"\\u062a\\u0641\\u064a\\u0636\\u064f\",\"\\ub7f0\\uce6d\\uae30\\ub150\",\"gehoort\",\"tomatos\",\"\\u064a\\u0644\\u062d\\u0642\\u0648\\u0646\",\"\\u672c\\u304c\\u597d\\u304d\",\"g\\u00fcc\",\"menoa\",\"reinstates\",\"sk\\u00f6vde\",\"\\u0645\\u062d\\u062a\\u0627\\u0627\\u062c\",\"aktueller\",\"karess\",\"silom\",\"\\u0623\\u0628\\u0640\\u0640\\u064a\",\"\\u064a\\u06af\\u0648\\u0646\\u064e\",\"\\u30d5\\u30a9\\u30ed\\u30ef\\u30fc\\u306e\\u7686\\u69d8\\u3078\",\"\\u30e6\\u30cb\\u30aa\\u30f3\",\"\\ucee8\\uc149\\uc774\",\"\\uc0c8\\ud558\\uc580\",\"ajaaam\",\"diurutan\",\"helpus\",\"massaro\",\"n\\u3084\\u3063\\u305f\\u305c\",\"supersoulsunday\",\"\\u010deka\",\"\\u00e7okg\\u00fczeltayyip\",\"\\u0627\\u0644\\u0645\\u062e\\u0627\\u0644\\u0641\\u0647\",\"\\u0627\\u062d\\u062d\\u0628\\u0643\\u0643\",\"\\u043c\\u043e\\u043a\\u0440\\u043e\\u0439\",\"\\u0441\\u0435\\u0440\\u0445\\u0438\\u043e\",\"\\u0434\\u0438\\u043c\\u043a\\u0430\",\"thexx\",\"welldamn\",\"testtest\",\"przyjaci\\u00f3\\u0142k\\u0105\",\"ribuu\",\"nn\\u0646\\u0633\\u064a\\u062a\",\"ermoza\",\"c\\u00fcmlem\",\"\\u8a00\\u3044\\u307e\\u3057\\u305f\",\"\\u0648\\u0627\\u063a\\u0645\\u0631\",\"\\u062a\\u0636\\u0622\\u064a\\u0642\",\"\\u0441\\u043e\\u0431\\u0430\\u043a\\u0430\\u043c\\u0438\",\"\\u0430\\u0434\\u043c\\u0438\\u043d\\u0430\",\"sevebiliyor\",\"hoolie\",\"almayanlar\",\"\\u3088\\u30fc\\u3063\\u3057\",\"\\u0623\\u064a\\u0633\\u0631\\u0647\\u0645\\u0627\",\"nn\\u5b9a\\u671f\",\"encajado\",\"ayirmasin\",\"\\u5f15\\u304d\\u3053\\u3082\\u308a\\u305f\\u3044\",\"\\u0627\\u0644\\u0645\\u062a\\u062c\\u0645\\u0647\\u0631\\u064a\\u0646\",\"nusaybin\",\"ascencio\",\"\\u0642\\u0644\\u062a\\u0650\",\"\\u03bd\\u03b7\\u03c3\\u03af\",\"montagn\\u00e9\",\"apostarte\",\"\\u0648\\u0627\\u0644\\u062a\\u0637\\u0631\\u0641\",\"t\\u0131ra\\u015f\",\"favthings\",\"\\u3061\\u306a\\u307f\\u306b\\u79c1\",\"\\u015f\\u00f6yledir\",\"huminto\",\"\\u5e74\\u9593\\u306e\\u9593\\u306b\\u307e\\u305f\\u305d\\u306e\\u4eba\\u306b\\u604b\\u3092\\u3059\\u308b\\u3053\\u3068\",\"\\u0622\\u0646\\u064a\\u0642\\u0647\",\"solonely\",\"frankston\",\"\\u304b\\u3059\\u307f\\u679c\\u7a42\",\"tinry\",\"everybadeeeh\",\"\\u305f\\u304b\\u3063\",\"vinyle\",\"e\\u015fe\\u011fin\",\"\\u30c0\\u30a4\\u30a8\\u30fc\",\"spoo\",\"buchory\",\"\\u0628\\u0644\\u0627\\u063a\\u0627\\u064b\",\"jarama\",\"\\u304a\\u524d\\u306e\\u7f6a\\u3092\\u6570\\u3048\\u308d\",\"staras\",\"boilermaker\",\"\\u043f\\u0435\\u0434\\u043e\\u0444\\u0438\\u043b\\u043e\\u0432\",\"gabinetes\",\"\\u0635\\u062d\\u0628\\u0627\\u062a\",\"mintam\",\"\\u30da\\u30c3\\u30c8\\u5927\\u597d\\u304d\",\"musingkeun\",\"\\u30b7\\u30f3\\u30b8\\u541b\",\"panzazo\",\"\\u30dbn\",\"rehabilitasyon\",\"\\u5bd2\\u304b\\u3063\\u305f\\u30fc\",\"riaan\",\"\\u6065\\u305a\\u304b\\u3057\\u3044w\",\"pi\\u0142ka\",\"\\u3042\\u3052\\u305f\",\"mbare\",\"\\u0645\\u062b\\u0644\\u0627\\u0627\",\"filmlerinden\",\"\\u0443\\u0444\\u0430\\u0441\",\"bdfu\",\"redac\",\"\\u304d\\u3087\\u30fc\",\"koduklar\\u0131m\",\"\\u0627\\u0644\\u0641\\u0644\\u0643\\u064a\\u064a\\u0646\",\"alcove\",\"misica\",\"\\u064a\\u0633\\u062a\\u0648\\u0644\\u0648\\u0646\",\"habba\",\"yap\\u0131lanlara\",\"\\uc790\\ub7ec\\uac00\\uc57c\\uc9c0\",\"nghost\",\"\\u0646\\u0631\\u0633\\u0644\\u0647\\u0627\",\"d'encre\",\"pccl\",\"\\u0e2d\\u0e35\\u0e40\\u0e2b\\u0e35\\u0e49\\u0e22\\u0e22\",\"flameless\",\"soured\",\"\\u0648\\u0645\\u0627\\u0631\\u0633\",\"butforreal\",\"remontaremos\",\"\\u0e14\\u0e19\\u0e15\\u0e23\\u0e35\",\"d\\u00e9cal\\u00e9e\",\"unemnya\",\"\\u0644\\u0644\\u0625\\u0637\\u0644\\u0627\\u0639\",\"annivers\",\"makasoy\",\"\\u0442\\u0435\\u043c\\u043d\\u043e\\u043c\",\"\\u6a5f\\u4f53\\u304c\\u4e07\\u5168\\u3067\\u306f\\u306a\\u3044\\u3068\\u306f\",\"estudiaaaaaaar\",\"perminggu\",\"\\u0628\\u0633\\u062a\\u0627\\u0646\\u0627\\u064b\",\"aralari\",\"nahiara\",\"\\u0441\\u0442\\u0440\\u0430\\u0445\\u043e\\u0432\",\"\\u30b7\\u30b7\\u30c9\",\"imbecil.n-tonta\",\"simulates\",\"\\u0645\\u0644\\u064a\\u0627\",\"\\uaebc\\ub0b4\\ub294\",\"grammy-winning\",\"siul-siul\",\"\\u0644\\u0644\\u0625\\u0646\\u062c\\u0627\\u0632\",\"\\ub2ee\\uc740\\uaf34\",\"duluanrt\",\"onderzocht\",\"yhm\",\"\\u0648\\u062a\\u062c\\u0647\\u0644\",\"\\u629c\\u3051\\u308b\",\"buyuklugu\",\"kfoury\",\"sapiranga\",\"\\u0437\\u0430\\u0440\\u043f\\u043b\\u0430\\u0442\\u043e\\u0439\",\"\\u0639\\u062f\\u062f\\u064a\",\"\\u5e74\\u5206\\u304c\\u5f53\\u305f\\u308b\",\"cinquantaine\",\"kthe\",\"posessed\",\"\\u03b9\\u03c3\\u03c1\\u03b1\\u03ae\\u03bb\",\"\\u0644\\u0644\\u0639\\u0635\\u064a\\u0627\\u0646\",\"\\u30c0\\u30f3\\u30b8\\u30e7\\u30f3\",\"\\uff57\\uff57\\uff57nn\",\"cwx\",\"kaubutuhkan\",\"omoi\",\"sorcha\",\"\\u0440\\u0438\\u043a\",\"\\u062d\\u062c\\u0622\\u062c\",\"\\u064a\\u0627\\u062d\\u0638\\u0647\\u0627\",\"\\u77ed\\u5927\\u751f\",\"aissssh\",\"doesnot\",\"hissettirmek\",\"makled\",\"pooooorque\",\"soderberg\",\"w.a.\",\"\\u0447\\u0430\\u0448\\u0435\\u0447\\u043a\\u0443\",\"\\u0642\\u0640\\u0628\\u0640\\u0640\\u0644\",\"\\u064a\\u062c\\u0640\\u0631\\u062d\",\"\\u53cb\\u4eba\\u4ee3\\u7406\",\"\\u96e3\\u6ce2\\u5e97\",\"\\uce90\\ub9ad\\ud130\\ub3c4\",\"aalondon\",\"biraktik\",\"de\\u011fi\\u015fti\\u011fi\",\"finalnightofsin\",\"l'ann\\u00e9\",\"knapsack\",\"larynx\",\"lamented\",\"mabati\",\"n\\u0648\\u0623\\u0635\\u0644\\u062d\",\"nlooool\",\"n\\u314e\\u314e\",\"nn\\u30e1\\u30ea\\u30fc\\u30af\\u30ea\\u30b9\\u30de\\u30b9\",\"piatta\",\"salobral\",\"ressoi\",\"saman\\u0131\",\"oncelikle\",\"pensionado\",\"pre-sliced\",\"stressad\",\"rulitossensuales\",\"stabilizes\",\"tremayne\",\"tird\",\"ttawa\",\"sebai\",\"riped\",\"por\\u00e7\\u00f5es\",\"nn\\u0627\\u0644\\u0631\\u064a\\u062a\\u0648\\u064a\\u062a\",\"marianos\",\"kahun\",\"geakke\",\"disgustan\",\"ciluuuuk\",\"\\uce5c\\uad6c\\ub4e4\\uc544\",\"\\uc8fc\\uad00\\ud558\\ub294\",\"\\uc548\\uac78\\ub9ac\\uac8c\",\"\\u5fc3\\u611b\",\"\\u3044\\u3051\\u3044\\u3051\\u30fc\",\"\\u0645\\u0646\\u0647\\u0627\\u0631\\u0647\",\"\\u062a\\u064f\\u063a\\u0634\",\"\\u0431\\u0435\\u0437\\u0434\\u0435\\u0439\\u0441\\u0442\\u0432\\u0438\\u0435\",\"ukurane\",\"preterm\",\"nn\\u30de\\u30de\",\"lanolin\",\"gcode\",\"amandola\",\"\\u5168\\u5e2d\\u81ea\\u7531\",\"\\u06af\\u0644\\u0645\\u064e\\u0627\",\"\\u062d\\u0644\\u06c6\",\"\\u0627\\u0644\\u062c\\u0648\\u0627\\u0631\\u064a\",\"yalnis\",\"ptddddddddddddddddddddddr\",\"mantera\",\"gyalis\",\"edarling\",\"bazl\\u0131\",\"\\u672c\\u5f53\\u306b\\u3044\\u3044\\u306e\",\"\\u064a\\u0635\\u0648\\u0645\\u0647\\u0627\",\"\\u0627\\u0641\\u062a\\u064a\",\"sedakep\",\"kickout\",\"divulgamos\",\"\\ufe82\\u0635\\u0628\\u062d\",\"\\u3084\\u3063\\u307b\\u3046\",\"\\u0639\\u0645\\u0651\\u0643\",\"\\u043c\\u0430\\u043c\\u0443\\u043b\\u0435\\u0439\",\"sebarangan\",\"k\\u0131saltma\",\"credibili\",\"\\u8fd1\\u65e5\\u767a\\u58f2\",\"\\u0648\\u0642\\u0627\\u0644\\u062a\\u0644\\u064a\",\"\\u043f\\u0440\\u043e\\u0432\\u0435\\u0434\\u0435\\u043d\\u043d\\u043e\\u0435\",\"pointproven\",\"jjajajajj\",\"bocsi\",\"\\u7d76\\u5bfe\\u7684\\u7f8e\\u5c11\\u5973\",\"\\u0642\\u0627\\u0631\\u0627\",\"umrunuzda\",\"okutal\\u0131m\",\"galanazo\",\"#\\u0631\\u0645\\u0632\\u064a\\u0627\\u062a\",\"\\u0e16\\u0e37\\u0e2d\\u0e40\\u0e1b\\u0e47\\u0e19\\u0e40\\u0e23\\u0e37\\u0e48\\u0e2d\\u0e07\\u0e23\\u0e32\\u0e27\\u0e14\\u0e35\\u0e46\",\"\\u043e\\u043f\\u0440\\u0435\\u0434\\u0435\\u043b\\u044f\\u044e\\u0442\",\"percanten\",\"fourwheeling\",\"\\u97f3\\u697d\\u66f8\",\"\\u0646\\u0644\\u062a\\u0642\\u0649\",\"\\u00e4hnliches\",\"n\\uc880\",\"girersiniz\",\"\\u7f8e\\u98a8\\u85cd\\u751f\\u8a95\\u796d\",\"\\u0645\\u0627\\u062a\\u0644\\u0627\\u062d\\u0638\\u064a\\u0646\",\"tepeng\",\"kidsandcounting\",\"alcemos\",\"\\u0648\\u0627\\u0643\\u0645\\u0644\\u062a\",\"\\u0430\\u0442\\u0440\\u0438\\u0431\\u0443\\u0442\\u044b\",\"nn\\u30a4\\u30b8\\u30e1\\u306e\\u5185\\u5bb9n\",\"brutaaal\",\"\\u0e41\\u0e2e\\u0e48\\u0e01\\u0e46\\u0e46\",\"zafan\",\"ncorre\",\"cerdanya\",\"\\u305d\\u3046\\u3060\\u308d\\u3046\\u304b\",\"\\u043e\\u043a\\u0435\\u0430\\u043d\\u043e\\u043c\",\"mpah\",\"beanery\",\"\\u0e34\\u30fd\",\"\\u043f\\u0440\\u0430\\u043f\\u043e\\u0440\",\"metterli\",\"\\uff84\\uff9d\\uff84\\uff9d\",\"\\u0648\\u0627\\u0644\\u0625\\u0646\\u0643\\u0633\\u0627\\u0631\",\"speld\",\"incucai\",\"\\u79c1\\u306e\\u63a8\\u3057\\u30ad\\u30e3\\u30e9\\u3067\\u4f55rt\\u304f\\u308b\\u304b\",\"\\u0627\\u0644\\u062d\\u0643\\u0622\\u064a\\u0629\",\"puhahah\",\"compeletely\",\"\\u3053\\u308c\\u3089\\u306f\",\"vooooooltei\",\"jalia\",\"\\u7518\\u3048\\u4e0a\\u624b\",\"\\u0627\\u0628\\u064a\\u064a\\u0643\",\"nblah\",\"amoremio\",\"\\u0641\\u0627\\u062c\\u0623\\u0646\\u064a\",\"rams\\u00e9s\",\"bobolon\",\"\\u0648\\u0623\\u0633\\u0631\\u0641\",\"sombrios\",\"dusri\",\"\\u3053\\u308f\\u3044\\u3088\\u3046\",\"tbs_newsi\\u3055\\u3093\\u304b\\u3089rt\",\"geci\",\"\\u602f\\u3048\",\"\\u0444\\u0443\\u043d\\u043a\\u0446\\u0438\\u043e\\u043d\\u0430\\u043b\",\"lograrla\",\"\\uae30\\ud504\\ud2b8\\ubbf8\\ub97c\",\"\\u0627\\u0644\\u0645\\u0644\\u0645\\u0648\\u0633\",\"n\\u597d\\u304d\\u306a\\u6570\\u5b57\\u3092\\u601d\\u3044\\u6d6e\\u304b\\u3079\\u3066n\",\"abencoado\",\"\\u0639\\u0646\\u0643\\u0640\\u0640\\u0640\\u0640\\u0640\\u0645\",\"patroncito\",\"\\ufedf\\u0646\\u0622\",\"\\u062a\\u0640\\u0640\\u0640\\u0640\\u0631\\u0649\",\"n\\u025f\\u0131\",\"\\ud5c8\\ubb34\\ud558\\uac8c\",\"\\u062a\\u064f\\u0636\\u064a\\u0641\\u064e\",\"mini\\u00f1aa\",\"\\u60e8\\u6557\",\"\\u00e7\\u0131ld\\u0131rt\\u0131yor\",\"gomennasai\",\"\\u305d\\u3070\\u306b\\u3044\\u3066\\u304f\\u308c\\u308b\",\"waguruma\",\"ferretero\",\"\\u0e04\\u0e34\\u0e14\\u0e2d\\u0e30\\u0e44\\u0e23\",\"southview\",\"correctivos\",\"\\u0645\\u0646\\u0637\\u0642\\u0649\",\"n\\ufedf\\ufe82\",\"allar\",\"\\u062c\\u0631\\u064a\\u062f\\u0629_\\u0627\\u0644\\u0631\\u064a\\u0627\\u0636\",\"mucci\",\"\\u98a8\\u306e\\u8c37\\u306b\\u306f\\u30ca\\u30a6\\u30b7\\u30ab\",\"\\u0441\\u043e\\u0447\\u0456\",\"jahatkan\",\"\\u30d7\\u30ea\\u30b1\\u30c4\",\"tadelah\",\"cianna\",\"\\u0635\\u0641\\u062d\\u062a\\u0649\",\"morethanthis\",\"\\u5c45\\u9152\\u5c4b\\u3067\\u697d\\u3057\\u3044\\u3093\\u3067\\u306d\",\"unutamazsin\",\"devoolta\",\"\\u0645\\u0640\\u0646\\u0647\\u0640\\u0645\",\"porwue\",\"\\ubd24\\uc73c\\ub2c8\\uae4c\",\"\\u043a\\u043e\\u043d\\u0447\\u0430\\u0439\",\"gilaaaaaak\",\"\\u0648\\u062a\\u0633\\u0647\\u064a\\u0644\\u0643\",\"olmadanda\",\"\\ubc14\\ubcf4\\ub0d0\",\"yapiyorsunn\",\"despojados\",\"\\u0645\\u0639\\u0632\\u0648\\u0645\\u0629\",\"nyambungg\",\"\\ub534\\uc9c0\\ub77c\\ub514\\uc624\",\"\\u0430\\u0432\\u0442\\u043e\\u0441\\u0442\\u043e\\u043f\\u043e\\u043c\",\"ditebar\",\"\\u0639\\u0631\\u0641\\u062a\\u064c\",\"misni\\u00f1as\",\"\\u539f\\u767a\\u518d\\u7a3c\\u50cd\\u53cd\\u5bfe\",\"tinicam\",\"cheeriness\",\"\\u062a\\u0643\\u0634\\u0641\\u0647\\u0627\",\"khola\",\"\\u3063\\u3066\\u610f\\u5473\\u3060\\u3068\\u77e5\\u3063\\u3066\\u6253\\u3061\\u9707\\u3048\\u3066\\u308b\",\"rfb\",\"\\uc624\\uc2f9\",\"\\u0431\\u0440\\u043e\\u0441\\u0430\\u043b\",\"danyy\",\"\\u062c\\u0622\\u0645\\u0639\",\"laea\",\"\\u307e\\u3058\\u3059\\u304b\\uff57\",\"pctv\",\"\\ub9ac\\ucf54\",\"twitter\\u521d\\u3081\\u3066\",\"bijelkaar\",\"\\u0627\\u0644\\u0639\\u064f\\u0634\\u0651\\u0627\\u0642\",\"hamsterku\",\"\\u0648\\u0627\\u0644\\u0641\\u0639\\u0627\\u0644\\u064a\\u0627\\u062a\",\"mentionki\",\"\\u30b9\\u30b1\\u30d9\\u5238\",\"riess\",\"\\u97d3\\u56fd\\u5916\\u76f8\",\"yalaan\",\"bican\",\"\\u0628\\u062d\\u0644\\u0627\\u0648\\u062a\\u0647\\u0627\",\"flouting\",\"\\u0641\\u064a\\u0647\\u0640\\u0640\\u0622\",\"liel\\u0101k\\u0101\",\"\\u3053\\u3053\\u306a\",\"nn\\u3060\\u3088\\u306a\",\"\\u4e8b\\u696d\\u878d\\u8cc7\",\"redefinition\",\"\\uace8\\ubc18\",\"s\\u3055\\u3093\",\"ajiiiib\",\"\\u03b2\\u03b9\\u03b2\\u03bb\\u03b9\\u03bf\",\"chakhan\",\"\\u0627\\u0644\\u062d\\u0631\\u064a\",\"fucsias\",\"\\u0630\\u0642\\u0646\\u0643\",\"hermanilla\",\"\\u0637\\u0640\\u0639\\u0640\\u0645\",\"gitak\",\"\\u0636\\u0640\\u0640\\u0640\\u0640\\u0627\\u0642\\u0640\\u0640\\u0640\\u062a\",\"gantengin\",\"\\u0634\\u0634\\u064a\\u064e\",\"inchworm\",\"\\u0644\\u0636\\u062c\\u064a\\u062c\",\"inventarnos\",\"\\u0645\\u063a\\u0627\\u0632\\u0644\\u062c\\u064a\",\"kald\\u0131r\\u0131lacak\",\"\\u0648\\u0627\\u0641\\u062a\\u0647\",\"kismina\",\"\\u0648\\u064a\\u062e\\u0631\\u062c\\u0647\",\"kubuntu\",\"\\u064a\\u0633\\u062a\\u0646\\u0632\\u0641\",\"maalia\",\"\\u304a\\u98a8\\u5442\\u304b\\u3089\\u305f\\u3060\\u3044\\u307e\",\"mmuuaacchh\",\"\\u0baa\\u0ba3\\u0bcd\\u0ba3\\u0bbf\",\"lelakii\",\"\\u0648\\u0631\\u064a\\u0627\\u0636\\u064a\\u0627\\u062a\",\"komposisinya\",\"\\u0648\\u0627\\u0639\\u062a\\u062f\\u0649\",\"knks\",\"\\u0648\\u062a\\u0633\\u0648\\u064a\\u0647\",\"iyeelah\",\"\\u0644\\u0627\\u0633\\u062a\\u0631\\u062f\\u0627\\u062f\",\"gesundheitswesen\",\"\\u062a\\u0634\\u0643\\u0651\\u0644\",\"d\\u00f6verdim\",\"\\u0627\\u0642\\u062a\\u0631\\u0646\\u062a\",\"besiis\",\"\\u0433\\u043d\\u0435\\u0432\\u043e\\u043c\",\"aislarse\",\"weci\",\"\\uc88c\\ud30c\\uc815\\uad8c\",\"torturadora\",\"\\u91cd\\u3044\\u7269\\u306a\\u306e\\u3067\\u5b85\\u914d\\u3057\\u3066\\u3082\\u3089\\u3048\\u3066\\u5b89\\u304f\\u8cb7\\u3048\\u3066\\u3068\\u3066\\u3082\\u52a9\\u304b\\u3063\\u3066\\u3044\\u307e\\u3059\",\"quarries\",\"\\u4eca\\u65e5\\u308f\\u304b\\u3063\\u305f\\u3053\\u3068\",\"nnnn\\u0627\\u0646\",\"\\u3066\\u304b\\u3055\\u3041\",\"month-end\",\"\\u064a\\u062f\\u0627\\u0647\\u0645\\u0646\\u064a\",\"kupan\\u0131z\",\"\\u0645\\u062b\\u0644\\u0648\\u0627\",\"grillina\",\"\\u062a\\u0627\\u0631\\u0627\",\"cuntiks\",\"\\u0442\\u04e9\\u0432\",\"arttiriyorum\",\"uest\",\"\\uac11\\uc774\\uc57c\",\"semanagt\",\"\\u30ad\\u30e3\\u30e9\\u30af\\u30bf\\u30fc\\u30bd\\u30f3\\u30b0\\u30a2\\u30eb\\u30d0\\u30e0\",\"migrates\",\"\\u0648\\u0628\\u0644\\u062f\\u0646\\u0627\",\"inhuren\",\"\\u062a\\u064e\\u0628\\u0652\\u0642\\u0649\\u0651\",\"durisimoo\",\"\\u0441\\u043e\\u0437\",\"antidotes\",\"uniforma\",\"\\u884c\\u3063\\u3061\\u3083\\u3048\",\"overvallers\",\"\\u304c\\u3093\\u3070\\u308b\\u3067\",\"infort\\u00fanio\",\"\\u0628\\u0645\\u0634\\u0643\\u0644\\u0627\\u062a\",\"collegebaseball\",\"\\u03b2\\u03b1\\u03b3\\u03b3\\u03ad\\u03bb\\u03b7\",\"\\uc608\\uc058\\uc9c0\\ub9cc\",\"spaceshiptwo\",\"\\u6b69\\u3051\\u308b\",\"ndunya\",\"\\u0648\\u062f\\u0641\\u062a\\u0631\",\"iklanrakyat\",\"\\u0631\\u062a\\u0648\\u064a\\u062a_\\u0625\\u0630\\u0627_\\u0643\\u0646\\u062a_\\u062a\\u062a\\u0627\\u0628\\u0639_\\u0627\\u0644\\u0644\\u064a_\\u064a\\u062a\\u0627\\u0628\\u0639\\u0643n\",\"charrier\",\"younlet\",\"\\uac1c\\ucd5c\\ub41c\",\"olaca\\u011fim\",\"\\u3053\\u3061\\u3089\\u3053\\u305d\\u30d5\\u30a9\\u30ed\\u30d0\\u3042\\u308a\\u304c\\u3068\\u3067\\u3059\",\"iregalo\",\"\\u0627\\u06a9\\u0648\\u0646\",\"aziendali\",\"testkpopers\",\"\\u5fd8\\u308c\\u3066\\u306a\\u3044\",\"nn\\u3082\\u3046\\u306a\\u306b\\u3082\\u601d\\u3044\\u6b8b\\u3059\\u4e8b\\u306f\\u3042\\u308a\\u307e\\u305b\\u3093\",\"\\u0648\\u062a\\u0628\\u0639\\u062f\\u0646\\u064a\",\"flynns\",\"\\u043f\\u043e\\u0434\\u0436\\u043e\\u0433\\u0435\",\"\\uc11c\\ube44\\uc2a4\\uc13c\\ud130\",\"recu\\u00e9rdenlo\",\"\\u3067\\u3088\\u307f\\u304c\\u3048\\u308b\",\"j.w\",\"\\u0627\\u0639\\u0644\\u0645\\u0648\",\"ajajajajajajajajajajja\",\"stroup\",\"\\u30d5\\u30a9\\u30ed\\u30fc\\u9802\\u304d\\u3042\\u308a\\u304c\\u3068\\u3046\\u3054\\u3056\\u3044\\u307e\\u3059\",\"megahit\",\"\\u0645\\u062d\\u0622\\u0636\\u0631\\u0629\",\"delisioso\",\"yavrular\\u0131m\",\"\\u79c1\\u306f\\u306a\\u3093\\u3066\\u547c\\u3079\\u3070\\u3044\\u3044\",\"nginceng\",\"\\u0644\\u0650\\u062a\\u0639\\u064a\\u0634\",\"ddance\",\"yxyx_bap\",\"\\u96ea\\u306e\\u305b\\u3044\\u3060\",\"nyengiti\",\"\\u0645\\u0631\\u0636\\u0647n\\u0648\",\"divulgem\",\"wkorea\",\"\\u65e5\\u5f53\",\"mittels\",\"\\u0644\\u0632\\u064a\\u0646\\u0628\",\"condie\",\"ushio\",\"\\u30de\\u30de\\u53cb\\u9054\\u306b\\u7f8e\\u5473\\u3057\\u3044\\u304f\\u3066\",\"koningen\",\"\\u0628\\u0645\\u0622\\u0636\\u064a\\u0647\",\"admir\\u00f3\",\"rangiku\",\"\\u3053\\u3053\\u306b\\u30bb\\u30e1\\u30c0\\u30a4\\u30f3\\u304c\\u3042\\u308b\\u3058\\u3083\\u308d\",\"ge\\u00e7irmekten\",\"\\u0437\\u02d8\\u0329\",\"\\u76f8\\u4e92\\u3057\\u3066\\u304f\\u308c\\u308b\\u76f8\\u624b\\u3092\\u63a2\\u3057\\u3066\\u3044\\u307e\\u3059\",\"nibra\",\"\\u0643\\u0623\\u0628\\u0647\",\"beyondd\",\"smartcloud\",\"\\u3061\\u3087\\u3063\\u3068\\u4f55\",\"gpain\",\"\\u043f\\u043e\\u0434\\u043d\\u044f\\u0442\\u043e\\u0439\",\"\\u80f4\\u4f53\",\"nn\\u0634\\u0643\\u0644\\u0647\\u0645\",\"\\u0643\\u0648\\u0622\\u0631\\u062b\",\"caniulef\",\"sumpekk\",\"\\u3086\\u304d\\u306f\",\"iydh\",\"\\u044f\\u0433\\u043e\\u0434\\u043a\\u0430\",\"\\ubd10\\uc918\\uc11c\",\"n\\u0641\\u0644\\u062a\\u0628\\u0642\\u0649\",\"\\u0645\\u0644\\u0641\\u0648\\u0641\\u0629\",\"caymmi\",\"susmamak\",\"\\u306a\\u306b\\u8a00\\u3063\\u3066\\u3093\\u3060\\u3088\",\"hoikuen\",\"\\u0441\\u043b\\u0438\\u0442\\u043d\\u043e\",\"\\u81ea\\u7136\\u4f53\",\"matsumura\",\"\\u0628\\u0627\\u0644\\u0628\\u0646\\u064a\\u0646\",\"\\ud0a4\\uc6cc\\uc57c\\uc9c0\",\"n\\u9811\\u5f35\\u3089\\u306a\\u304d\\u3083\",\"\\u0642\\u064e\\u0622\\u0645\\u064f\\u0648\\u0633\\u0650\\u06c1\",\"berlalu-lalang\",\"saveds\",\"\\u0e44\\u0e21\\u0e48\\u0e15\\u0e49\\u0e2d\\u0e07\\u0e23\\u0e35\\u0e1a\",\"forestieri\",\"yaaaaaaaaaaah\",\"\\u30de\\u30eb\\u30ab\\u30b8\\u30ea\",\"jetm\",\"\\u0444\\u043b\\u044d\\u0448\\u043a\\u0438\",\"\\ub2ec\\uc131\\uc2dc\",\"nerka\",\"\\u062b\\u0645\\u0651\\u06c1\",\"\\uff95\",\"olamayiz\",\"\\u0644\\u0644\\u0633\\u0627\\u0647\\u0631\\u064a\\u0646\",\"brunas\",\"sherene\",\"\\u064a\\u0643\\u0643\\u0641\\u064a\",\"cons\\u00e9cutif\",\"solemate\",\"\\u3050\\u3050\\u308b\",\"druskieez\",\"vermemesinden\",\"\\u306a\\u3093\\u3067\\u3053\\u3093\\u306a\\u3053\\u3068\\u306b\",\"federados\",\"wilchez\",\"\\u30b3\\u30f3\\u30c1\\u30e3\",\"gowok\",\"\\u0431\\u043b\\u0442\",\"\\u6025\\u5897\",\"ka\\u015fara\",\"\\u043e\\u0442\\u043c\\u0435\\u0447\\u0430\\u043b\\u0430\",\"\\u65e5\\u66dc\\u304b\",\"jajahahaha\",\"\\u0432\\u0438\\u043a\\u0443\\u043b\\u044f\",\"\\u4f55\\u5ea6\\u76ee\",\"hardside\",\"yasudahla\",\"\\u30b9\\u30da\\u30a4\\u30f3\\u6599\\u7406\",\"galyana\",\"viergever\",\"\\u306a\\u3093\\u3057\",\"garezim\",\"veysi\",\"\\u3072\\u307e\\u3084\\u3093\",\"emra\",\"torturadas\",\"\\u3061\\u3085\\u308b\\u3061\\u3085\\u308b\",\"d\\u00e9fenses\",\"teeaamoo\",\"\\u0e1d\\u0e31\\u0e19\\u0e2b\\u0e27\\u0e32\\u0e19\\u0e08\\u0e49\\u0e32\",\"cometer\\u00e1\",\"seddih\",\"\\u0648\\u062a\\u0642\\u0637\\u0641\",\"berdamping\",\"porfolio\",\"\\u0642\\u0644\\u064a\\u0644\\u064e\",\"accessorio\",\"n\\u3053\\u3093\\u306b\\u3061\\u306f\\u30fc\",\"\\u0628\\u0644\\u0627\\u064a\\u0631\",\"\\ub9c8\\uc74c\\uba39\\uace0\",\"librar\\u00e9\",\"\\u0622\\u0643\\u0631\\u0645\\u06c1\",\"\\u5fdc\\u63f4\\u3057\\u305f\\u304f\\u306a\\u308b\",\"iqamat\",\"\\u0433\\u0443\\u0431\\u0438\\u043d\",\"\\u30b9\\u30bf\\u30fc\\u30c8n\",\"facilitam\",\"treinkaartje\",\"\\u3053\\u308c\\u306f\\u7d1b\\u308c\\u3082\\u306a\\u3044\\u541b\\u3060\",\"decidistes\",\"rr\\u7247\\u65b9\\u306f\\u5929\\u56fd\",\"\\u0645\\u062f\\u0631\\u064a\\u0621\",\"acumulam\",\"nntikla\",\"\\u0628\\u0627\\u0644\\u0633\\u064e\\u0631\\u0637\\u0627\\u0646\",\"\\u9cf4\\u4e0a\\u60a0\",\"juntu\",\"\\u0434\\u03c6\",\"\\u30db\\u30c3\\u30c8\\u30d1\\u30f3\\u30c4\",\"exarse\",\"tantines\",\"\\u064a\\u0637\\u0627\\u0645\\u0631\\u0648\\u0646\",\"bencanda\",\"ooowwn\",\"\\u0632\\u0645\\u0646\\u0650\",\"\\uc11c\\uba85\\ud574\",\"magicc\",\"\\u0441\\u0435\\u043a\\u0441\\u0443\\u0430\\u043b\\u0435\\u043d\",\"\\u521d\\u53f0\",\"hadsizzadamiletorbacihoca\",\"vallese\",\"\\u304a\\u3042\\u3042\",\"b\\u00fct\\u00e7e\\u015fubatta\",\"pjh\",\"\\u062f\\u0647\\u0646\\u0647\",\"\\ub9ce\\uc774\\ub4dc\\uc138\\uc694\",\"lightenin\",\"\\u043f\\u0440\\u0438\\u0447\\u0438\\u043d\\u0438\",\"\\u30b8\\u30e7\\u30b0\",\"d\\u00f6n\\u00fc\",\"snhr\",\"\\u0646\\u0633\\u064e\\u0627\\u0621\",\"\\ud788\\uc735\",\"mustaf\",\"\\u0623\\u0634\\u0637\\u062d\",\"\\u5206\\u304f\\u3089\\u3044\\u304b\\u306a\\u30fc\",\"favro\",\"s\\u0131cakl\\u0131\\u011f\\u0131nda\",\"\\u0648\\u0633\\u062a\\u062c\\u0631\\u064a\",\"\\ufedf\\ufedc\\ufee8\\ufee8\\ufe8e\",\"mudika\",\"\\u0623\\u0648\\u064e\\u062f\\u064f\",\"\\u512a\\u9047\"],\"x\":{\"__ndarray__\":\"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\",\"dtype\":\"float32\",\"shape\":[1000]},\"y\":{\"__ndarray__\":\"JnGCPwNmij9xNIM/O+iAP/T4gT+vAY4/+SmTP9QLgj89F6A/EWmQPxU2O78tmE4++HBzPxFdML80N0M/f14zv9dXrb5WnK4/8tCuP1AWmz+NSK8/r+fBvxZZtb//mpo/z/QAQKpxi78lpgq/9TQDQISurj8m+wK/Fbi/v2gFA0DmbFm/9eTevvPcmT/Igk6/ft+YP0mav75D3ac/cSU1vyNg8b5EzUy//6GlP2wYpr+7xym/I4fyvuQj7b7BpJS/hhVzPx90Rz/yCU8/S7xuP77/tb8AV8i+gGiuv5Wxkb9rRVC/p5Gfv7r0DL955DC/ztuBP3MeAL+mAq4/lN8Hv5F6ab+/cC+/1EeZvyXj/D+M4Iw+MS2Ov/kFYL/ULYI/4mhiP1J8bz9SQiO/swU4vs3Naj/dqAJAUwpHv4mA976xvXe/0QqOv6xtVT+jxwS/JTEvP1buB7/yXAO/7DSUvy71775UYaS/sLS/P48PEb8vlhO/+SiJvzEpej/U7Xs/x50zPgo2g7+lPw+/B18Fvy3aoT+UyrC/mcRbv8KBlz/iywZA2YrBP4Z92z8iRqK//ymhv2UgUr9f1L++igFJv5rNDUD9OWy/76Nwv9HsEb9ZSfU+3XbNPkr56b4oisU++KCmP32bBb8NFzg/PjWDP1MHkb/JVCQ+b8EHv6ooMr8q+Dy/Opt8v0IVfr0gBrS//KfQv4BsJr8D0ZQ/wEfXvUnPvT9y1E0/Ex0YP45pQz9RD0e/BQMKP8KTn78tMpW/1Kpavwn+bD0oBBs/cjc3v4Z2/j35iARAyIiKP4F6CD9phCW/jGSuvjZACUDWMOs/sjppvvTFZr/jdee/3BiqP+2fvj+xYARAVre+P9LmyL5Sngq/1q5tPwjQW78OCnm/DLQzv2QYUj88+VW/J4prvyXf3L45qV4+h533PyGI5b7+duo/dfuHPl3loL++o2C/pSE/v7iUyj3MrRa/ToZdv4jWaz9d0xi/3/QXv0MlTT92ccE/07jfv7QVfb+s7L29QeEBQHIbXz5h7Oc/eI4lv4SVTb/o7q+/DzrVP9ZYMz8adxA/qRaiP8z1pD309Ri/wyuzv2q90b2Ti5E/XgkMQNgVwL7V9w8/W3tIPzkTKr+pERVAwhaDv189Ar/yK6K/tiLhP7WPPL9RtGg/Yv6NP2pg7T56g8W+JRabP5gF5j+mSSe/N9uhv2bh7L55XZ4/W8rfvQywyL5kmxNA2Qn8vnfZCL/Ip4k/2kuNP+H3Yj7StF4/VhtoP6yPbL7s24W/f0XYvgu55z+4ebw+ZRFfv+IG5L/fggW/IGW6vTyVfL/N0oW//00jv4kHYD9xkghAG2klPw50oD9neI6/jdHqv3mUCUCzEEq9lHYLPUzAsb8LU4i/yqPdv92Nbr8wJcG/SzyEPsF+T78kqoQ/IuAWv3ik5D/akdk+OS3NPlEsi75NZXu/C30NPycgXj9m8i0/fbFGv9iq2L5xqPg+4g1TPxPJgb+f97o8yngev+p+d78QZVe/WvqaOrwaJD8bweC/fG61ve52Ur+/miO/80CSvhPpcj4Un1U/eRMlPzAim76BqoW+GPRPv8O10D8IJIQ/7ihfP53aa7+h0L8+hBLmPyuqpT+jeZo+I4MNQNEzsD+wWE6/I6hMv2K0ZL8t6Iy/5j+PvqrTDL9IEDw/adkpvr+gLL/gxvA+4xRDPttrej7JJ329Ax8wv3giPD+LfWa/UaVyP5YC4r24hIo/S6BXPw9RBj5dPuO+H9DUPQG0er8FlY4/9KO1vwf7WT/NI3a/VIR5P3Mg2T42lIg+nlffPxK6nT4PgeM+wlYBv6xtBT45Yno+hgqPv6sPRT/0nYY9t5xOv5+s5T/Pi9G+BEY9P1JwC75CpFg/osFPvwE/6b75vFq9tRx9PupzsL8pVS+/JWPJP0ZAFb/7lFS/5FoxvuDQ+r9LnwM/fUg1P7q7SD6U2Ee/sUpOPyQHrD/jwoa/G1rwP3qEe79GN2G/Z3ixvXpYC0AaeWO/Z0aBvyR4lr82cC4/actRvv1h6T6Q4uu/PGznvt7+Lb/Uita/xRicv0K7Jr8YgZ++U5TvP6ZI+z9MjEy+RgpOvui3lL/s9sQ+GRXAPgN/lr8pF1g+WiWcvoGUX71izs8+l530P4DxGT8ioU8/NrSDv+s1Gj7DFjG/Dk8Wv8fD8D5MU3q+2jcDvkwp4r8nMZi/kXwnPlHgVr9vPAi/JOSAvbZTZj/ZruQ/Bf8PPiOABkAubLA+zW5CP8K8Sz8NPnC/Z0xmvt+lm79zhRG+uHFRP5AKQL+v6IC/+gtQvxMkOj8JZlc/pu81PP1+4b5D108/hE2Wv1/Rcb82t0E/bkYJQJZOkT9naPk/t5OHvyXaaT9cegS/i/pYP+rcHr8sOME9xJSbvo0NmD4m986/pHxivtge8r9EG1+7xCc7P79CK7/bzwy/z4LrPud/W78dP9y/UrUcvyZfN74Sh0g/0nuSP0ztib+LRFe/oeENv3irjr3c96C+DZkVv5V3QD4Lvp4+XSFlP5HkYD+0Ncs/tQtlvioU4L4k6r+/qSUHQEBo4b/pYKK/dSOEv7xNQz+gCeG/hPRTvkUmPj92pAS+IFSGv701ML76KCA/INVXv0xUM78QQRg/J67KP5HZeL6XKF8/T6XyP1ejeT6Yux2/dWzAPyYWa78RQU8/WSUBvw9rfz9u/pI/Kn1Qv8G/zz/29lW/v+QOP6lxY7+kSFQ/SnuLvzlzD0BpeQ8/cOw+vmLIPr9tEFo9gpOJv0lW3z4w5MG+uj1jP6NqZ7/TL1c/wwFJP803Oj9JBnS/5ntRP4w0ob/NcCu/S2vdPs0HDz8Yau8+28uFPuZZ3r8/vmO/yw/FP7CU0L6zgpe/KPILP84SkL8r4tA/jBF9v/du9D/8ARFAFpfXPlIjbT3rPZa/wjktv9EnhL7VBCO/piumPjTVJb/jqRC9rRVTvzHCaL93YC4/1iWfvb6pMT47fye/Fvqfv5VzBUADWJe+SASsvdQcAD+InpW/9g6yPysgxzwWFck+ETVAvw5OYD/kHoc/0cyiP1qoBb+ee8U+3dYLv3f+178O5Iw/y1ilvgbifr/c6lk/PCrJvlAj4z7frxs/0iVFvwssFr8eB7I/uIlGv6jHqD6azBW/W/aGvyrV6D7Pl5E+4jxkv0MpRb+knBNAj6L7PJ+oA75DyEK/KcyRP7IbhL8ItJO/5lY7vlyMhL+EDVA/IVoGP8D0jj5qi5E/mx4TP+TvNz66Xt8/ANWivz3AVz/360W/t+KjPwqS1b/eQ4K/KTRlP/U39T6V+Ig/+aEevyNlBT+gVJM+rt0evpSJZr/5Gxm8oz9UPxsWMT6+20+/rs2Qv6S9Kb4R+WG+8nn3P556ED/qZbC8AM5/v6NPIz4bwp6/PLSBv66p17+gu4G9BEQfP4a6f79H0J0+hTIuvlDGer9IYII/KA5QP0FSo77qmha/HTBqPZJaLz8B5QK/l3oDv5SQyb/vy7q/G8vhP6K6q743Fks/gQwXv7UyTD9RfEm/EnqKvXWJd75+vkq/C2eBP476oD/EyAU/XKdev4C5mj1WrA4/hobjviz+CL/smIE+bmNgv45NND/yZUM/0pGAP7Y7Qb8Fmg5ADIpiP3LjB7+mS1W/asJgv0py4TzoKUa/e5sHvhRAmD3ZDRQ/lUvsvj/FTD9/qyq+1FFTPxeuaj8Ek4a/v1pNvzEk279NDKW+vTY+vzpIZD/1fAI/9KhUP+VOCD/QXMg9lAxpv9rxdz84qE+/kYoPP6O2579eFsM/FuyYv2fZwj54dzu/M1hePyHMdT8i64C/E2fNvqYXbL6wgnO/9D3SvrvlXj/YvLq/GiXAvxCwUT3Nw8E/rtPLO/WV2r9DN4G9Ff+QPz0/CT5XpuY9249XP1R+/z5b+E6/ZPLyv/di67/ihSA/SH5Sv+zn3j7vS4C/zQXov/up07+EaJi/C2xuv/Yy2T+R9LC9C+gAv9WoMz/sM++81L+Nvoh9QT7OeA6/ceMTP00ceT/PGzO/Kgrjv8snsD/wPT6/+Alkv0lGQ79Rm8W+z1gSv23ayD8a55O+sn8OvvL8fL/9skG/3yH+Pc3E4D9TkmQ/cev4v8mnXT+Q5Dc/Du1UvSZ/TD9dVms/q4AcP4WfQr/1vq0+AjASQF9lyT4wKxI9PHd+v4To275PaqK+/fyYv1nvA78mG3q///tWP1KNab+uWES9D0xzP6oI/b8i45+/y89AvwiAj7/AGI8/BpHivCNnFkDvOWi/rj9zP0bIqLxo5oK/YtbpP1h2EkD4BNK/91XSvcmqZD81cW+/vzjavxnU8z/j9og/IWovvzHERL8m1HS/WHjfvpw9bD4AsWO/EcZbP2y5ED3NZQ1Ac7bpP0HJvT/M3OC+iGoIQExLWD8W2Zy/YsLmv49OLL7wzsY9UDXavTEf1L7/I5++koHIPwmnmr8ofs2/dgyCP0+sUb81QPC/YT/tv4LpCkCuhzu/Btn1P9628L4TBdW+2u2XP2sVDD5MeUM/98Q9P8njGD5sPC8/9VFoP67+dz/6WSy/1htRv14Jjr/dKku/uF1zvkg6Yj/FaZK//aEFvzjgZb92WRq/RCWCv2/dLD81jlQ/PeV3v8+jEb/6jDi8i3eOvtSUnz7nl3q/JjIOv/KrOD8KgP+9Pv+cv3VqM7/mLoC/WiYfP91cPD5oRum+HKTUv2VRsb0+3Ak/ch5Hv0BAT74u24G/mAb7vvuGbL/w3kC/7W2Gv0O2SLu/LJ0/ZyMtv3Bs9D+U+y6/OHQjvs/ugL/4cAC/8DrSv7dXbz+PWpS7/A8hP99gyD4245o/4EHyPxkfT786wbq9wC92v/P/br87z6I/ZPQ0PyHsU7/LLwxATcrrv4YgXD+mq+E+X+gDP32VDEDwZVM/8sanv2bVZz7JQYY/wNGDv53y7L8P0Jm/jBkXP4nreb+EXxe++pGLv+Q+rT6FWAO/Uw2JP1zC1D7ZqTQ/BC4IQFX4Kb+ZLk0+LsqPPKHhhz+kSNK/wgewvv0brj+77am+p3vPPzgGYr63uQE/1PAJQK1bTz8cSc2+9b8/P0CyZT4DgNS/r0fBvHjqOD3IIkq/An+Av+uG279O6YG+w29EvxfjeD8Cwkq/zLp2v49x9b8QSyK/FFFHPhdDMz9yx1A/n4GEvw2yKr6LlpY/J8dYv3h/hL93vVq+1A5TvyemcT8kIug/OfrkPwXXyDzALUy/0FRuP0Vd8z+fA74/OYIVv/pBKL+SqbW/cY5jv9+vFT/ZDiC/NDqYPfTsr75vqJo+9RtSvlF9Mz85mOy/RgC1PjVwlr+oAYE/mX+/Pg==\",\"dtype\":\"float32\",\"shape\":[1000]}},\"selected\":{\"id\":\"1049\",\"type\":\"Selection\"},\"selection_policy\":{\"id\":\"1050\",\"type\":\"UnionRenderers\"}},\"id\":\"1002\",\"type\":\"ColumnDataSource\"},{\"attributes\":{\"overlay\":{\"id\":\"1048\",\"type\":\"BoxAnnotation\"}},\"id\":\"1024\",\"type\":\"BoxZoomTool\"},{\"attributes\":{},\"id\":\"1050\",\"type\":\"UnionRenderers\"},{\"attributes\":{\"formatter\":{\"id\":\"1046\",\"type\":\"BasicTickFormatter\"},\"ticker\":{\"id\":\"1013\",\"type\":\"BasicTicker\"}},\"id\":\"1012\",\"type\":\"LinearAxis\"},{\"attributes\":{},\"id\":\"1026\",\"type\":\"ResetTool\"},{\"attributes\":{},\"id\":\"1027\",\"type\":\"HelpTool\"},{\"attributes\":{\"active_drag\":\"auto\",\"active_inspect\":\"auto\",\"active_multi\":null,\"active_scroll\":{\"id\":\"1023\",\"type\":\"WheelZoomTool\"},\"active_tap\":\"auto\",\"tools\":[{\"id\":\"1022\",\"type\":\"PanTool\"},{\"id\":\"1023\",\"type\":\"WheelZoomTool\"},{\"id\":\"1024\",\"type\":\"BoxZoomTool\"},{\"id\":\"1025\",\"type\":\"SaveTool\"},{\"id\":\"1026\",\"type\":\"ResetTool\"},{\"id\":\"1027\",\"type\":\"HelpTool\"},{\"id\":\"1040\",\"type\":\"HoverTool\"}]},\"id\":\"1028\",\"type\":\"Toolbar\"}],\"root_ids\":[\"1003\"]},\"title\":\"Bokeh Application\",\"version\":\"1.1.0\"}};\n",
       "  var render_items = [{\"docid\":\"582c1330-dbb5-419b-8e78-137a98bb69ab\",\"roots\":{\"1003\":\"dbe871be-f0a0-4e4b-aec1-6b9f817d8738\"}}];\n",
       "  root.Bokeh.embed.embed_items_notebook(docs_json, render_items);\n",
       "\n",
       "  }\n",
       "  if (root.Bokeh !== undefined) {\n",
       "    embed_document(root);\n",
       "  } else {\n",
       "    var attempts = 0;\n",
       "    var timer = setInterval(function(root) {\n",
       "      if (root.Bokeh !== undefined) {\n",
       "        embed_document(root);\n",
       "        clearInterval(timer);\n",
       "      }\n",
       "      attempts++;\n",
       "      if (attempts > 100) {\n",
       "        console.log(\"Bokeh: ERROR: Unable to run BokehJS code because BokehJS library is missing\");\n",
       "        clearInterval(timer);\n",
       "      }\n",
       "    }, 10, root)\n",
       "  }\n",
       "})(window);"
      ],
      "application/vnd.bokehjs_exec.v0+json": ""
     },
     "metadata": {
      "application/vnd.bokehjs_exec.v0+json": {
       "id": "1003"
      }
     },
     "output_type": "display_data"
    },
    {
     "data": {
      "text/html": [
       "<div style=\"display: table;\"><div style=\"display: table-row;\"><div style=\"display: table-cell;\"><b title=\"bokeh.plotting.figure.Figure\">Figure</b>(</div><div style=\"display: table-cell;\">id&nbsp;=&nbsp;'1003', <span id=\"1106\" style=\"cursor: pointer;\">&hellip;)</span></div></div><div class=\"1105\" style=\"display: none;\"><div style=\"display: table-cell;\"></div><div style=\"display: table-cell;\">above&nbsp;=&nbsp;[],</div></div><div class=\"1105\" style=\"display: none;\"><div style=\"display: table-cell;\"></div><div style=\"display: table-cell;\">align&nbsp;=&nbsp;'start',</div></div><div class=\"1105\" style=\"display: none;\"><div style=\"display: table-cell;\"></div><div style=\"display: table-cell;\">aspect_ratio&nbsp;=&nbsp;None,</div></div><div class=\"1105\" style=\"display: none;\"><div style=\"display: table-cell;\"></div><div style=\"display: table-cell;\">aspect_scale&nbsp;=&nbsp;1,</div></div><div class=\"1105\" style=\"display: none;\"><div style=\"display: table-cell;\"></div><div style=\"display: table-cell;\">background&nbsp;=&nbsp;None,</div></div><div class=\"1105\" style=\"display: none;\"><div style=\"display: table-cell;\"></div><div style=\"display: table-cell;\">background_fill_alpha&nbsp;=&nbsp;{'value': 1.0},</div></div><div class=\"1105\" style=\"display: none;\"><div style=\"display: table-cell;\"></div><div style=\"display: table-cell;\">background_fill_color&nbsp;=&nbsp;{'value': '#ffffff'},</div></div><div class=\"1105\" style=\"display: none;\"><div style=\"display: table-cell;\"></div><div style=\"display: table-cell;\">below&nbsp;=&nbsp;[LinearAxis(id='1012', ...)],</div></div><div class=\"1105\" style=\"display: none;\"><div style=\"display: table-cell;\"></div><div style=\"display: table-cell;\">border_fill_alpha&nbsp;=&nbsp;{'value': 1.0},</div></div><div class=\"1105\" style=\"display: none;\"><div style=\"display: table-cell;\"></div><div style=\"display: table-cell;\">border_fill_color&nbsp;=&nbsp;{'value': '#ffffff'},</div></div><div class=\"1105\" style=\"display: none;\"><div style=\"display: table-cell;\"></div><div style=\"display: table-cell;\">center&nbsp;=&nbsp;[Grid(id='1016', ...), Grid(id='1021', ...)],</div></div><div class=\"1105\" style=\"display: none;\"><div style=\"display: table-cell;\"></div><div style=\"display: table-cell;\">css_classes&nbsp;=&nbsp;[],</div></div><div class=\"1105\" style=\"display: none;\"><div style=\"display: table-cell;\"></div><div style=\"display: table-cell;\">disabled&nbsp;=&nbsp;False,</div></div><div class=\"1105\" style=\"display: none;\"><div style=\"display: table-cell;\"></div><div style=\"display: table-cell;\">extra_x_ranges&nbsp;=&nbsp;{},</div></div><div class=\"1105\" style=\"display: none;\"><div style=\"display: table-cell;\"></div><div style=\"display: table-cell;\">extra_y_ranges&nbsp;=&nbsp;{},</div></div><div class=\"1105\" style=\"display: none;\"><div style=\"display: table-cell;\"></div><div style=\"display: table-cell;\">frame_height&nbsp;=&nbsp;None,</div></div><div class=\"1105\" style=\"display: none;\"><div style=\"display: table-cell;\"></div><div style=\"display: table-cell;\">frame_width&nbsp;=&nbsp;None,</div></div><div class=\"1105\" style=\"display: none;\"><div style=\"display: table-cell;\"></div><div style=\"display: table-cell;\">height&nbsp;=&nbsp;None,</div></div><div class=\"1105\" style=\"display: none;\"><div style=\"display: table-cell;\"></div><div style=\"display: table-cell;\">height_policy&nbsp;=&nbsp;'auto',</div></div><div class=\"1105\" style=\"display: none;\"><div style=\"display: table-cell;\"></div><div style=\"display: table-cell;\">hidpi&nbsp;=&nbsp;True,</div></div><div class=\"1105\" style=\"display: none;\"><div style=\"display: table-cell;\"></div><div style=\"display: table-cell;\">js_event_callbacks&nbsp;=&nbsp;{},</div></div><div class=\"1105\" style=\"display: none;\"><div style=\"display: table-cell;\"></div><div style=\"display: table-cell;\">js_property_callbacks&nbsp;=&nbsp;{},</div></div><div class=\"1105\" style=\"display: none;\"><div style=\"display: table-cell;\"></div><div style=\"display: table-cell;\">left&nbsp;=&nbsp;[LinearAxis(id='1017', ...)],</div></div><div class=\"1105\" style=\"display: none;\"><div style=\"display: table-cell;\"></div><div style=\"display: table-cell;\">lod_factor&nbsp;=&nbsp;10,</div></div><div class=\"1105\" style=\"display: none;\"><div style=\"display: table-cell;\"></div><div style=\"display: table-cell;\">lod_interval&nbsp;=&nbsp;300,</div></div><div class=\"1105\" style=\"display: none;\"><div style=\"display: table-cell;\"></div><div style=\"display: table-cell;\">lod_threshold&nbsp;=&nbsp;2000,</div></div><div class=\"1105\" style=\"display: none;\"><div style=\"display: table-cell;\"></div><div style=\"display: table-cell;\">lod_timeout&nbsp;=&nbsp;500,</div></div><div class=\"1105\" style=\"display: none;\"><div style=\"display: table-cell;\"></div><div style=\"display: table-cell;\">margin&nbsp;=&nbsp;(0, 0, 0, 0),</div></div><div class=\"1105\" style=\"display: none;\"><div style=\"display: table-cell;\"></div><div style=\"display: table-cell;\">match_aspect&nbsp;=&nbsp;False,</div></div><div class=\"1105\" style=\"display: none;\"><div style=\"display: table-cell;\"></div><div style=\"display: table-cell;\">max_height&nbsp;=&nbsp;None,</div></div><div class=\"1105\" style=\"display: none;\"><div style=\"display: table-cell;\"></div><div style=\"display: table-cell;\">max_width&nbsp;=&nbsp;None,</div></div><div class=\"1105\" style=\"display: none;\"><div style=\"display: table-cell;\"></div><div style=\"display: table-cell;\">min_border&nbsp;=&nbsp;5,</div></div><div class=\"1105\" style=\"display: none;\"><div style=\"display: table-cell;\"></div><div style=\"display: table-cell;\">min_border_bottom&nbsp;=&nbsp;None,</div></div><div class=\"1105\" style=\"display: none;\"><div style=\"display: table-cell;\"></div><div style=\"display: table-cell;\">min_border_left&nbsp;=&nbsp;None,</div></div><div class=\"1105\" style=\"display: none;\"><div style=\"display: table-cell;\"></div><div style=\"display: table-cell;\">min_border_right&nbsp;=&nbsp;None,</div></div><div class=\"1105\" style=\"display: none;\"><div style=\"display: table-cell;\"></div><div style=\"display: table-cell;\">min_border_top&nbsp;=&nbsp;None,</div></div><div class=\"1105\" style=\"display: none;\"><div style=\"display: table-cell;\"></div><div style=\"display: table-cell;\">min_height&nbsp;=&nbsp;None,</div></div><div class=\"1105\" style=\"display: none;\"><div style=\"display: table-cell;\"></div><div style=\"display: table-cell;\">min_width&nbsp;=&nbsp;None,</div></div><div class=\"1105\" style=\"display: none;\"><div style=\"display: table-cell;\"></div><div style=\"display: table-cell;\">name&nbsp;=&nbsp;None,</div></div><div class=\"1105\" style=\"display: none;\"><div style=\"display: table-cell;\"></div><div style=\"display: table-cell;\">outline_line_alpha&nbsp;=&nbsp;{'value': 1.0},</div></div><div class=\"1105\" style=\"display: none;\"><div style=\"display: table-cell;\"></div><div style=\"display: table-cell;\">outline_line_cap&nbsp;=&nbsp;'butt',</div></div><div class=\"1105\" style=\"display: none;\"><div style=\"display: table-cell;\"></div><div style=\"display: table-cell;\">outline_line_color&nbsp;=&nbsp;{'value': '#e5e5e5'},</div></div><div class=\"1105\" style=\"display: none;\"><div style=\"display: table-cell;\"></div><div style=\"display: table-cell;\">outline_line_dash&nbsp;=&nbsp;[],</div></div><div class=\"1105\" style=\"display: none;\"><div style=\"display: table-cell;\"></div><div style=\"display: table-cell;\">outline_line_dash_offset&nbsp;=&nbsp;0,</div></div><div class=\"1105\" style=\"display: none;\"><div style=\"display: table-cell;\"></div><div style=\"display: table-cell;\">outline_line_join&nbsp;=&nbsp;'bevel',</div></div><div class=\"1105\" style=\"display: none;\"><div style=\"display: table-cell;\"></div><div style=\"display: table-cell;\">outline_line_width&nbsp;=&nbsp;{'value': 1},</div></div><div class=\"1105\" style=\"display: none;\"><div style=\"display: table-cell;\"></div><div style=\"display: table-cell;\">output_backend&nbsp;=&nbsp;'canvas',</div></div><div class=\"1105\" style=\"display: none;\"><div style=\"display: table-cell;\"></div><div style=\"display: table-cell;\">plot_height&nbsp;=&nbsp;400,</div></div><div class=\"1105\" style=\"display: none;\"><div style=\"display: table-cell;\"></div><div style=\"display: table-cell;\">plot_width&nbsp;=&nbsp;600,</div></div><div class=\"1105\" style=\"display: none;\"><div style=\"display: table-cell;\"></div><div style=\"display: table-cell;\">renderers&nbsp;=&nbsp;[GlyphRenderer(id='1038', ...)],</div></div><div class=\"1105\" style=\"display: none;\"><div style=\"display: table-cell;\"></div><div style=\"display: table-cell;\">right&nbsp;=&nbsp;[],</div></div><div class=\"1105\" style=\"display: none;\"><div style=\"display: table-cell;\"></div><div style=\"display: table-cell;\">sizing_mode&nbsp;=&nbsp;None,</div></div><div class=\"1105\" style=\"display: none;\"><div style=\"display: table-cell;\"></div><div style=\"display: table-cell;\">subscribed_events&nbsp;=&nbsp;[],</div></div><div class=\"1105\" style=\"display: none;\"><div style=\"display: table-cell;\"></div><div style=\"display: table-cell;\">tags&nbsp;=&nbsp;[],</div></div><div class=\"1105\" style=\"display: none;\"><div style=\"display: table-cell;\"></div><div style=\"display: table-cell;\">title&nbsp;=&nbsp;Title(id='1042', ...),</div></div><div class=\"1105\" style=\"display: none;\"><div style=\"display: table-cell;\"></div><div style=\"display: table-cell;\">title_location&nbsp;=&nbsp;'above',</div></div><div class=\"1105\" style=\"display: none;\"><div style=\"display: table-cell;\"></div><div style=\"display: table-cell;\">toolbar&nbsp;=&nbsp;Toolbar(id='1028', ...),</div></div><div class=\"1105\" style=\"display: none;\"><div style=\"display: table-cell;\"></div><div style=\"display: table-cell;\">toolbar_location&nbsp;=&nbsp;'right',</div></div><div class=\"1105\" style=\"display: none;\"><div style=\"display: table-cell;\"></div><div style=\"display: table-cell;\">toolbar_sticky&nbsp;=&nbsp;True,</div></div><div class=\"1105\" style=\"display: none;\"><div style=\"display: table-cell;\"></div><div style=\"display: table-cell;\">visible&nbsp;=&nbsp;True,</div></div><div class=\"1105\" style=\"display: none;\"><div style=\"display: table-cell;\"></div><div style=\"display: table-cell;\">width&nbsp;=&nbsp;None,</div></div><div class=\"1105\" style=\"display: none;\"><div style=\"display: table-cell;\"></div><div style=\"display: table-cell;\">width_policy&nbsp;=&nbsp;'auto',</div></div><div class=\"1105\" style=\"display: none;\"><div style=\"display: table-cell;\"></div><div style=\"display: table-cell;\">x_range&nbsp;=&nbsp;DataRange1d(id='1004', ...),</div></div><div class=\"1105\" style=\"display: none;\"><div style=\"display: table-cell;\"></div><div style=\"display: table-cell;\">x_scale&nbsp;=&nbsp;LinearScale(id='1008', ...),</div></div><div class=\"1105\" style=\"display: none;\"><div style=\"display: table-cell;\"></div><div style=\"display: table-cell;\">y_range&nbsp;=&nbsp;DataRange1d(id='1006', ...),</div></div><div class=\"1105\" style=\"display: none;\"><div style=\"display: table-cell;\"></div><div style=\"display: table-cell;\">y_scale&nbsp;=&nbsp;LinearScale(id='1010', ...))</div></div></div>\n",
       "<script>\n",
       "(function() {\n",
       "  var expanded = false;\n",
       "  var ellipsis = document.getElementById(\"1106\");\n",
       "  ellipsis.addEventListener(\"click\", function() {\n",
       "    var rows = document.getElementsByClassName(\"1105\");\n",
       "    for (var i = 0; i < rows.length; i++) {\n",
       "      var el = rows[i];\n",
       "      el.style.display = expanded ? \"none\" : \"table-row\";\n",
       "    }\n",
       "    ellipsis.innerHTML = expanded ? \"&hellip;)\" : \"&lsaquo;&lsaquo;&lsaquo;\";\n",
       "    expanded = !expanded;\n",
       "  });\n",
       "})();\n",
       "</script>\n"
      ],
      "text/plain": [
       "Figure(id='1003', ...)"
      ]
     },
     "execution_count": 22,
     "metadata": {},
     "output_type": "execute_result"
    }
   ],
   "source": [
    "draw_vectors(vectors_tsne[:, 0], vectors_tsne[:, 1], token=idx2word[::1000])"
   ]
  },
  {
   "cell_type": "markdown",
   "metadata": {},
   "source": [
    "# Классификация с помощью нейронной сети.\n",
    "\n",
    "Теперь перейдём к задаче анализа тональности текста. Нам требуется определить является ли отзыв положительным или отрицательным. Иными словами мы решаем задачу классификации текста на 2 класса."
   ]
  },
  {
   "cell_type": "code",
   "execution_count": 23,
   "metadata": {},
   "outputs": [],
   "source": [
    "import torch\n",
    "import torch.nn as nn\n",
    "import torch.nn.functional as F"
   ]
  },
  {
   "cell_type": "code",
   "execution_count": 24,
   "metadata": {},
   "outputs": [
    {
     "data": {
      "text/plain": [
       "device(type='cuda', index=0)"
      ]
     },
     "execution_count": 24,
     "metadata": {},
     "output_type": "execute_result"
    }
   ],
   "source": [
    "device = torch.device('cuda:0' if torch.cuda.is_available() else 'cpu')\n",
    "device"
   ]
  },
  {
   "cell_type": "markdown",
   "metadata": {},
   "source": [
    "Для удобной работы с данными для обработки текстов есть библиотека [`torchtext`](https://torchtext.readthedocs.io/en/latest/), которая повзоляет более тонко настраивать батч генераторы, например, батч может содержать предложения почти одинаковой длины."
   ]
  },
  {
   "cell_type": "code",
   "execution_count": 25,
   "metadata": {},
   "outputs": [],
   "source": [
    "import torchtext"
   ]
  },
  {
   "cell_type": "markdown",
   "metadata": {},
   "source": [
    "Для начала нужно создать поля, одно для текста, другое для метки класса."
   ]
  },
  {
   "cell_type": "code",
   "execution_count": 26,
   "metadata": {},
   "outputs": [],
   "source": [
    "import re\n",
    "\n",
    "PUNCTUATION_PATTERN = re.compile(r'(\\w*)(\\W)(\\w*)')\n",
    "\n",
    "def tokenize(text):\n",
    "    text = re.sub(r'<br /><br />', '', text)     # remove <br /><br />\n",
    "    \n",
    "    text = PUNCTUATION_PATTERN.sub(r'\\1 \\2 \\3', text)\n",
    "    \n",
    "    return text.split()"
   ]
  },
  {
   "cell_type": "code",
   "execution_count": 27,
   "metadata": {},
   "outputs": [],
   "source": [
    "text_field = torchtext.data.Field(lower=True,\n",
    "                                  tokenize=tokenize,\n",
    "                                  include_lengths=True,\n",
    "                                  batch_first=False)\n",
    "\n",
    "label_field = torchtext.data.Field(sequential=False,\n",
    "                                   use_vocab=False,\n",
    "                                   batch_first=False,\n",
    "                                   is_target=True)"
   ]
  },
  {
   "cell_type": "markdown",
   "metadata": {},
   "source": [
    "**Внимание**. В тензорах первая размерность отвечает за длину последовательности, а потом уже идёт размер батча (`batch_first=False`).\n",
    "\n",
    "Теперь обернём сэмплы в класс примеров (`data.Example`)."
   ]
  },
  {
   "cell_type": "code",
   "execution_count": 28,
   "metadata": {},
   "outputs": [],
   "source": [
    "import tqdm"
   ]
  },
  {
   "cell_type": "code",
   "execution_count": 29,
   "metadata": {},
   "outputs": [
    {
     "name": "stderr",
     "output_type": "stream",
     "text": [
      "100%|██████████| 25000/25000 [00:12<00:00, 2040.02it/s]\n",
      "100%|██████████| 25000/25000 [00:11<00:00, 2088.83it/s]\n"
     ]
    }
   ],
   "source": [
    "example_data_train = [torchtext.data.Example.fromdict(data={'question_text': text,\n",
    "                                                            'target'       : target},\n",
    "                                                      fields={'question_text': ('text',   text_field),\n",
    "                                                              'target'       : ('target', label_field)})\n",
    "                      for text, target in tqdm.tqdm(zip(raw_reviews_train, raw_ratings_train),\n",
    "                                                    total=len(raw_reviews_train))]\n",
    "\n",
    "example_data_test = [torchtext.data.Example.fromdict(data={'question_text': text,\n",
    "                                                           'target'       : target},\n",
    "                                                     fields={'question_text': ('text',   text_field),\n",
    "                                                             'target'       : ('target', label_field)})\n",
    "                     for text, target in tqdm.tqdm(zip(raw_reviews_test, raw_ratings_test),\n",
    "                                                   total=len(raw_reviews_test))]"
   ]
  },
  {
   "cell_type": "markdown",
   "metadata": {},
   "source": [
    "Sanity check"
   ]
  },
  {
   "cell_type": "code",
   "execution_count": 30,
   "metadata": {},
   "outputs": [
    {
     "data": {
      "text/plain": [
       "('a truly , truly dire canadian - german co - production , the ever - wonderful rosanna arquette plays an actress whose teenage daughter redefines the term \" problem child \" - a few uears prior to the \" action \" the child murdered her father , and mum took the fall for the offspring . now she \\' s moved up to the northwest us to start over , but her child still has a problem in that she \\' s devoted to her mother . so devoted in fact that she kills anyone who might be seen as a threat to their bond . unfortunately mandy schaeffer ( as the daughter ) murders more than people - she delivers such a terrible performance that she also wipes out the movie , though the incoherent script , useless direction and appalling music ( check out the saxophone the first time she displays her bikini - clad bod ) don \\' t help any ; we \\' re supposed to find her sexy and scary , but she fails on both counts . almost completely unalluring and not even bad enough to be amusing ( not to mention the fact that arquette and schaeffer don \\' t really convince as mother and daughter ) , all condolences to miss arquette and jurgen prochnow , both of whom are worthy of far more than this , and both of whom ( particularly rosanna ) are the only sane reasons for anyone to sit through this farrago . one of the production companies is called quality international films - not since the three - hour \" love , lies and murder \" ( from two short productions ) has there been such a \" you must be joking \" credit .',\n",
       " False)"
      ]
     },
     "execution_count": 30,
     "metadata": {},
     "output_type": "execute_result"
    }
   ],
   "source": [
    "' '.join(example_data_train[0].text), example_data_train[0].target"
   ]
  },
  {
   "cell_type": "markdown",
   "metadata": {},
   "source": [
    "Создадим датасеты."
   ]
  },
  {
   "cell_type": "code",
   "execution_count": 31,
   "metadata": {},
   "outputs": [],
   "source": [
    "import random"
   ]
  },
  {
   "cell_type": "code",
   "execution_count": 32,
   "metadata": {},
   "outputs": [],
   "source": [
    "RANDOM_SEED = 314159\n",
    "\n",
    "random.seed(RANDOM_SEED)"
   ]
  },
  {
   "cell_type": "code",
   "execution_count": 33,
   "metadata": {},
   "outputs": [],
   "source": [
    "train = torchtext.data.Dataset(example_data_train,\n",
    "                               fields=[('text'  , text_field),\n",
    "                                       ('target', label_field)])\n",
    "\n",
    "test = torchtext.data.Dataset(example_data_test,\n",
    "                              fields=[('text'  , text_field),\n",
    "                                      ('target', label_field)])\n",
    "\n",
    "train, dev = train.split(split_ratio=0.8,\n",
    "                         stratified=True,\n",
    "                         strata_field='target',\n",
    "                         random_state=random.getstate())"
   ]
  },
  {
   "cell_type": "code",
   "execution_count": 34,
   "metadata": {},
   "outputs": [
    {
     "name": "stdout",
     "output_type": "stream",
     "text": [
      "train size:\t20000\n",
      "dev size  :\t 5000\n",
      "test size :\t25000\n"
     ]
    }
   ],
   "source": [
    "print('train size:\\t{:>5}'.format(len(train)))\n",
    "print('dev size  :\\t{:>5}'.format(len(dev)))\n",
    "print('test size :\\t{:>5}'.format(len(test)))"
   ]
  },
  {
   "cell_type": "markdown",
   "metadata": {},
   "source": [
    "Нам нужно создать словари. Можно использовать нашу матрицу представлений или загрузить предобученную. Будем пользоваться нашей, хотя она совпадает с `glove.twitter.27B.100d` из `torchtext`."
   ]
  },
  {
   "cell_type": "code",
   "execution_count": 35,
   "metadata": {},
   "outputs": [],
   "source": [
    "def unk_init(tensor):\n",
    "    return torch.rand_like(tensor)"
   ]
  },
  {
   "cell_type": "code",
   "execution_count": 36,
   "metadata": {},
   "outputs": [],
   "source": [
    "use_our = True  # False if you need some other\n",
    "if use_our:\n",
    "    model.save_word2vec_format(model_name)\n",
    "\n",
    "    vectors = torchtext.vocab.Vectors(name=model_name, cache='./', unk_init=unk_init)\n",
    "    \n",
    "    text_field.build_vocab(train, vectors=vectors)\n",
    "else:\n",
    "    text_field.build_vocab(train, vectors='glove.twitter.27B.100d', unk_init=unk_init)"
   ]
  },
  {
   "cell_type": "code",
   "execution_count": 37,
   "metadata": {},
   "outputs": [
    {
     "name": "stdout",
     "output_type": "stream",
     "text": [
      "Word vocabulary size 69673\n"
     ]
    }
   ],
   "source": [
    "vocab = dict(text_field.vocab.stoi)\n",
    "print('Word vocabulary size {}'.format(len(vocab)))"
   ]
  },
  {
   "cell_type": "code",
   "execution_count": 38,
   "metadata": {},
   "outputs": [],
   "source": [
    "# проверим всё ли правильно\n",
    "# works only in python >= 3.6\n",
    "import sys\n",
    "\n",
    "if '3.6.3' in sys.version:\n",
    "    for word in vocab:\n",
    "        if word in word2idx:\n",
    "            assert (text_field.vocab.vectors[vocab[word]].cpu().numpy() == embeddings_weights[word2idx[word] + 2]).all()"
   ]
  },
  {
   "cell_type": "markdown",
   "metadata": {},
   "source": [
    "Наконец, создадим батч итераторы."
   ]
  },
  {
   "cell_type": "code",
   "execution_count": 39,
   "metadata": {},
   "outputs": [],
   "source": [
    "batch_size = 64\n",
    "\n",
    "train_iter = torchtext.data.BucketIterator(train,\n",
    "                                           batch_size,\n",
    "                                           sort_key=lambda x: len(x.text),\n",
    "                                           repeat=False,\n",
    "                                           shuffle=True,\n",
    "                                           sort=False,\n",
    "                                           train=True,\n",
    "                                           device=device)\n",
    "\n",
    "dev_iter = torchtext.data.BucketIterator(dev,\n",
    "                                         batch_size,\n",
    "                                         sort_key=lambda x: len(x.text),\n",
    "                                         repeat=False,\n",
    "                                         sort=False,\n",
    "                                         train=False,\n",
    "                                         device=device)\n",
    "\n",
    "test_iter = torchtext.data.BucketIterator(test,\n",
    "                                          batch_size,\n",
    "                                          sort_key=None,\n",
    "                                          repeat=False,\n",
    "                                          shuffle=False,\n",
    "                                          sort=False,\n",
    "                                          train=False,\n",
    "                                          device=device)"
   ]
  },
  {
   "cell_type": "markdown",
   "metadata": {},
   "source": [
    "Возьмём один батч и проверим всё ли верно."
   ]
  },
  {
   "cell_type": "code",
   "execution_count": 40,
   "metadata": {},
   "outputs": [
    {
     "name": "stdout",
     "output_type": "stream",
     "text": [
      "i ' ve seen better production quality on youtube ! i pity the actors , as the writing was terrible and the direction shocking , not sure how they could get the lines out - i really doubt any actor would have been able to salvage this movie no matter how good they were . the characters were not developed at all , and there was no real cohesion in the plot which just seemed to go nowhere much . it ' s a shame really , as the premise for the movie was good and with better production quality , direction and script it could have been a decent movie . it certainly was not a comedy , unless you laugh out loud at the dubbing - which was amateurish , even the english actors sounded weird . "
     ]
    }
   ],
   "source": [
    "for batch in dev_iter:\n",
    "    break\n",
    "\n",
    "for word_ind in batch.text[0][:, 0]:\n",
    "    if word_ind == text_field.vocab.stoi['<pad>']:\n",
    "        break\n",
    "    print(text_field.vocab.itos[word_ind], end=' ')"
   ]
  },
  {
   "cell_type": "code",
   "execution_count": 41,
   "metadata": {},
   "outputs": [
    {
     "data": {
      "text/plain": [
       "\"i ' ve seen better production quality on youtube ! i pity the actors , as the writing was terrible and the direction shocking , not sure how they could get the lines out - i really doubt any actor would have been able to salvage this movie no matter how good they were . the characters were not developed at all , and there was no real cohesion in the plot which just seemed to go nowhere much . it ' s a shame really , as the premise for the movie was good and with better production quality , direction and script it could have been a decent movie . it certainly was not a comedy , unless you laugh out loud at the dubbing - which was amateurish , even the english actors sounded weird .\""
      ]
     },
     "execution_count": 41,
     "metadata": {},
     "output_type": "execute_result"
    }
   ],
   "source": [
    "' '.join(next(iter(dev)).text)"
   ]
  },
  {
   "cell_type": "markdown",
   "metadata": {},
   "source": [
    "Теперь у нас есть батч итераторы. Перейдём к модели."
   ]
  },
  {
   "cell_type": "code",
   "execution_count": 42,
   "metadata": {},
   "outputs": [],
   "source": [
    "class TextClassificationModel(nn.Module):\n",
    "    def __init__(self,\n",
    "                 vocab,\n",
    "                 hidden_size=64,\n",
    "                 freeze=True):\n",
    "        super(__class__, self).__init__()\n",
    "        \n",
    "        self.vocab = vocab\n",
    "        \n",
    "        # TODO: create embedding layer, freeze embedding if needed\n",
    "        self.embedder = ...\n",
    "        \n",
    "        # TODO: create LSTM\n",
    "        _, emb_size = self.vocab.vectors.shape\n",
    "        self.rnn = ... \n",
    "        \n",
    "        # TODO: create classifier\n",
    "        self.classifier = ...\n",
    "    \n",
    "    def forward(self, inputs):\n",
    "        # inputs = words, seq_lens\n",
    "        \n",
    "        words, seq_lens = inputs.text[0], inputs.text[1]\n",
    "        # words:    [time, batch]\n",
    "        # seq_lens: [batch]\n",
    "        \n",
    "        mask = torch.ne(words, self.vocab.stoi['<pad>'])\n",
    "        \n",
    "        # TODO: get embeddings of words\n",
    "        emb = ...\n",
    "        \n",
    "        # TODO: eat them by RNN\n",
    "        rnn_output = ...\n",
    "        \n",
    "        # TODO: calculate logits\n",
    "        logits = ...\n",
    "\n",
    "        return logits"
   ]
  },
  {
   "cell_type": "markdown",
   "metadata": {},
   "source": [
    "Инициализируем сеть."
   ]
  },
  {
   "cell_type": "code",
   "execution_count": 43,
   "metadata": {},
   "outputs": [
    {
     "data": {
      "text/plain": [
       "TextClassificationModel(\n",
       "  (embedder): Embedding(69673, 100)\n",
       "  (rnn): LSTM(100, 64, bidirectional=True)\n",
       "  (classifier): Sequential(\n",
       "    (0): Linear(in_features=256, out_features=1, bias=True)\n",
       "  )\n",
       ")"
      ]
     },
     "execution_count": 43,
     "metadata": {},
     "output_type": "execute_result"
    }
   ],
   "source": [
    "net = TextClassificationModel(text_field.vocab).to(device)\n",
    "net"
   ]
  },
  {
   "cell_type": "code",
   "execution_count": 44,
   "metadata": {},
   "outputs": [],
   "source": [
    "# easy augmentation\n",
    "def word_dropout(inp, keep_prob=0.8):\n",
    "    # TODO\n",
    "    return inp"
   ]
  },
  {
   "cell_type": "markdown",
   "metadata": {},
   "source": [
    "Напишем стандартную для бинарной классификации функции потерь -- кросс-энтропию."
   ]
  },
  {
   "cell_type": "code",
   "execution_count": 46,
   "metadata": {},
   "outputs": [],
   "source": [
    "def calc_loss(inp, target):\n",
    "    # TODO\n",
    "    return 0"
   ]
  },
  {
   "cell_type": "markdown",
   "metadata": {},
   "source": [
    "Проверим ничего ли не падает."
   ]
  },
  {
   "cell_type": "code",
   "execution_count": 47,
   "metadata": {},
   "outputs": [],
   "source": [
    "for batch in train_iter:\n",
    "    break\n",
    "    \n",
    "batch\n",
    "\n",
    "loss = calc_loss(net(batch), batch.target[:, None].float()).item()\n",
    "\n",
    "assert 0.61 <= loss <= 0.79, f'Smth wrong with loss ({loss})'"
   ]
  },
  {
   "cell_type": "markdown",
   "metadata": {},
   "source": [
    "## Обучение\n",
    "\n",
    "\n",
    "Напишем несколько полезных функций для обучения модели."
   ]
  },
  {
   "cell_type": "code",
   "execution_count": 48,
   "metadata": {},
   "outputs": [],
   "source": [
    "import matplotlib.pyplot as plt\n",
    "from IPython.display import clear_output\n",
    "\n",
    "%matplotlib inline"
   ]
  },
  {
   "cell_type": "code",
   "execution_count": 49,
   "metadata": {},
   "outputs": [],
   "source": [
    "def calc_accuracy(probas, target, thresh=0.5):\n",
    "    return ((probas > thresh) == target).mean()\n",
    "    \n",
    "\n",
    "def epoch_step(model,\n",
    "               data_iter,\n",
    "               opt=None,\n",
    "               desc=None):\n",
    "    loss_loc = n = 0.0\n",
    "    probas, targets = [], []\n",
    "    for batch in tqdm.tqdm(data_iter,\n",
    "                           desc=desc,\n",
    "                           leave=False,\n",
    "                           mininterval=1):\n",
    "        # use word dropout if available\n",
    "        \n",
    "        # TODO: calculate logits\n",
    "        logits = ...\n",
    "        \n",
    "        # TODO: calculate loss\n",
    "        loss = ...\n",
    "\n",
    "        # TODO: do backward\n",
    "        if opt is not None:\n",
    "            ...\n",
    "\n",
    "        loss_loc += loss.item()\n",
    "        probas.extend(torch.sigmoid(logits).detach().cpu().numpy())\n",
    "        targets.extend(batch.target.cpu().numpy())\n",
    "        n += 1\n",
    "    \n",
    "    loss = loss_loc/n\n",
    "    probas, targets = np.array(probas).flatten(), np.array(targets)\n",
    "    \n",
    "    metric = calc_accuracy(probas, targets)\n",
    "    \n",
    "    return loss, metric\n",
    "\n",
    "\n",
    "def plot_results(results):\n",
    "    clear_output(True)\n",
    "    \n",
    "    plt.subplots(1, 2)\n",
    "\n",
    "    plt.subplot(1, 2, 1)\n",
    "    for form in results:\n",
    "        plt.plot(results[form]['loss'],\n",
    "                 label='{} {:.3}'.format(form, results[form]['loss'][-1]))\n",
    "    plt.title('Loss')\n",
    "    plt.xlabel('Epochs number')\n",
    "    plt.ylabel('Loss')\n",
    "    plt.legend()\n",
    "    plt.grid(ls='--')\n",
    "\n",
    "    plt.subplot(1, 2, 2)\n",
    "    for form in results:\n",
    "        plt.plot(results[form]['metric'],\n",
    "                 label='{} {:.3}'.format(form, results[form]['metric'][-1]))\n",
    "    plt.title('Accuracy')\n",
    "    plt.xlabel('Epochs number')\n",
    "    plt.ylabel('Accuracy')\n",
    "    plt.legend()\n",
    "    plt.grid(ls='--')\n",
    "\n",
    "    plt.show()\n",
    "\n",
    "\n",
    "def train_model(model,\n",
    "                opt,\n",
    "                train_iter,\n",
    "                dev_iter,\n",
    "                scheduler=None,\n",
    "                epochs=15,\n",
    "                initial_epoch=0,\n",
    "                results=None):\n",
    "    if results is None:\n",
    "        results = {'train': {'loss': [], 'metric': []},\n",
    "                   'dev'  : {'loss': [], 'metric': []}}\n",
    "\n",
    "    for epoch in range(initial_epoch + 1, epochs + 1):\n",
    "        # use scheduler if available\n",
    "        \n",
    "        model.train()\n",
    "        desc = '[ Training {}/{} ]'.format(epoch, epochs)\n",
    "        loss_loc, acc_loc = epoch_step(model, train_iter, opt, desc=desc)\n",
    "        results['train']['loss'].append(loss_loc)\n",
    "        results['train']['metric'].append(acc_loc)\n",
    "\n",
    "        with torch.no_grad():\n",
    "            model.eval()\n",
    "            desc = '[ Validating {}/{} ]'.format(epoch, epochs)\n",
    "            loss_loc, acc_loc = epoch_step(model, dev_iter, desc=desc)\n",
    "            results['dev']['loss'].append(loss_loc)\n",
    "            results['dev']['metric'].append(acc_loc)\n",
    "            \n",
    "            # save best if needed\n",
    "\n",
    "        plot_results(results)\n",
    "        \n",
    "    return results"
   ]
  },
  {
   "cell_type": "markdown",
   "metadata": {},
   "source": [
    "Здесь любимый оптимизатор."
   ]
  },
  {
   "cell_type": "code",
   "execution_count": 50,
   "metadata": {},
   "outputs": [],
   "source": [
    "opt = torch.optim.Adam(filter(lambda p: p.requires_grad, net.parameters()))"
   ]
  },
  {
   "cell_type": "markdown",
   "metadata": {},
   "source": [
    "Наконец, обучим модель."
   ]
  },
  {
   "cell_type": "code",
   "execution_count": 51,
   "metadata": {
    "scrolled": true
   },
   "outputs": [
    {
     "data": {
      "image/png": "[encoded data removed]",
      "text/plain": [
       "<Figure size 432x288 with 2 Axes>"
      ]
     },
     "metadata": {
      "needs_background": "light"
     },
     "output_type": "display_data"
    }
   ],
   "source": [
    "results = train_model(net, opt, train_iter, dev_iter)"
   ]
  },
  {
   "cell_type": "markdown",
   "metadata": {},
   "source": [
    "Финальный результат."
   ]
  },
  {
   "cell_type": "code",
   "execution_count": 52,
   "metadata": {},
   "outputs": [
    {
     "name": "stderr",
     "output_type": "stream",
     "text": [
      "                                                              "
     ]
    },
    {
     "name": "stdout",
     "output_type": "stream",
     "text": [
      "Test loss 0.301\n",
      "Test accuracy 0.8902\n"
     ]
    },
    {
     "name": "stderr",
     "output_type": "stream",
     "text": [
      "\r"
     ]
    }
   ],
   "source": [
    "with torch.no_grad():\n",
    "    net.eval()\n",
    "    loss_loc, acc_loc = epoch_step(net, test_iter, desc='[ Testing ]')\n",
    "print('Test loss {:.3}\\nTest accuracy {:.4}'.format(loss_loc, acc_loc))"
   ]
  },
  {
   "cell_type": "markdown",
   "metadata": {},
   "source": [
    "## Что ещё можно попробовать\n",
    "\n",
    "#### Векторные представления\n",
    "\n",
    "Можно обучить сеть\n",
    "- с дообучением векторных представлений (`freeze=False`)\n",
    "- попробовать другие эмбеддинги\n",
    "- с нуля, т. е. без предобученных эмбеддингов и без замораживания (`freeze=False`)\n",
    "- то же самое что предыдущий пункт, но с замораживанием (`freeze=True`)\n",
    "\n",
    "Последний пункт может показаться странным, но задача очень простая и не обязательно иметь хорошие эмбеддинги :)\n",
    "\n",
    "#### Предобработка\n",
    "\n",
    "Написать продвинутую предобработку текстов, например, использовать лематизацию, стемминг. Использовать стоп слова. Удалять наиболее/наименее частотные слова.\n",
    "\n",
    "#### Архитектура сети\n",
    "\n",
    "Мы использовали очень простую сеть. Можно добавить свёрточные слои, селф-аттеншены, ручные признаки и т. д. и т. п. (но при этом не забываем про регуляризацию).\n",
    "\n",
    "#### Аугментация данных\n",
    "\n",
    "- Самый простой способ аугментировать данные, это заменять случайные слова на неизвестные (`<unk>`)\n",
    "- Заменять слова на синонимы или на ближайшие соседние слова в смысле евклидовой метрики на векторных представлениях\n",
    "- Можно делать двойной перевод, т. е. перевести на какой-нибудь другой язык и обратно"
   ]
  }
 ],
 "metadata": {
  "kernelspec": {
   "display_name": "Python 3",
   "language": "python",
   "name": "python3"
  },
  "language_info": {
   "codemirror_mode": {
    "name": "ipython",
    "version": 3
   },
   "file_extension": ".py",
   "mimetype": "text/x-python",
   "name": "python",
   "nbconvert_exporter": "python",
   "pygments_lexer": "ipython3",
   "version": "3.6.3"
  }
 },
 "nbformat": 4,
 "nbformat_minor": 2
}
