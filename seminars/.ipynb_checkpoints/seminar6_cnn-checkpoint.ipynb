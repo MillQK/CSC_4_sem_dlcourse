{
 "cells": [
  {
   "cell_type": "markdown",
   "metadata": {},
   "source": [
    "## Pretrained models"
   ]
  },
  {
   "cell_type": "markdown",
   "metadata": {},
   "source": [
    "### Torchvision\n",
    "\n",
    "[torchvision](https://github.com/pytorch/vision) - библиотека, содержащая популярные CV датасеты, утилиты для препроцессинга и, самое важное, pre-trained модели для классификации, обученные на [ImageNet](http://image-net.org/).\n",
    "\n",
    "Большая часть потребностей покрывается имеющимися моделями, но если нужна какая-то другая архитектура или нужно решать задачу, отличную от классификации, то хорошую реализацию и веса, скорее всего, получится нагуглить или найти на github"
   ]
  },
  {
   "cell_type": "code",
   "execution_count": 1,
   "metadata": {},
   "outputs": [
    {
     "data": {
      "text/plain": [
       "ResNet(\n",
       "  (conv1): Conv2d(3, 64, kernel_size=(7, 7), stride=(2, 2), padding=(3, 3), bias=False)\n",
       "  (bn1): BatchNorm2d(64, eps=1e-05, momentum=0.1, affine=True, track_running_stats=True)\n",
       "  (relu): ReLU(inplace)\n",
       "  (maxpool): MaxPool2d(kernel_size=3, stride=2, padding=1, dilation=1, ceil_mode=False)\n",
       "  (layer1): Sequential(\n",
       "    (0): Bottleneck(\n",
       "      (conv1): Conv2d(64, 64, kernel_size=(1, 1), stride=(1, 1), bias=False)\n",
       "      (bn1): BatchNorm2d(64, eps=1e-05, momentum=0.1, affine=True, track_running_stats=True)\n",
       "      (conv2): Conv2d(64, 64, kernel_size=(3, 3), stride=(1, 1), padding=(1, 1), bias=False)\n",
       "      (bn2): BatchNorm2d(64, eps=1e-05, momentum=0.1, affine=True, track_running_stats=True)\n",
       "      (conv3): Conv2d(64, 256, kernel_size=(1, 1), stride=(1, 1), bias=False)\n",
       "      (bn3): BatchNorm2d(256, eps=1e-05, momentum=0.1, affine=True, track_running_stats=True)\n",
       "      (relu): ReLU(inplace)\n",
       "      (downsample): Sequential(\n",
       "        (0): Conv2d(64, 256, kernel_size=(1, 1), stride=(1, 1), bias=False)\n",
       "        (1): BatchNorm2d(256, eps=1e-05, momentum=0.1, affine=True, track_running_stats=True)\n",
       "      )\n",
       "    )\n",
       "    (1): Bottleneck(\n",
       "      (conv1): Conv2d(256, 64, kernel_size=(1, 1), stride=(1, 1), bias=False)\n",
       "      (bn1): BatchNorm2d(64, eps=1e-05, momentum=0.1, affine=True, track_running_stats=True)\n",
       "      (conv2): Conv2d(64, 64, kernel_size=(3, 3), stride=(1, 1), padding=(1, 1), bias=False)\n",
       "      (bn2): BatchNorm2d(64, eps=1e-05, momentum=0.1, affine=True, track_running_stats=True)\n",
       "      (conv3): Conv2d(64, 256, kernel_size=(1, 1), stride=(1, 1), bias=False)\n",
       "      (bn3): BatchNorm2d(256, eps=1e-05, momentum=0.1, affine=True, track_running_stats=True)\n",
       "      (relu): ReLU(inplace)\n",
       "    )\n",
       "    (2): Bottleneck(\n",
       "      (conv1): Conv2d(256, 64, kernel_size=(1, 1), stride=(1, 1), bias=False)\n",
       "      (bn1): BatchNorm2d(64, eps=1e-05, momentum=0.1, affine=True, track_running_stats=True)\n",
       "      (conv2): Conv2d(64, 64, kernel_size=(3, 3), stride=(1, 1), padding=(1, 1), bias=False)\n",
       "      (bn2): BatchNorm2d(64, eps=1e-05, momentum=0.1, affine=True, track_running_stats=True)\n",
       "      (conv3): Conv2d(64, 256, kernel_size=(1, 1), stride=(1, 1), bias=False)\n",
       "      (bn3): BatchNorm2d(256, eps=1e-05, momentum=0.1, affine=True, track_running_stats=True)\n",
       "      (relu): ReLU(inplace)\n",
       "    )\n",
       "  )\n",
       "  (layer2): Sequential(\n",
       "    (0): Bottleneck(\n",
       "      (conv1): Conv2d(256, 128, kernel_size=(1, 1), stride=(1, 1), bias=False)\n",
       "      (bn1): BatchNorm2d(128, eps=1e-05, momentum=0.1, affine=True, track_running_stats=True)\n",
       "      (conv2): Conv2d(128, 128, kernel_size=(3, 3), stride=(2, 2), padding=(1, 1), bias=False)\n",
       "      (bn2): BatchNorm2d(128, eps=1e-05, momentum=0.1, affine=True, track_running_stats=True)\n",
       "      (conv3): Conv2d(128, 512, kernel_size=(1, 1), stride=(1, 1), bias=False)\n",
       "      (bn3): BatchNorm2d(512, eps=1e-05, momentum=0.1, affine=True, track_running_stats=True)\n",
       "      (relu): ReLU(inplace)\n",
       "      (downsample): Sequential(\n",
       "        (0): Conv2d(256, 512, kernel_size=(1, 1), stride=(2, 2), bias=False)\n",
       "        (1): BatchNorm2d(512, eps=1e-05, momentum=0.1, affine=True, track_running_stats=True)\n",
       "      )\n",
       "    )\n",
       "    (1): Bottleneck(\n",
       "      (conv1): Conv2d(512, 128, kernel_size=(1, 1), stride=(1, 1), bias=False)\n",
       "      (bn1): BatchNorm2d(128, eps=1e-05, momentum=0.1, affine=True, track_running_stats=True)\n",
       "      (conv2): Conv2d(128, 128, kernel_size=(3, 3), stride=(1, 1), padding=(1, 1), bias=False)\n",
       "      (bn2): BatchNorm2d(128, eps=1e-05, momentum=0.1, affine=True, track_running_stats=True)\n",
       "      (conv3): Conv2d(128, 512, kernel_size=(1, 1), stride=(1, 1), bias=False)\n",
       "      (bn3): BatchNorm2d(512, eps=1e-05, momentum=0.1, affine=True, track_running_stats=True)\n",
       "      (relu): ReLU(inplace)\n",
       "    )\n",
       "    (2): Bottleneck(\n",
       "      (conv1): Conv2d(512, 128, kernel_size=(1, 1), stride=(1, 1), bias=False)\n",
       "      (bn1): BatchNorm2d(128, eps=1e-05, momentum=0.1, affine=True, track_running_stats=True)\n",
       "      (conv2): Conv2d(128, 128, kernel_size=(3, 3), stride=(1, 1), padding=(1, 1), bias=False)\n",
       "      (bn2): BatchNorm2d(128, eps=1e-05, momentum=0.1, affine=True, track_running_stats=True)\n",
       "      (conv3): Conv2d(128, 512, kernel_size=(1, 1), stride=(1, 1), bias=False)\n",
       "      (bn3): BatchNorm2d(512, eps=1e-05, momentum=0.1, affine=True, track_running_stats=True)\n",
       "      (relu): ReLU(inplace)\n",
       "    )\n",
       "    (3): Bottleneck(\n",
       "      (conv1): Conv2d(512, 128, kernel_size=(1, 1), stride=(1, 1), bias=False)\n",
       "      (bn1): BatchNorm2d(128, eps=1e-05, momentum=0.1, affine=True, track_running_stats=True)\n",
       "      (conv2): Conv2d(128, 128, kernel_size=(3, 3), stride=(1, 1), padding=(1, 1), bias=False)\n",
       "      (bn2): BatchNorm2d(128, eps=1e-05, momentum=0.1, affine=True, track_running_stats=True)\n",
       "      (conv3): Conv2d(128, 512, kernel_size=(1, 1), stride=(1, 1), bias=False)\n",
       "      (bn3): BatchNorm2d(512, eps=1e-05, momentum=0.1, affine=True, track_running_stats=True)\n",
       "      (relu): ReLU(inplace)\n",
       "    )\n",
       "  )\n",
       "  (layer3): Sequential(\n",
       "    (0): Bottleneck(\n",
       "      (conv1): Conv2d(512, 256, kernel_size=(1, 1), stride=(1, 1), bias=False)\n",
       "      (bn1): BatchNorm2d(256, eps=1e-05, momentum=0.1, affine=True, track_running_stats=True)\n",
       "      (conv2): Conv2d(256, 256, kernel_size=(3, 3), stride=(2, 2), padding=(1, 1), bias=False)\n",
       "      (bn2): BatchNorm2d(256, eps=1e-05, momentum=0.1, affine=True, track_running_stats=True)\n",
       "      (conv3): Conv2d(256, 1024, kernel_size=(1, 1), stride=(1, 1), bias=False)\n",
       "      (bn3): BatchNorm2d(1024, eps=1e-05, momentum=0.1, affine=True, track_running_stats=True)\n",
       "      (relu): ReLU(inplace)\n",
       "      (downsample): Sequential(\n",
       "        (0): Conv2d(512, 1024, kernel_size=(1, 1), stride=(2, 2), bias=False)\n",
       "        (1): BatchNorm2d(1024, eps=1e-05, momentum=0.1, affine=True, track_running_stats=True)\n",
       "      )\n",
       "    )\n",
       "    (1): Bottleneck(\n",
       "      (conv1): Conv2d(1024, 256, kernel_size=(1, 1), stride=(1, 1), bias=False)\n",
       "      (bn1): BatchNorm2d(256, eps=1e-05, momentum=0.1, affine=True, track_running_stats=True)\n",
       "      (conv2): Conv2d(256, 256, kernel_size=(3, 3), stride=(1, 1), padding=(1, 1), bias=False)\n",
       "      (bn2): BatchNorm2d(256, eps=1e-05, momentum=0.1, affine=True, track_running_stats=True)\n",
       "      (conv3): Conv2d(256, 1024, kernel_size=(1, 1), stride=(1, 1), bias=False)\n",
       "      (bn3): BatchNorm2d(1024, eps=1e-05, momentum=0.1, affine=True, track_running_stats=True)\n",
       "      (relu): ReLU(inplace)\n",
       "    )\n",
       "    (2): Bottleneck(\n",
       "      (conv1): Conv2d(1024, 256, kernel_size=(1, 1), stride=(1, 1), bias=False)\n",
       "      (bn1): BatchNorm2d(256, eps=1e-05, momentum=0.1, affine=True, track_running_stats=True)\n",
       "      (conv2): Conv2d(256, 256, kernel_size=(3, 3), stride=(1, 1), padding=(1, 1), bias=False)\n",
       "      (bn2): BatchNorm2d(256, eps=1e-05, momentum=0.1, affine=True, track_running_stats=True)\n",
       "      (conv3): Conv2d(256, 1024, kernel_size=(1, 1), stride=(1, 1), bias=False)\n",
       "      (bn3): BatchNorm2d(1024, eps=1e-05, momentum=0.1, affine=True, track_running_stats=True)\n",
       "      (relu): ReLU(inplace)\n",
       "    )\n",
       "    (3): Bottleneck(\n",
       "      (conv1): Conv2d(1024, 256, kernel_size=(1, 1), stride=(1, 1), bias=False)\n",
       "      (bn1): BatchNorm2d(256, eps=1e-05, momentum=0.1, affine=True, track_running_stats=True)\n",
       "      (conv2): Conv2d(256, 256, kernel_size=(3, 3), stride=(1, 1), padding=(1, 1), bias=False)\n",
       "      (bn2): BatchNorm2d(256, eps=1e-05, momentum=0.1, affine=True, track_running_stats=True)\n",
       "      (conv3): Conv2d(256, 1024, kernel_size=(1, 1), stride=(1, 1), bias=False)\n",
       "      (bn3): BatchNorm2d(1024, eps=1e-05, momentum=0.1, affine=True, track_running_stats=True)\n",
       "      (relu): ReLU(inplace)\n",
       "    )\n",
       "    (4): Bottleneck(\n",
       "      (conv1): Conv2d(1024, 256, kernel_size=(1, 1), stride=(1, 1), bias=False)\n",
       "      (bn1): BatchNorm2d(256, eps=1e-05, momentum=0.1, affine=True, track_running_stats=True)\n",
       "      (conv2): Conv2d(256, 256, kernel_size=(3, 3), stride=(1, 1), padding=(1, 1), bias=False)\n",
       "      (bn2): BatchNorm2d(256, eps=1e-05, momentum=0.1, affine=True, track_running_stats=True)\n",
       "      (conv3): Conv2d(256, 1024, kernel_size=(1, 1), stride=(1, 1), bias=False)\n",
       "      (bn3): BatchNorm2d(1024, eps=1e-05, momentum=0.1, affine=True, track_running_stats=True)\n",
       "      (relu): ReLU(inplace)\n",
       "    )\n",
       "    (5): Bottleneck(\n",
       "      (conv1): Conv2d(1024, 256, kernel_size=(1, 1), stride=(1, 1), bias=False)\n",
       "      (bn1): BatchNorm2d(256, eps=1e-05, momentum=0.1, affine=True, track_running_stats=True)\n",
       "      (conv2): Conv2d(256, 256, kernel_size=(3, 3), stride=(1, 1), padding=(1, 1), bias=False)\n",
       "      (bn2): BatchNorm2d(256, eps=1e-05, momentum=0.1, affine=True, track_running_stats=True)\n",
       "      (conv3): Conv2d(256, 1024, kernel_size=(1, 1), stride=(1, 1), bias=False)\n",
       "      (bn3): BatchNorm2d(1024, eps=1e-05, momentum=0.1, affine=True, track_running_stats=True)\n",
       "      (relu): ReLU(inplace)\n",
       "    )\n",
       "  )\n",
       "  (layer4): Sequential(\n",
       "    (0): Bottleneck(\n",
       "      (conv1): Conv2d(1024, 512, kernel_size=(1, 1), stride=(1, 1), bias=False)\n",
       "      (bn1): BatchNorm2d(512, eps=1e-05, momentum=0.1, affine=True, track_running_stats=True)\n",
       "      (conv2): Conv2d(512, 512, kernel_size=(3, 3), stride=(2, 2), padding=(1, 1), bias=False)\n",
       "      (bn2): BatchNorm2d(512, eps=1e-05, momentum=0.1, affine=True, track_running_stats=True)\n",
       "      (conv3): Conv2d(512, 2048, kernel_size=(1, 1), stride=(1, 1), bias=False)\n",
       "      (bn3): BatchNorm2d(2048, eps=1e-05, momentum=0.1, affine=True, track_running_stats=True)\n",
       "      (relu): ReLU(inplace)\n",
       "      (downsample): Sequential(\n",
       "        (0): Conv2d(1024, 2048, kernel_size=(1, 1), stride=(2, 2), bias=False)\n",
       "        (1): BatchNorm2d(2048, eps=1e-05, momentum=0.1, affine=True, track_running_stats=True)\n",
       "      )\n",
       "    )\n",
       "    (1): Bottleneck(\n",
       "      (conv1): Conv2d(2048, 512, kernel_size=(1, 1), stride=(1, 1), bias=False)\n",
       "      (bn1): BatchNorm2d(512, eps=1e-05, momentum=0.1, affine=True, track_running_stats=True)\n",
       "      (conv2): Conv2d(512, 512, kernel_size=(3, 3), stride=(1, 1), padding=(1, 1), bias=False)\n",
       "      (bn2): BatchNorm2d(512, eps=1e-05, momentum=0.1, affine=True, track_running_stats=True)\n",
       "      (conv3): Conv2d(512, 2048, kernel_size=(1, 1), stride=(1, 1), bias=False)\n",
       "      (bn3): BatchNorm2d(2048, eps=1e-05, momentum=0.1, affine=True, track_running_stats=True)\n",
       "      (relu): ReLU(inplace)\n",
       "    )\n",
       "    (2): Bottleneck(\n",
       "      (conv1): Conv2d(2048, 512, kernel_size=(1, 1), stride=(1, 1), bias=False)\n",
       "      (bn1): BatchNorm2d(512, eps=1e-05, momentum=0.1, affine=True, track_running_stats=True)\n",
       "      (conv2): Conv2d(512, 512, kernel_size=(3, 3), stride=(1, 1), padding=(1, 1), bias=False)\n",
       "      (bn2): BatchNorm2d(512, eps=1e-05, momentum=0.1, affine=True, track_running_stats=True)\n",
       "      (conv3): Conv2d(512, 2048, kernel_size=(1, 1), stride=(1, 1), bias=False)\n",
       "      (bn3): BatchNorm2d(2048, eps=1e-05, momentum=0.1, affine=True, track_running_stats=True)\n",
       "      (relu): ReLU(inplace)\n",
       "    )\n",
       "  )\n",
       "  (avgpool): AvgPool2d(kernel_size=7, stride=1, padding=0)\n",
       "  (fc): Linear(in_features=2048, out_features=1000, bias=True)\n",
       ")"
      ]
     },
     "execution_count": 1,
     "metadata": {},
     "output_type": "execute_result"
    }
   ],
   "source": [
    "from torchvision import models as M\n",
    "\n",
    "model = M.resnet50(pretrained=True)\n",
    "model.train(False)"
   ]
  },
  {
   "cell_type": "markdown",
   "metadata": {},
   "source": [
    "## Transfer learning"
   ]
  },
  {
   "cell_type": "markdown",
   "metadata": {},
   "source": [
    "### Как достать признаки?\n",
    "\n",
    "- переопределить последний слой так, чтобы он ничего не делал (неплохой вариант, но что, если нужны признаки из внутрненнего слоя?)\n",
    "- написать хук, который будет возвращать признаки (хороший вариант)\n",
    "- покромсать сетку и делать forward pass только для тех слоев, которые нужны (плохой вариант)\n"
   ]
  },
  {
   "cell_type": "markdown",
   "metadata": {},
   "source": [
    "#### Способ 1. Переопределить последний слой\n",
    "\n",
    "***ВНИМАНИЕ 1:*** Серьезная проблема `torchvision` - отсутствие единого интерфейса у моделей. В каждой реализации слои имеют разные имена и при единовременной работе с разными моделями приходится писать обвязку из условий. Если использовать реализации других архитектур, то ситуация только ухудшается\n",
    "\n",
    "***ВНИМАНИЕ 2:*** В отличие от **Keras**, в **PyTorch** не принято делать последним слоем активацию. Нужная функция применяется при написании train / inference кода"
   ]
  },
  {
   "cell_type": "code",
   "execution_count": 2,
   "metadata": {},
   "outputs": [],
   "source": [
    "import torch\n",
    "from torch import nn\n",
    "from torch.autograd import Variable\n",
    "from copy import deepcopy\n",
    "\n",
    "model = M.resnet50(pretrained=True)\n",
    "features_model = deepcopy(model)\n",
    "\n",
    "class Identity(nn.Module):\n",
    "    def __init__(self):\n",
    "        super(Identity, self).__init__()\n",
    "\n",
    "    def forward(self, x):\n",
    "        return x\n",
    "        \n",
    "features_model.fc = Identity()\n",
    "\n",
    "dummy_x = Variable(torch.randn(1, 3, 224, 224))\n",
    "features = features_model(dummy_x)\n",
    "features_shape = features.data.numpy().shape\n",
    "assert features_shape == (1, 2048), 'expected (1, 2048), but real is {}'.format(features_shape)"
   ]
  },
  {
   "cell_type": "markdown",
   "metadata": {},
   "source": [
    "#### Способ 2. Forward hook"
   ]
  },
  {
   "cell_type": "code",
   "execution_count": 3,
   "metadata": {},
   "outputs": [],
   "source": [
    "import numpy as np\n",
    "\n",
    "avgpool_features = None\n",
    "\n",
    "def get_features(module, inputs, output):\n",
    "    global avgpool_features   \n",
    "    avgpool_features = np.squeeze(output.data.cpu().numpy(), axis=(2, 3))\n",
    "\n",
    "model = M.resnet50(pretrained=True)\n",
    "model.avgpool.register_forward_hook(get_features)\n",
    "\n",
    "dummy_x = Variable(torch.randn(1, 3, 224, 224))\n",
    "model(dummy_x)\n",
    "\n",
    "assert avgpool_features.shape == (1, 2048), 'expected (1, 2048), but real is {}'.format(avgpool_features.shape)"
   ]
  },
  {
   "cell_type": "markdown",
   "metadata": {},
   "source": [
    "### Обучение на признаках\n",
    "\n",
    "Обучим обычный sklearn-классификатор, которому на вход подадим признаки из нейросети\n",
    "\n",
    "В качестве датасета будем использовать данные конкурса https://www.kaggle.com/c/dogs-vs-cats/data\n",
    "\n",
    "Датасет содержит 25000 изображений кошек и собак, по 12500 каждого класса. Задача: определить, к какому классу относится конкретное изображение\n",
    "\n",
    "Для определения качества моделей будем использовать метрику ROC-AUC"
   ]
  },
  {
   "cell_type": "markdown",
   "metadata": {},
   "source": [
    "Скачаем и подготовим данные. Выделим 30% на валидацию"
   ]
  },
  {
   "cell_type": "code",
   "execution_count": 4,
   "metadata": {},
   "outputs": [],
   "source": [
    "import glob\n",
    "\n",
    "from sklearn.model_selection import train_test_split\n",
    "\n",
    "cat_fnames = glob.glob('./train/cat.*.jpg')\n",
    "dog_fnames = glob.glob('./train/dog.*.jpg')\n",
    "all_names = cat_fnames + dog_fnames\n",
    "labels = np.array([0] * len(cat_fnames) + [1] * len(dog_fnames))\n",
    "\n",
    "train_fnames, val_fnames, y_train, y_val = train_test_split(all_names, labels, test_size=0.3,\n",
    "                                                            random_state=42, shuffle=True, stratify=labels)"
   ]
  },
  {
   "cell_type": "markdown",
   "metadata": {},
   "source": [
    "В **PyTorch** можно удобно работать с данными с помощью классов `Dataset` и `DataLoader`\n",
    "\n",
    "Напишем свой датасет для расчет признаков изображений"
   ]
  },
  {
   "cell_type": "code",
   "execution_count": 5,
   "metadata": {},
   "outputs": [],
   "source": [
    "import os\n",
    "\n",
    "import cv2\n",
    "from tqdm import tqdm\n",
    "from scipy.misc import imread, imresize\n",
    "from torch.utils.data import Dataset, DataLoader\n",
    "from torchvision.transforms import Compose, Normalize, ToTensor\n",
    "\n",
    "\n",
    "class FeaturesDataset(Dataset):\n",
    "    def __init__(self, fnames, shape):\n",
    "        self._fnames = fnames\n",
    "        self._shape = shape\n",
    "        self._transform = Compose([\n",
    "            ToTensor(),\n",
    "            Normalize([0.485, 0.456, 0.406], [0.229, 0.224, 0.225])\n",
    "        ])\n",
    "\n",
    "    def __getitem__(self, index):\n",
    "        fname = self._fnames[index]\n",
    "        img = cv2.imread(fname)\n",
    "        img = cv2.resize(img, self._shape)\n",
    "        img = self._transform(img)\n",
    "        return img\n",
    "\n",
    "    def __len__(self):\n",
    "        return len(self._fnames)"
   ]
  },
  {
   "cell_type": "markdown",
   "metadata": {},
   "source": [
    "Теперь нужно как-то рассчитать признаки.\n",
    "\n",
    "Воспользуемся способом с хуком, но чтобы обойтись без глобальной переменной реализуем класс `FeatureExtractor`"
   ]
  },
  {
   "cell_type": "code",
   "execution_count": 6,
   "metadata": {},
   "outputs": [],
   "source": [
    "class FeatureExtractor:\n",
    "    def __init__(self, model, device='cuda'):\n",
    "        self._model = model\n",
    "        self._avgpool_features = None\n",
    "        self._device = device\n",
    "        self._model.avgpool.register_forward_hook(self._get_features)\n",
    "\n",
    "    def get_dataset_features(self, loader):\n",
    "        self._model.eval().to(self._device)\n",
    "        features = []\n",
    "        for sample in tqdm(loader):\n",
    "            _ = self._model(sample.to(self._device))\n",
    "            features.append(self._avgpool_features)\n",
    "        return np.concatenate(features)\n",
    "\n",
    "    def _get_features(self, module, inputs, output):\n",
    "        self._avgpool_features = np.squeeze(output.data.cpu().numpy(), axis=(2, 3))"
   ]
  },
  {
   "cell_type": "code",
   "execution_count": 7,
   "metadata": {},
   "outputs": [
    {
     "name": "stderr",
     "output_type": "stream",
     "text": [
      "100%|██████████████████████████████████████| 2188/2188 [03:59<00:00,  9.14it/s]\n",
      "100%|████████████████████████████████████████| 938/938 [01:44<00:00,  8.98it/s]\n"
     ]
    }
   ],
   "source": [
    "model = M.resnet50(pretrained=True)\n",
    "\n",
    "batch_size = 8\n",
    "num_workers = 0\n",
    "shape = (224, 224)\n",
    "\n",
    "train_dataset = FeaturesDataset(train_fnames, shape)\n",
    "train_loader = DataLoader(train_dataset, batch_size, shuffle=False, num_workers=num_workers)\n",
    "val_dataset = FeaturesDataset(val_fnames, shape)\n",
    "val_loader = DataLoader(val_dataset, batch_size, shuffle=False, num_workers=num_workers)\n",
    "\n",
    "extractor = FeatureExtractor(model, device='cuda')\n",
    "\n",
    "train_features = extractor.get_dataset_features(train_loader)\n",
    "val_features = extractor.get_dataset_features(val_loader)"
   ]
  },
  {
   "cell_type": "markdown",
   "metadata": {},
   "source": [
    "Теперь можно взять любой из известных классификаторов и подать найденные признаки на вход\n",
    "\n",
    "Должен получитсься очень хороший ROC-AUC"
   ]
  },
  {
   "cell_type": "code",
   "execution_count": 8,
   "metadata": {},
   "outputs": [
    {
     "name": "stderr",
     "output_type": "stream",
     "text": [
      "C:\\Users\\MAX\\Anaconda3\\lib\\site-packages\\sklearn\\ensemble\\weight_boosting.py:29: DeprecationWarning: numpy.core.umath_tests is an internal NumPy module and should not be imported. It will be removed in a future NumPy release.\n",
      "  from numpy.core.umath_tests import inner1d\n"
     ]
    }
   ],
   "source": [
    "from sklearn.ensemble import RandomForestClassifier, ExtraTreesClassifier, GradientBoostingClassifier, AdaBoostClassifier\n",
    "from sklearn.linear_model import LogisticRegression, RidgeClassifier\n",
    "from sklearn.svm import SVC\n",
    "from sklearn.tree import DecisionTreeClassifier\n",
    "\n",
    "from sklearn.metrics import roc_curve, roc_auc_score\n",
    "\n",
    "import matplotlib.pyplot as plt\n",
    "%matplotlib inline\n",
    "\n",
    "def plot_roc_auc(y_val, y_pred, model_name):\n",
    "    auc = roc_auc_score(y_val, y_pred)\n",
    "    plt.plot(*roc_curve(y_val, y_pred)[:2], label='{} AUC={:.4f}'.format(model_name, auc))\n",
    "\n",
    "    plt.plot([0, 1], [0, 1], '--', color='black')\n",
    "    plt.legend(fontsize='large')\n",
    "    plt.grid()"
   ]
  },
  {
   "cell_type": "code",
   "execution_count": 9,
   "metadata": {},
   "outputs": [
    {
     "data": {
      "text/plain": [
       "RandomForestClassifier(bootstrap=True, class_weight=None, criterion='gini',\n",
       "            max_depth=None, max_features='auto', max_leaf_nodes=None,\n",
       "            min_impurity_decrease=0.0, min_impurity_split=None,\n",
       "            min_samples_leaf=1, min_samples_split=2,\n",
       "            min_weight_fraction_leaf=0.0, n_estimators=10, n_jobs=1,\n",
       "            oob_score=False, random_state=42, verbose=0, warm_start=False)"
      ]
     },
     "execution_count": 9,
     "metadata": {},
     "output_type": "execute_result"
    }
   ],
   "source": [
    "clf = RandomForestClassifier(random_state=42)\n",
    "clf.fit(train_features, y_train)"
   ]
  },
  {
   "cell_type": "code",
   "execution_count": 10,
   "metadata": {},
   "outputs": [],
   "source": [
    "y_pred = clf.predict_proba(val_features)[:, 1]"
   ]
  },
  {
   "cell_type": "code",
   "execution_count": 11,
   "metadata": {},
   "outputs": [
    {
     "data": {
      "image/png": "[encoded data removed]",
      "text/plain": [
       "<Figure size 432x288 with 1 Axes>"
      ]
     },
     "metadata": {
      "needs_background": "light"
     },
     "output_type": "display_data"
    }
   ],
   "source": [
    "plot_roc_auc(y_val, y_pred, model_name='RF')"
   ]
  },
  {
   "cell_type": "markdown",
   "metadata": {},
   "source": [
    "### Fine-tuning"
   ]
  },
  {
   "cell_type": "markdown",
   "metadata": {},
   "source": [
    "Попробуем добиться лучшего качества модели путем ее дообучения"
   ]
  },
  {
   "cell_type": "code",
   "execution_count": 12,
   "metadata": {},
   "outputs": [],
   "source": [
    "from torch import nn\n",
    "from torchvision import models as M\n",
    "\n",
    "\n",
    "class ResnetFinetune(nn.Module):\n",
    "    def __init__(self):\n",
    "        super(ResnetFinetune, self).__init__()\n",
    "        self.net = M.resnet50(pretrained=True)\n",
    "        self.net.fc = nn.Sequential(\n",
    "            nn.Linear(self.net.fc.in_features, 256),\n",
    "            nn.ReLU(),\n",
    "            nn.Dropout(p=0.2),\n",
    "            nn.Linear(256, 1)\n",
    "        )\n",
    "\n",
    "    def fresh_parameters(self):\n",
    "        return self.net.fc.parameters()\n",
    "\n",
    "    def forward(self, x):\n",
    "        return self.net(x)"
   ]
  },
  {
   "cell_type": "code",
   "execution_count": 13,
   "metadata": {},
   "outputs": [],
   "source": [
    "import os\n",
    "\n",
    "import cv2\n",
    "from tqdm import tqdm\n",
    "from scipy.misc import imread, imresize\n",
    "from torch.utils.data import Dataset, DataLoader\n",
    "from torchvision.transforms import Compose, Normalize, ToTensor\n",
    "\n",
    "\n",
    "class CatsDogsDataset(Dataset):\n",
    "    def __init__(self, fnames, labels, shape):\n",
    "        self._fnames = fnames\n",
    "        self._labels = labels\n",
    "        self._shape = shape\n",
    "        self._transform = Compose([\n",
    "            ToTensor(),\n",
    "            Normalize([0.485, 0.456, 0.406], [0.229, 0.224, 0.225])\n",
    "        ])\n",
    "\n",
    "    def __getitem__(self, index):\n",
    "        fname = self._fnames[index]\n",
    "        img = cv2.imread(fname)\n",
    "        img = cv2.resize(img, self._shape)\n",
    "        img = self._transform(img)\n",
    "        return img, self._labels[index]\n",
    "\n",
    "    def __len__(self):\n",
    "        return len(self._fnames)"
   ]
  },
  {
   "cell_type": "code",
   "execution_count": 14,
   "metadata": {},
   "outputs": [],
   "source": [
    "def calculate_correct(y_true, y_pred):\n",
    "    correct = (y_true == y_pred).squeeze()\n",
    "    return correct.sum()"
   ]
  },
  {
   "cell_type": "code",
   "execution_count": 15,
   "metadata": {},
   "outputs": [],
   "source": [
    "import os\n",
    "from collections import defaultdict\n",
    "\n",
    "import numpy as np\n",
    "import torch\n",
    "import torch.nn as nn\n",
    "from tqdm import tqdm\n",
    "from torch.optim import Adam\n",
    "import torch.nn.functional as F\n",
    "\n",
    "\n",
    "class Trainer:    \n",
    "    def __init__(self, model, criterion, config, device='cuda'):\n",
    "        self._model = model\n",
    "        self._device = device\n",
    "        self._criterion = criterion\n",
    "        self._epochs = config['epochs']\n",
    "\n",
    "        if config['only_top']:\n",
    "            self._optimizer = Adam(self._model.fresh_parameters(), lr=config['lr'])\n",
    "        else:\n",
    "            self._optimizer = Adam(self._model.parameters(), lr=config['lr'])        \n",
    "\n",
    "        self._model.to(self._device)\n",
    "\n",
    "    def fit(self, train_loader, val_loader):\n",
    "        for epoch in range(self._epochs):\n",
    "            self._model.train()\n",
    "            train_loss, train_accuracy = self._run_epoch(epoch, train_loader, is_training=True)\n",
    "            print('Train. loss: {}, accuracy: {}'.format(train_loss, train_accuracy))\n",
    "            \n",
    "            self._model.eval()\n",
    "            val_loss, val_accuracy = self._run_epoch(epoch, val_loader, is_training=False)\n",
    "            print('Validation. loss: {}, accuracy: {}'.format(val_loss, val_accuracy))\n",
    "\n",
    "    def _run_epoch(self, epoch, loader, is_training):\n",
    "        loss = 0\n",
    "        correct = 0\n",
    "        if is_training:\n",
    "            pbar = tqdm(enumerate(loader), total=len(loader), desc='Epoch {}'.format(epoch), ncols=0)\n",
    "        else:\n",
    "            pbar = tqdm(enumerate(loader), total=len(loader), desc='Val', ncols=0)\n",
    "        \n",
    "        for i, data in pbar:\n",
    "            batch_loss, batch_correct = self._step(data, is_training)\n",
    "            loss += batch_loss\n",
    "            correct += batch_correct\n",
    "                    \n",
    "        loss /= len(loader)\n",
    "        accuracy = correct / len(loader.dataset)\n",
    "        return loss, accuracy\n",
    "    \n",
    "    def _step(self, data, is_training=True):\n",
    "        images = data[0].to(self._device)\n",
    "        y_true = data[1].to(self._device)\n",
    "\n",
    "        if is_training:\n",
    "            self._optimizer.zero_grad()\n",
    "\n",
    "        with torch.set_grad_enabled(is_training):\n",
    "            y_pred = self._model(images)\n",
    "            y_pred = y_pred.squeeze()\n",
    "            loss = self._criterion(y_pred, y_true.float())\n",
    "\n",
    "            if is_training:\n",
    "                loss.backward()\n",
    "                self._optimizer.step()\n",
    "            \n",
    "        probas = torch.sigmoid(y_pred)\n",
    "        labels = (probas > 0.5).int()\n",
    "        correct = calculate_correct(y_true=y_true, y_pred=labels)\n",
    "        return loss.item(), correct.item()"
   ]
  },
  {
   "cell_type": "markdown",
   "metadata": {},
   "source": [
    "Сначала будем учить только добавленные нами слои"
   ]
  },
  {
   "cell_type": "code",
   "execution_count": 16,
   "metadata": {},
   "outputs": [],
   "source": [
    "model = ResnetFinetune()"
   ]
  },
  {
   "cell_type": "code",
   "execution_count": 17,
   "metadata": {},
   "outputs": [],
   "source": [
    "batch_size = 8\n",
    "num_workers = 0\n",
    "shape = (224, 224)\n",
    "\n",
    "train_dataset = CatsDogsDataset(train_fnames, y_train, shape)\n",
    "train_loader = DataLoader(train_dataset, batch_size, shuffle=True, num_workers=num_workers)\n",
    "\n",
    "val_dataset = CatsDogsDataset(val_fnames, y_val, shape)\n",
    "val_loader = DataLoader(val_dataset, batch_size, shuffle=False, num_workers=num_workers)"
   ]
  },
  {
   "cell_type": "code",
   "execution_count": 18,
   "metadata": {},
   "outputs": [
    {
     "name": "stderr",
     "output_type": "stream",
     "text": [
      "Epoch 0: 100% 2188/2188 [06:32<00:00,  6.31it/s]\n"
     ]
    },
    {
     "name": "stdout",
     "output_type": "stream",
     "text": [
      "Train. loss: 0.20357629037779285, accuracy: 0.9174857142857142\n"
     ]
    },
    {
     "name": "stderr",
     "output_type": "stream",
     "text": [
      "Val: 100% 938/938 [01:06<00:00, 14.55it/s]\n"
     ]
    },
    {
     "name": "stdout",
     "output_type": "stream",
     "text": [
      "Validation. loss: 0.0708706068262996, accuracy: 0.9746666666666667\n"
     ]
    },
    {
     "name": "stderr",
     "output_type": "stream",
     "text": [
      "Epoch 1: 100% 2188/2188 [06:25<00:00,  6.39it/s]\n"
     ]
    },
    {
     "name": "stdout",
     "output_type": "stream",
     "text": [
      "Train. loss: 0.15919941237307103, accuracy: 0.9354285714285714\n"
     ]
    },
    {
     "name": "stderr",
     "output_type": "stream",
     "text": [
      "Val: 100% 938/938 [01:05<00:00, 15.53it/s]\n"
     ]
    },
    {
     "name": "stdout",
     "output_type": "stream",
     "text": [
      "Validation. loss: 0.06214890348706901, accuracy: 0.9808\n"
     ]
    },
    {
     "name": "stderr",
     "output_type": "stream",
     "text": [
      "Epoch 2: 100% 2188/2188 [06:24<00:00,  6.44it/s]\n"
     ]
    },
    {
     "name": "stdout",
     "output_type": "stream",
     "text": [
      "Train. loss: 0.1522085330894328, accuracy: 0.9385714285714286\n"
     ]
    },
    {
     "name": "stderr",
     "output_type": "stream",
     "text": [
      "Val: 100% 938/938 [01:05<00:00, 15.44it/s]\n"
     ]
    },
    {
     "name": "stdout",
     "output_type": "stream",
     "text": [
      "Validation. loss: 0.06123416478880175, accuracy: 0.9802666666666666\n"
     ]
    },
    {
     "name": "stderr",
     "output_type": "stream",
     "text": [
      "Epoch 3: 100% 2188/2188 [06:20<00:00,  6.44it/s]\n"
     ]
    },
    {
     "name": "stdout",
     "output_type": "stream",
     "text": [
      "Train. loss: 0.1426537160184792, accuracy: 0.9428\n"
     ]
    },
    {
     "name": "stderr",
     "output_type": "stream",
     "text": [
      "Val: 100% 938/938 [01:04<00:00, 15.54it/s]\n"
     ]
    },
    {
     "name": "stdout",
     "output_type": "stream",
     "text": [
      "Validation. loss: 0.0619306501515339, accuracy: 0.9762666666666666\n"
     ]
    },
    {
     "name": "stderr",
     "output_type": "stream",
     "text": [
      "Epoch 4: 100% 2188/2188 [06:18<00:00,  6.46it/s]\n"
     ]
    },
    {
     "name": "stdout",
     "output_type": "stream",
     "text": [
      "Train. loss: 0.13953472722331964, accuracy: 0.9446857142857142\n"
     ]
    },
    {
     "name": "stderr",
     "output_type": "stream",
     "text": [
      "Val: 100% 938/938 [01:06<00:00, 14.21it/s]\n"
     ]
    },
    {
     "name": "stdout",
     "output_type": "stream",
     "text": [
      "Validation. loss: 0.0663592719952103, accuracy: 0.9764\n"
     ]
    },
    {
     "name": "stderr",
     "output_type": "stream",
     "text": [
      "Epoch 5: 100% 2188/2188 [06:18<00:00,  6.45it/s]\n"
     ]
    },
    {
     "name": "stdout",
     "output_type": "stream",
     "text": [
      "Train. loss: 0.141493179957707, accuracy: 0.9446285714285715\n"
     ]
    },
    {
     "name": "stderr",
     "output_type": "stream",
     "text": [
      "Val: 100% 938/938 [01:04<00:00, 15.63it/s]\n"
     ]
    },
    {
     "name": "stdout",
     "output_type": "stream",
     "text": [
      "Validation. loss: 0.05414866605471484, accuracy: 0.9805333333333334\n"
     ]
    },
    {
     "name": "stderr",
     "output_type": "stream",
     "text": [
      "Epoch 6: 100% 2188/2188 [06:18<00:00,  6.54it/s]\n"
     ]
    },
    {
     "name": "stdout",
     "output_type": "stream",
     "text": [
      "Train. loss: 0.13268893576146243, accuracy: 0.9461142857142857\n"
     ]
    },
    {
     "name": "stderr",
     "output_type": "stream",
     "text": [
      "Val: 100% 938/938 [01:04<00:00, 15.34it/s]\n"
     ]
    },
    {
     "name": "stdout",
     "output_type": "stream",
     "text": [
      "Validation. loss: 0.05404190184409928, accuracy: 0.9808\n"
     ]
    },
    {
     "name": "stderr",
     "output_type": "stream",
     "text": [
      "Epoch 7: 100% 2188/2188 [06:20<00:00,  6.52it/s]\n"
     ]
    },
    {
     "name": "stdout",
     "output_type": "stream",
     "text": [
      "Train. loss: 0.13072011231860742, accuracy: 0.9488\n"
     ]
    },
    {
     "name": "stderr",
     "output_type": "stream",
     "text": [
      "Val: 100% 938/938 [01:04<00:00, 15.63it/s]\n"
     ]
    },
    {
     "name": "stdout",
     "output_type": "stream",
     "text": [
      "Validation. loss: 0.07809888640762484, accuracy: 0.9670666666666666\n"
     ]
    },
    {
     "name": "stderr",
     "output_type": "stream",
     "text": [
      "Epoch 8: 100% 2188/2188 [06:18<00:00,  6.46it/s]\n"
     ]
    },
    {
     "name": "stdout",
     "output_type": "stream",
     "text": [
      "Train. loss: 0.11842062692345211, accuracy: 0.9532\n"
     ]
    },
    {
     "name": "stderr",
     "output_type": "stream",
     "text": [
      "Val: 100% 938/938 [01:05<00:00, 15.67it/s]\n"
     ]
    },
    {
     "name": "stdout",
     "output_type": "stream",
     "text": [
      "Validation. loss: 0.045221996445895876, accuracy: 0.9821333333333333\n"
     ]
    },
    {
     "name": "stderr",
     "output_type": "stream",
     "text": [
      "Epoch 9: 100% 2188/2188 [06:19<00:00,  6.55it/s]\n"
     ]
    },
    {
     "name": "stdout",
     "output_type": "stream",
     "text": [
      "Train. loss: 0.11777840266427993, accuracy: 0.9517714285714286\n"
     ]
    },
    {
     "name": "stderr",
     "output_type": "stream",
     "text": [
      "Val: 100% 938/938 [01:05<00:00, 15.69it/s]\n"
     ]
    },
    {
     "name": "stdout",
     "output_type": "stream",
     "text": [
      "Validation. loss: 0.04322098357876008, accuracy: 0.9814666666666667\n"
     ]
    }
   ],
   "source": [
    "from torch.nn import BCEWithLogitsLoss\n",
    "\n",
    "config = {\n",
    "    'lr': 1e-3,\n",
    "    'epochs': 10,\n",
    "    'only_top': True\n",
    "}\n",
    "\n",
    "trainer = Trainer(model, BCEWithLogitsLoss(), config, device='cuda')\n",
    "trainer.fit(train_loader, val_loader)"
   ]
  },
  {
   "cell_type": "code",
   "execution_count": 19,
   "metadata": {},
   "outputs": [],
   "source": [
    "import os\n",
    "from collections import defaultdict\n",
    "\n",
    "import numpy as np\n",
    "import torch\n",
    "import torch.nn as nn\n",
    "from tqdm import tqdm\n",
    "from torch.optim import Adam\n",
    "import torch.nn.functional as F\n",
    "\n",
    "\n",
    "class Evaluator:    \n",
    "    def __init__(self, model, device='cuda'):\n",
    "        self._model = model\n",
    "        self._device = device\n",
    "\n",
    "    def predict(self, loader):\n",
    "        y_pred = []\n",
    "        self._model.eval().to(self._device)\n",
    "        \n",
    "        for i, data in tqdm(enumerate(loader), total=len(loader)):\n",
    "            batch_pred = self._step(data)\n",
    "            y_pred.append(batch_pred)\n",
    "        \n",
    "        return np.concatenate(y_pred)\n",
    "    \n",
    "    def _step(self, data, is_training=True):\n",
    "        images = data[0].to(self._device)\n",
    "\n",
    "        with torch.no_grad():\n",
    "            y_pred = self._model(images)\n",
    "        \n",
    "        y_pred = y_pred.squeeze()\n",
    "        y_pred = torch.sigmoid(y_pred)\n",
    "        return y_pred.cpu().data.numpy()"
   ]
  },
  {
   "cell_type": "code",
   "execution_count": 20,
   "metadata": {},
   "outputs": [
    {
     "name": "stderr",
     "output_type": "stream",
     "text": [
      "100%|████████████████████████████████████████| 938/938 [01:04<00:00, 16.01it/s]\n"
     ]
    }
   ],
   "source": [
    "evaluator = Evaluator(model, device='cuda')\n",
    "y_pred = evaluator.predict(val_loader)"
   ]
  },
  {
   "cell_type": "code",
   "execution_count": 21,
   "metadata": {},
   "outputs": [
    {
     "data": {
      "image/png": "[encoded data removed]",
      "text/plain": [
       "<Figure size 432x288 with 1 Axes>"
      ]
     },
     "metadata": {
      "needs_background": "light"
     },
     "output_type": "display_data"
    }
   ],
   "source": [
    "plot_roc_auc(y_val, y_pred, model_name='Resnet finetuned')"
   ]
  },
  {
   "cell_type": "markdown",
   "metadata": {},
   "source": [
    "Теперь разморозим все веса и обучим несколько эпох с низким *learning rate*"
   ]
  },
  {
   "cell_type": "code",
   "execution_count": 22,
   "metadata": {},
   "outputs": [
    {
     "name": "stderr",
     "output_type": "stream",
     "text": [
      "Epoch 0: 100% 2188/2188 [08:03<00:00,  4.81it/s]\n"
     ]
    },
    {
     "name": "stdout",
     "output_type": "stream",
     "text": [
      "Train. loss: 0.12114655467431099, accuracy: 0.9549142857142857\n"
     ]
    },
    {
     "name": "stderr",
     "output_type": "stream",
     "text": [
      "Val: 100% 938/938 [01:06<00:00, 15.40it/s]\n"
     ]
    },
    {
     "name": "stdout",
     "output_type": "stream",
     "text": [
      "Validation. loss: 0.06073368054351632, accuracy: 0.9757333333333333\n"
     ]
    },
    {
     "name": "stderr",
     "output_type": "stream",
     "text": [
      "Epoch 1: 100% 2188/2188 [08:31<00:00,  4.58it/s]\n"
     ]
    },
    {
     "name": "stdout",
     "output_type": "stream",
     "text": [
      "Train. loss: 0.06696203611710842, accuracy: 0.9769142857142857\n"
     ]
    },
    {
     "name": "stderr",
     "output_type": "stream",
     "text": [
      "Val: 100% 938/938 [01:09<00:00, 15.32it/s]\n"
     ]
    },
    {
     "name": "stdout",
     "output_type": "stream",
     "text": [
      "Validation. loss: 0.0728148212397997, accuracy: 0.9717333333333333\n"
     ]
    },
    {
     "name": "stderr",
     "output_type": "stream",
     "text": [
      "Epoch 2: 100% 2188/2188 [08:17<00:00,  4.80it/s]\n"
     ]
    },
    {
     "name": "stdout",
     "output_type": "stream",
     "text": [
      "Train. loss: 0.05439092697022357, accuracy: 0.9811428571428571\n"
     ]
    },
    {
     "name": "stderr",
     "output_type": "stream",
     "text": [
      "Val: 100% 938/938 [01:06<00:00, 15.53it/s]\n"
     ]
    },
    {
     "name": "stdout",
     "output_type": "stream",
     "text": [
      "Validation. loss: 0.05090371531722859, accuracy: 0.9792\n"
     ]
    },
    {
     "name": "stderr",
     "output_type": "stream",
     "text": [
      "Epoch 3: 100% 2188/2188 [08:26<00:00,  4.41it/s]\n"
     ]
    },
    {
     "name": "stdout",
     "output_type": "stream",
     "text": [
      "Train. loss: 0.047493006413392644, accuracy: 0.9831428571428571\n"
     ]
    },
    {
     "name": "stderr",
     "output_type": "stream",
     "text": [
      "Val: 100% 938/938 [01:08<00:00, 15.07it/s]\n"
     ]
    },
    {
     "name": "stdout",
     "output_type": "stream",
     "text": [
      "Validation. loss: 0.0758628718194775, accuracy: 0.9668\n"
     ]
    },
    {
     "name": "stderr",
     "output_type": "stream",
     "text": [
      "Epoch 4: 100% 2188/2188 [08:17<00:00,  4.69it/s]\n"
     ]
    },
    {
     "name": "stdout",
     "output_type": "stream",
     "text": [
      "Train. loss: 0.036709289235131, accuracy: 0.9853714285714286\n"
     ]
    },
    {
     "name": "stderr",
     "output_type": "stream",
     "text": [
      "Val: 100% 938/938 [01:06<00:00, 15.48it/s]\n"
     ]
    },
    {
     "name": "stdout",
     "output_type": "stream",
     "text": [
      "Validation. loss: 0.15548500221863884, accuracy: 0.9337333333333333\n"
     ]
    },
    {
     "name": "stderr",
     "output_type": "stream",
     "text": [
      "Epoch 5: 100% 2188/2188 [08:57<00:00,  4.09it/s]\n"
     ]
    },
    {
     "name": "stdout",
     "output_type": "stream",
     "text": [
      "Train. loss: 0.03432262711153319, accuracy: 0.9881714285714286\n"
     ]
    },
    {
     "name": "stderr",
     "output_type": "stream",
     "text": [
      "Val: 100% 938/938 [01:15<00:00, 15.56it/s]\n"
     ]
    },
    {
     "name": "stdout",
     "output_type": "stream",
     "text": [
      "Validation. loss: 0.15912538152665634, accuracy: 0.9510666666666666\n"
     ]
    },
    {
     "name": "stderr",
     "output_type": "stream",
     "text": [
      "Epoch 6: 100% 2188/2188 [08:13<00:00,  4.82it/s]\n"
     ]
    },
    {
     "name": "stdout",
     "output_type": "stream",
     "text": [
      "Train. loss: 0.03408647150430046, accuracy: 0.9881142857142857\n"
     ]
    },
    {
     "name": "stderr",
     "output_type": "stream",
     "text": [
      "Val: 100% 938/938 [01:06<00:00, 15.46it/s]\n"
     ]
    },
    {
     "name": "stdout",
     "output_type": "stream",
     "text": [
      "Validation. loss: 0.05869730076193915, accuracy: 0.9784\n"
     ]
    },
    {
     "name": "stderr",
     "output_type": "stream",
     "text": [
      "Epoch 7: 100% 2188/2188 [08:10<00:00,  4.94it/s]\n"
     ]
    },
    {
     "name": "stdout",
     "output_type": "stream",
     "text": [
      "Train. loss: 0.02596861609509063, accuracy: 0.9907428571428571\n"
     ]
    },
    {
     "name": "stderr",
     "output_type": "stream",
     "text": [
      "Val: 100% 938/938 [01:04<00:00, 15.70it/s]\n"
     ]
    },
    {
     "name": "stdout",
     "output_type": "stream",
     "text": [
      "Validation. loss: 0.07158381473956447, accuracy: 0.9770666666666666\n"
     ]
    },
    {
     "name": "stderr",
     "output_type": "stream",
     "text": [
      "Epoch 8: 100% 2188/2188 [08:05<00:00,  4.95it/s]\n"
     ]
    },
    {
     "name": "stdout",
     "output_type": "stream",
     "text": [
      "Train. loss: 0.02249882251962645, accuracy: 0.9926857142857143\n"
     ]
    },
    {
     "name": "stderr",
     "output_type": "stream",
     "text": [
      "Val: 100% 938/938 [01:05<00:00, 15.63it/s]\n"
     ]
    },
    {
     "name": "stdout",
     "output_type": "stream",
     "text": [
      "Validation. loss: 0.07577532035220629, accuracy: 0.9729333333333333\n"
     ]
    },
    {
     "name": "stderr",
     "output_type": "stream",
     "text": [
      "Epoch 9: 100% 2188/2188 [08:07<00:00,  4.84it/s]\n"
     ]
    },
    {
     "name": "stdout",
     "output_type": "stream",
     "text": [
      "Train. loss: 0.023084395240552506, accuracy: 0.9915428571428572\n"
     ]
    },
    {
     "name": "stderr",
     "output_type": "stream",
     "text": [
      "Val: 100% 938/938 [01:10<00:00, 13.22it/s]\n"
     ]
    },
    {
     "name": "stdout",
     "output_type": "stream",
     "text": [
      "Validation. loss: 0.07508436467607098, accuracy: 0.9756\n"
     ]
    }
   ],
   "source": [
    "from torch.nn import BCEWithLogitsLoss\n",
    "\n",
    "config = {\n",
    "    'lr': 1e-4,\n",
    "    'epochs': 10,\n",
    "    'only_top': False\n",
    "}\n",
    "\n",
    "trainer = Trainer(model, BCEWithLogitsLoss(), config, device='cuda')\n",
    "trainer.fit(train_loader, val_loader)"
   ]
  },
  {
   "cell_type": "code",
   "execution_count": 23,
   "metadata": {},
   "outputs": [
    {
     "name": "stderr",
     "output_type": "stream",
     "text": [
      "100%|████████████████████████████████████████| 938/938 [01:06<00:00, 15.84it/s]\n"
     ]
    }
   ],
   "source": [
    "evaluator = Evaluator(model, device='cuda')\n",
    "y_pred = evaluator.predict(val_loader)"
   ]
  },
  {
   "cell_type": "code",
   "execution_count": 24,
   "metadata": {},
   "outputs": [
    {
     "data": {
      "image/png": "[encoded data removed]",
      "text/plain": [
       "<Figure size 432x288 with 1 Axes>"
      ]
     },
     "metadata": {
      "needs_background": "light"
     },
     "output_type": "display_data"
    }
   ],
   "source": [
    "plot_roc_auc(y_val, y_pred, model_name='Resnet finetuned no freeze')"
   ]
  },
  {
   "cell_type": "markdown",
   "metadata": {},
   "source": [
    "## Пишем свою CNN"
   ]
  },
  {
   "cell_type": "markdown",
   "metadata": {},
   "source": [
    "### Типичные ошибки\n",
    "\n",
    "Рассмотрим несколько примеров архитектур в связке с функциями потерь и попробуем найти какие-то проблемы\n",
    "\n",
    "Для простоты будем использовать `nn.Sequential`"
   ]
  },
  {
   "cell_type": "code",
   "execution_count": null,
   "metadata": {},
   "outputs": [],
   "source": [
    "import torch, torch.nn as nn\n",
    "import torch.nn.functional as F\n",
    "from torch.autograd import Variable\n",
    "from torch.nn.modules.loss import MSELoss, BCELoss, BCEWithLogitsLoss\n",
    "\n",
    "\n",
    "# [batch, channel, w, h] -> [batch, units]\n",
    "class Flatten(nn.Module):\n",
    "    def forward(self, input):\n",
    "        return input.view(input.size(0), -1)"
   ]
  },
  {
   "cell_type": "markdown",
   "metadata": {},
   "source": [
    "#### Задача 1\n",
    "\n",
    "Предсказать стоимость автомобиля, на вход 100 признаков, описывающих автомобиль"
   ]
  },
  {
   "cell_type": "code",
   "execution_count": null,
   "metadata": {},
   "outputs": [],
   "source": [
    "model = nn.Sequential(\n",
    "    nn.BatchNorm2d(num_features=100),\n",
    "    nn.Linear(in_features=3, out_features=256),\n",
    "    nn.Linear(in_features=256, out_features=256),\n",
    "    nn.Linear(in_features=256, out_features=1)\n",
    ")\n",
    "\n",
    "loss = MSELoss()"
   ]
  },
  {
   "cell_type": "code",
   "execution_count": null,
   "metadata": {},
   "outputs": [],
   "source": [
    "model = nn.Sequential(\n",
    "    nn.BatchNorm2d(num_features=100),\n",
    "    # не ошибка, но обычно лучше нормализовать входы\n",
    "    # однако в pytorch довольно медленная реализация Normalize\n",
    "\n",
    "    nn.Linear(in_features=3, out_features=256),\n",
    "    # неправильное число входов\n",
    "    nn.Linear(in_features=256, out_features=256),\n",
    "    # полносвязные слои без нелинейностей (нейросеть не лучше линейной регрессии)\n",
    "    \n",
    "    nn.Linear(in_features=256, out_features=1)\n",
    "    # а здесь нет ошибки, нелинейность не нужна, т.к. решаем задачу регрессии\n",
    ")\n",
    "\n",
    "loss = MSELoss()"
   ]
  },
  {
   "cell_type": "markdown",
   "metadata": {},
   "source": [
    "#### Задача 2\n",
    "\n",
    "MNIST: Распознать рукописную цифру (0-9), на вход ч/б картинка 28x28 пикселей"
   ]
  },
  {
   "cell_type": "code",
   "execution_count": null,
   "metadata": {},
   "outputs": [],
   "source": [
    "model = nn.Sequential(\n",
    "    nn.Conv2d(in_channels=3, out_channels=512, kernel_size=(3, 3)),\n",
    "    nn.ReLU(),\n",
    "    nn.MaxPool2d((2, 2)),\n",
    "    nn.Conv2d(in_channels=512, out_channels=256, kernel_size=(3, 3)),\n",
    "    nn.ReLU(),\n",
    "    nn.MaxPool2d((2, 2)),\n",
    "\n",
    "    Flatten(),\n",
    "    nn.Linear(in_features=256, out_features=100),\n",
    "    nn.ReLU(),\n",
    "    nn.Dropout(0.2),\n",
    "    \n",
    "    nn.Linear(in_features=100, out_features=10),\n",
    "    nn.Softmax(),\n",
    "    nn.Dropout(0.1)\n",
    ")\n",
    "\n",
    "loss = MSELoss()"
   ]
  },
  {
   "cell_type": "code",
   "execution_count": null,
   "metadata": {},
   "outputs": [],
   "source": [
    "model = nn.Sequential(\n",
    "    nn.Conv2d(in_channels=3, out_channels=512, kernel_size=(3, 3)),\n",
    "    # 1. у нас ч/б картинки, значит 1 входной канал, а не 3\n",
    "    # 2. многовато фильтров, вряд ли найдётся 512 значимо разных 3x3 карты\n",
    "    nn.ReLU(),\n",
    "    nn.MaxPool2d((2, 2)),\n",
    "    # не ошибка, но relu и max pool можно переставить местами\n",
    "    \n",
    "    nn.Conv2d(in_channels=512, out_channels=256, kernel_size=(3, 3)),\n",
    "    # обычно в каждом следующем слое требуется больше фильтров\n",
    "    nn.ReLU(),\n",
    "    nn.MaxPool2d((2, 2)),\n",
    "    \n",
    "    Flatten(),\n",
    "    nn.Linear(in_features=256, out_features=100),\n",
    "    # 1. неправильное значение in_features, должно быть 5*5*256\n",
    "    # 2. возможно, слишком резкий переход от 5*5*256 к 100\n",
    "    nn.ReLU(),\n",
    "    nn.Dropout(0.2),\n",
    "    # не ошибка, хороший dropout\n",
    "    \n",
    "    nn.Linear(in_features=100, out_features=10),\n",
    "    nn.Sigmoid(),\n",
    "    # 1. многоклассовая классификация, поэтому нужен softmax\n",
    "    # 2. в pytorch принято, чтобы последним слоем был линейный, а softmax применялся в train / inference коде\n",
    "    \n",
    "    nn.Dropout(0.25)\n",
    "    # не стоит делать dropout на выходе, есть риск получить бесконечный лосс (сумма вероятностей не равна 1)\n",
    ")\n",
    "\n",
    "loss = MSELoss()\n",
    "# не стоит учить классификацию с MSE лоссом"
   ]
  },
  {
   "cell_type": "markdown",
   "metadata": {},
   "source": [
    "#### Задача 3\n",
    "\n",
    "Бинарная классификация изображений, на вход картинка RGB 100x100 пикселей"
   ]
  },
  {
   "cell_type": "code",
   "execution_count": null,
   "metadata": {},
   "outputs": [],
   "source": [
    "model = nn.Sequential(\n",
    "    nn.Conv2d(in_channels=3, out_channels=32, kernel_size=(10, 10)),\n",
    "    nn.Softmax(),\n",
    "    nn.MaxPool2d((6, 6)),\n",
    "    nn.Conv2d(in_channels=32, out_channels=64, kernel_size=(10, 10)),\n",
    "    nn.Softmax(),\n",
    "    nn.MaxPool2d((6, 6)),\n",
    "    nn.Conv2d(in_channels=64, out_channels=128, kernel_size=(10, 10)),\n",
    "    nn.Softmax(),\n",
    "    nn.MaxPool2d((6, 6)),\n",
    "    \n",
    "    Flatten(),\n",
    "    nn.Linear(in_features=128, out_features=256),\n",
    "    nn.Softmax(),\n",
    "    nn.Dropout(0.8),\n",
    "    nn.Linear(in_features=256, out_features=1)\n",
    ")\n",
    "\n",
    "loss = BCEWithLogitsLoss()"
   ]
  },
  {
   "cell_type": "code",
   "execution_count": null,
   "metadata": {},
   "outputs": [],
   "source": [
    "model = nn.Sequential(\n",
    "    nn.Conv2d(in_channels=3, out_channels=32, kernel_size=(10, 10)),\n",
    "    # слишком большой размер ядра 10x10\n",
    "    \n",
    "    nn.Softmax(),\n",
    "    # softmax - плохой вариант для промежуточных активаций (почти все нейроны будут близки к 0)\n",
    "    \n",
    "    nn.MaxPool2d((6, 6)),\n",
    "    # очень редко нужен пулинг с таким большим ядром\n",
    "    \n",
    "    nn.Conv2d(in_channels=32, out_channels=64, kernel_size=(10, 10)),\n",
    "    nn.Softmax(),\n",
    "    nn.MaxPool2d((6, 6)),\n",
    "    nn.Conv2d(in_channels=64, out_channels=128, kernel_size=(10, 10)),\n",
    "    # изображение в этотм момент будет 1х1, а размер ядра 10x10\n",
    "    # Вывод: нужно следить за размерностями внутри сети\n",
    "    nn.Softmax(),\n",
    "    nn.MaxPool2d((2, 2)),\n",
    "    \n",
    "    Flatten(),\n",
    "    nn.Linear(in_features=128, out_features=256),\n",
    "    # неправильное число in_features, нужно считать в зависмости от размеров ядер сверток и пулингов\n",
    "    nn.Softmax(),\n",
    "    nn.Dropout(0.8),\n",
    "    nn.Linear(in_features=256, out_features=1)\n",
    "    # в зависимости от использумой далее функции количество нейронов может быть равным 1 или 2\n",
    "    # sigmoid - 1, softmax - 2\n",
    ")\n",
    "\n",
    "loss = BCEWithLogitsLoss()"
   ]
  },
  {
   "cell_type": "markdown",
   "metadata": {},
   "source": [
    "### MNIST\n",
    "\n",
    "Напишем свою сетку для решения задачи распознавания рукописных чисел\n",
    "\n",
    "Датасет содержит ч/б изображения размером 28x28 пикселей"
   ]
  },
  {
   "cell_type": "markdown",
   "metadata": {},
   "source": [
    "Также реализуем `early_stopping` и попробуем `lr_scheduler.ReduceLROnPlateau`"
   ]
  },
  {
   "cell_type": "code",
   "execution_count": 25,
   "metadata": {},
   "outputs": [
    {
     "name": "stderr",
     "output_type": "stream",
     "text": [
      "C:\\Users\\MAX\\Anaconda3\\lib\\site-packages\\tqdm\\autonotebook\\__init__.py:14: TqdmExperimentalWarning: Using `tqdm.autonotebook.tqdm` in notebook mode. Use `tqdm.tqdm` instead to force console mode (e.g. in jupyter console)\n",
      "  \" (e.g. in jupyter console)\", TqdmExperimentalWarning)\n"
     ]
    }
   ],
   "source": [
    "import os\n",
    "from collections import defaultdict\n",
    "\n",
    "import numpy as np\n",
    "import torch\n",
    "import torch.nn as nn\n",
    "from tqdm.autonotebook import tqdm\n",
    "from torch.optim import Adam\n",
    "from torch.optim.lr_scheduler import ReduceLROnPlateau\n",
    "import torch.nn.functional as F\n",
    "\n",
    "\n",
    "class MNISTTrainer:    \n",
    "    def __init__(self, model, criterion, config, device='cuda'):\n",
    "        self._model = model\n",
    "        self._device = device\n",
    "        self._criterion = criterion\n",
    "        \n",
    "        self._model.to(self._device)\n",
    "        \n",
    "        self._epochs = config['epochs']\n",
    "        self._early_stopping = config['early_stopping']\n",
    "              \n",
    "        self._optimizer = Adam(self._model.parameters(), lr=config['lr'])\n",
    "        self._scheduler = ReduceLROnPlateau(self._optimizer,\n",
    "                                            'min',\n",
    "                                            factor=config['lr_reduce_rate'],\n",
    "                                            patience=config['patience'],\n",
    "                                            verbose=True)\n",
    "        \n",
    "        self._best_loss = float('inf')\n",
    "        self._best_epoch = -1\n",
    "\n",
    "    def fit(self, train_loader, val_loader):\n",
    "        for epoch in range(self._epochs):\n",
    "            self._model.train()\n",
    "            train_loss, train_accuracy = self._run_epoch(epoch, train_loader, is_training=True)\n",
    "            print('Train. loss: {}, accuracy: {}'.format(train_loss, train_accuracy))\n",
    "            \n",
    "            self._model.eval()\n",
    "            val_loss, val_accuracy = self._run_epoch(epoch, val_loader, is_training=False)\n",
    "            print('Validation. loss: {}, accuracy: {}'.format(val_loss, val_accuracy))\n",
    "\n",
    "            self._scheduler.step(val_loss)\n",
    "           \n",
    "            if self._best_loss > val_loss:\n",
    "                self._best_loss = val_loss\n",
    "                self._best_epoch = epoch\n",
    "\n",
    "            if abs(self._best_epoch - epoch) > self._early_stopping:\n",
    "                print('Early stopping. Epoch {}. Best epoch: {}, best {}: {}'.format(epoch, self._best_epoch))\n",
    "                break\n",
    "    \n",
    "    def _run_epoch(self, epoch, loader, is_training):\n",
    "        loss = 0\n",
    "        correct = 0\n",
    "        if is_training:\n",
    "            pbar = tqdm(enumerate(loader), total=len(loader), desc='Epoch {}'.format(epoch))\n",
    "        else:\n",
    "            pbar = enumerate(loader)\n",
    "        \n",
    "        for i, data in pbar:\n",
    "            batch_loss, batch_correct = self._step(data, is_training)\n",
    "            loss += batch_loss\n",
    "            correct += batch_correct\n",
    "\n",
    "        loss /= len(loader)\n",
    "        accuracy = correct / len(loader.dataset)\n",
    "        return loss, accuracy\n",
    "    \n",
    "    def _step(self, data, is_training=True):\n",
    "        metrics_values = {}\n",
    "        images = data[0].to(self._device)\n",
    "        y_true = data[1].to(self._device)\n",
    "\n",
    "        if is_training:\n",
    "            self._optimizer.zero_grad()\n",
    "\n",
    "        with torch.set_grad_enabled(is_training):\n",
    "            y_pred = self._model(images)\n",
    "            y_pred = y_pred.squeeze()\n",
    "            loss = self._criterion(y_pred, y_true)\n",
    "\n",
    "            if is_training:\n",
    "                loss.backward()\n",
    "                self._optimizer.step()\n",
    "            \n",
    "        probas = torch.softmax(y_pred, dim=0)\n",
    "        labels = probas.max(1)[1]\n",
    "        correct = calculate_correct(y_true=y_true, y_pred=labels)\n",
    "        return loss.item(), correct.item()"
   ]
  },
  {
   "cell_type": "code",
   "execution_count": 26,
   "metadata": {},
   "outputs": [],
   "source": [
    "from torch.nn import Module\n",
    "\n",
    "class MNISTModel(Module):\n",
    "    def __init__(self):\n",
    "        super(MNISTModel, self).__init__()\n",
    "        \n",
    "        self.relu = nn.ReLU()\n",
    "        self.max_pool = nn.MaxPool2d((2, 2))\n",
    "        self.avg_pool = nn.AdaptiveAvgPool2d((1, 1))\n",
    "        \n",
    "        self.conv1 = nn.Conv2d(in_channels=1, out_channels=32, kernel_size=(3, 3))\n",
    "        self.conv2 = nn.Conv2d(in_channels=32, out_channels=64, kernel_size=(3, 3))\n",
    "        self.conv3 = nn.Conv2d(in_channels=64, out_channels=128, kernel_size=(3, 3))\n",
    "        self.drop = nn.Dropout2d(p=0.5)\n",
    "\n",
    "        self.classifier = nn.Linear(in_features=128, out_features=10)\n",
    "        \n",
    "    def forward(self, x):\n",
    "        x = self.conv1(x)\n",
    "        x = self.relu(x)\n",
    "        x = self.max_pool(x)\n",
    "        \n",
    "        x = self.conv2(x)\n",
    "        x = self.relu(x)\n",
    "        x = self.max_pool(x)\n",
    "\n",
    "        x = self.conv3(x)\n",
    "        x = self.relu(x)\n",
    "        x = self.avg_pool(x)\n",
    "        x = x.view(x.size(0), -1)\n",
    "        x = self.drop(x)\n",
    "    \n",
    "        x = self.classifier(x)\n",
    "\n",
    "        return x"
   ]
  },
  {
   "cell_type": "code",
   "execution_count": 27,
   "metadata": {},
   "outputs": [],
   "source": [
    "model = MNISTModel()"
   ]
  },
  {
   "cell_type": "code",
   "execution_count": 28,
   "metadata": {},
   "outputs": [],
   "source": [
    "from torch.utils.data import DataLoader\n",
    "from torchvision.datasets import MNIST\n",
    "from torchvision.transforms import Compose, Normalize, ToTensor, RandomRotation\n",
    "\n",
    "batch_size = 64\n",
    "num_workers = 0\n",
    "\n",
    "\n",
    "train_transform = Compose([\n",
    "    RandomRotation(degrees=(-10, 10)),\n",
    "    ToTensor(),\n",
    "    Normalize([0.485, 0.456, 0.406], [0.229, 0.224, 0.225])\n",
    "])\n",
    "train_dataset = MNIST(root='mnist', train=True, download=True, transform=train_transform)\n",
    "train_loader = DataLoader(train_dataset, batch_size, shuffle=True, num_workers=num_workers)\n",
    "\n",
    "val_transform = Compose([\n",
    "    ToTensor(),\n",
    "    Normalize([0.485, 0.456, 0.406], [0.229, 0.224, 0.225])\n",
    "])\n",
    "val_dataset = MNIST(root='mnist', train=False, transform=val_transform)\n",
    "val_loader = DataLoader(val_dataset, batch_size, shuffle=False, num_workers=num_workers)"
   ]
  },
  {
   "cell_type": "code",
   "execution_count": 29,
   "metadata": {},
   "outputs": [
    {
     "data": {
      "application/vnd.jupyter.widget-view+json": {
       "model_id": "0b59402cb9a94083b40c461352fe4481",
       "version_major": 2,
       "version_minor": 0
      },
      "text/plain": [
       "HBox(children=(IntProgress(value=0, description='Epoch 0', max=938), HTML(value='')))"
      ]
     },
     "metadata": {},
     "output_type": "display_data"
    },
    {
     "name": "stdout",
     "output_type": "stream",
     "text": [
      "\n",
      "Train. loss: 0.4698141474745421, accuracy: 0.7310166666666666\n",
      "Validation. loss: 0.08518739551258316, accuracy: 0.9453\n"
     ]
    },
    {
     "data": {
      "application/vnd.jupyter.widget-view+json": {
       "model_id": "621f5fcad4644d1a9b64b7258f5e1823",
       "version_major": 2,
       "version_minor": 0
      },
      "text/plain": [
       "HBox(children=(IntProgress(value=0, description='Epoch 1', max=938), HTML(value='')))"
      ]
     },
     "metadata": {},
     "output_type": "display_data"
    },
    {
     "name": "stdout",
     "output_type": "stream",
     "text": [
      "\n",
      "Train. loss: 0.1538636911449942, accuracy: 0.8352166666666667\n",
      "Validation. loss: 0.044814677256497605, accuracy: 0.965\n"
     ]
    },
    {
     "data": {
      "application/vnd.jupyter.widget-view+json": {
       "model_id": "3a632d611f664c6ca6b28ff996df9228",
       "version_major": 2,
       "version_minor": 0
      },
      "text/plain": [
       "HBox(children=(IntProgress(value=0, description='Epoch 2', max=938), HTML(value='')))"
      ]
     },
     "metadata": {},
     "output_type": "display_data"
    },
    {
     "name": "stdout",
     "output_type": "stream",
     "text": [
      "\n",
      "Train. loss: 0.11120733504157776, accuracy: 0.86045\n",
      "Validation. loss: 0.03931238737170863, accuracy: 0.9694\n"
     ]
    },
    {
     "data": {
      "application/vnd.jupyter.widget-view+json": {
       "model_id": "a11fb4e923fd4968a1120f063a6140c4",
       "version_major": 2,
       "version_minor": 0
      },
      "text/plain": [
       "HBox(children=(IntProgress(value=0, description='Epoch 3', max=938), HTML(value='')))"
      ]
     },
     "metadata": {},
     "output_type": "display_data"
    },
    {
     "name": "stdout",
     "output_type": "stream",
     "text": [
      "\n",
      "Train. loss: 0.08966628759344822, accuracy: 0.874\n",
      "Validation. loss: 0.0326353631866206, accuracy: 0.9717\n"
     ]
    },
    {
     "data": {
      "application/vnd.jupyter.widget-view+json": {
       "model_id": "7e923220f414418e8e38803a48dfa536",
       "version_major": 2,
       "version_minor": 0
      },
      "text/plain": [
       "HBox(children=(IntProgress(value=0, description='Epoch 4', max=938), HTML(value='')))"
      ]
     },
     "metadata": {},
     "output_type": "display_data"
    },
    {
     "name": "stdout",
     "output_type": "stream",
     "text": [
      "\n",
      "Train. loss: 0.07848076227861744, accuracy: 0.8759333333333333\n",
      "Validation. loss: 0.03367219276868614, accuracy: 0.9728\n"
     ]
    },
    {
     "data": {
      "application/vnd.jupyter.widget-view+json": {
       "model_id": "4e14a9dbcd6043e7baa985c8497499e4",
       "version_major": 2,
       "version_minor": 0
      },
      "text/plain": [
       "HBox(children=(IntProgress(value=0, description='Epoch 5', max=938), HTML(value='')))"
      ]
     },
     "metadata": {},
     "output_type": "display_data"
    },
    {
     "name": "stdout",
     "output_type": "stream",
     "text": [
      "\n",
      "Train. loss: 0.06939990083371271, accuracy: 0.8810333333333333\n",
      "Validation. loss: 0.030216456349393364, accuracy: 0.9719\n"
     ]
    },
    {
     "data": {
      "application/vnd.jupyter.widget-view+json": {
       "model_id": "baa37e91245e4cc393b6eba4d226b366",
       "version_major": 2,
       "version_minor": 0
      },
      "text/plain": [
       "HBox(children=(IntProgress(value=0, description='Epoch 6', max=938), HTML(value='')))"
      ]
     },
     "metadata": {},
     "output_type": "display_data"
    },
    {
     "name": "stdout",
     "output_type": "stream",
     "text": [
      "\n",
      "Train. loss: 0.06557267894154228, accuracy: 0.8865166666666666\n",
      "Validation. loss: 0.02797724444205594, accuracy: 0.9761\n"
     ]
    },
    {
     "data": {
      "application/vnd.jupyter.widget-view+json": {
       "model_id": "bce2c5da397944b6a33b3f144faf7f8f",
       "version_major": 2,
       "version_minor": 0
      },
      "text/plain": [
       "HBox(children=(IntProgress(value=0, description='Epoch 7', max=938), HTML(value='')))"
      ]
     },
     "metadata": {},
     "output_type": "display_data"
    },
    {
     "name": "stdout",
     "output_type": "stream",
     "text": [
      "\n",
      "Train. loss: 0.05910745857239786, accuracy: 0.8892666666666666\n",
      "Validation. loss: 0.02738901913450782, accuracy: 0.9784\n"
     ]
    },
    {
     "data": {
      "application/vnd.jupyter.widget-view+json": {
       "model_id": "b4b14412f06c42b3860a866948d867fd",
       "version_major": 2,
       "version_minor": 0
      },
      "text/plain": [
       "HBox(children=(IntProgress(value=0, description='Epoch 8', max=938), HTML(value='')))"
      ]
     },
     "metadata": {},
     "output_type": "display_data"
    },
    {
     "name": "stdout",
     "output_type": "stream",
     "text": [
      "\n",
      "Train. loss: 0.056286177248445785, accuracy: 0.8954333333333333\n",
      "Validation. loss: 0.024355998339878907, accuracy: 0.9763\n"
     ]
    },
    {
     "data": {
      "application/vnd.jupyter.widget-view+json": {
       "model_id": "2e640999535d4a5493f237f15a51d619",
       "version_major": 2,
       "version_minor": 0
      },
      "text/plain": [
       "HBox(children=(IntProgress(value=0, description='Epoch 9', max=938), HTML(value='')))"
      ]
     },
     "metadata": {},
     "output_type": "display_data"
    },
    {
     "name": "stdout",
     "output_type": "stream",
     "text": [
      "\n",
      "Train. loss: 0.05060757528335205, accuracy: 0.8981\n",
      "Validation. loss: 0.022670915136766282, accuracy: 0.9748\n"
     ]
    }
   ],
   "source": [
    "from torch.nn import CrossEntropyLoss\n",
    "\n",
    "config = {\n",
    "    'lr': 1e-3,\n",
    "    'epochs': 10,\n",
    "    'early_stopping': 5,\n",
    "    'lr_reduce_rate': 0.5,\n",
    "    'patience': 3\n",
    "}\n",
    "\n",
    "trainer = MNISTTrainer(model, CrossEntropyLoss(), config, device='cuda')\n",
    "trainer.fit(train_loader, val_loader)"
   ]
  },
  {
   "cell_type": "code",
   "execution_count": null,
   "metadata": {},
   "outputs": [],
   "source": []
  }
 ],
 "metadata": {
  "kernelspec": {
   "display_name": "Python 3",
   "language": "python",
   "name": "python3"
  },
  "language_info": {
   "codemirror_mode": {
    "name": "ipython",
    "version": 3
   },
   "file_extension": ".py",
   "mimetype": "text/x-python",
   "name": "python",
   "nbconvert_exporter": "python",
   "pygments_lexer": "ipython3",
   "version": "3.6.3"
  }
 },
 "nbformat": 4,
 "nbformat_minor": 2
}
